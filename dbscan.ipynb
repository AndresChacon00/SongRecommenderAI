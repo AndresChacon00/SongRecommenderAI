{
 "cells": [
  {
   "cell_type": "markdown",
   "id": "e9b9c76d",
   "metadata": {},
   "source": [
    "# Análisis Exploratorio de Datos\n"
   ]
  },
  {
   "cell_type": "markdown",
   "id": "2f964d3f",
   "metadata": {},
   "source": [
    "## Importacion de librerias\n"
   ]
  },
  {
   "cell_type": "code",
   "execution_count": 1,
   "id": "3adabbdf",
   "metadata": {},
   "outputs": [],
   "source": [
    "import numpy as np\n",
    "import pandas as pd"
   ]
  },
  {
   "cell_type": "markdown",
   "id": "9eb93f97",
   "metadata": {},
   "source": [
    "## Cargar datos\n"
   ]
  },
  {
   "cell_type": "code",
   "execution_count": 2,
   "id": "c480a4e5",
   "metadata": {},
   "outputs": [
    {
     "name": "stdout",
     "output_type": "stream",
     "text": [
      "<class 'pandas.core.frame.DataFrame'>\n",
      "RangeIndex: 80231 entries, 0 to 80230\n",
      "Data columns (total 19 columns):\n",
      " #   Column            Non-Null Count  Dtype  \n",
      "---  ------            --------------  -----  \n",
      " 0   genre             80231 non-null  object \n",
      " 1   artist_name       80231 non-null  object \n",
      " 2   track_name        80231 non-null  object \n",
      " 3   track_id          80231 non-null  object \n",
      " 4   popularity        80231 non-null  int64  \n",
      " 5   acousticness      80231 non-null  float64\n",
      " 6   danceability      80231 non-null  float64\n",
      " 7   duration_ms       80231 non-null  int64  \n",
      " 8   energy            80231 non-null  float64\n",
      " 9   instrumentalness  80231 non-null  float64\n",
      " 10  key               80231 non-null  object \n",
      " 11  liveness          80231 non-null  float64\n",
      " 12  loudness          80231 non-null  float64\n",
      " 13  mode              80231 non-null  object \n",
      " 14  speechiness       80231 non-null  float64\n",
      " 15  tempo             80231 non-null  float64\n",
      " 16  time_signature    80231 non-null  object \n",
      " 17  valence           80231 non-null  float64\n",
      " 18  release_year      80188 non-null  float64\n",
      "dtypes: float64(10), int64(2), object(7)\n",
      "memory usage: 11.6+ MB\n",
      "None\n",
      "  genre    artist_name                                  track_name  \\\n",
      "0   R&B  Mary J. Blige                  Be Without You - Kendu Mix   \n",
      "1   R&B      Yung Bleu  Ice On My Baby (feat. Kevin Gates) - Remix   \n",
      "2   R&B       Surfaces                   Heaven Falls / Fall on Me   \n",
      "3   R&B    Frank Ocean                                   Seigfried   \n",
      "4   R&B  Layton Greene                               Roll In Peace   \n",
      "\n",
      "                 track_id  popularity  acousticness  danceability  \\\n",
      "0  2YegxR5As7BeQuVp2U6pek          65        0.0830         0.724   \n",
      "1  6muW8cSjJ3rusKJ0vH5olw          62        0.0675         0.762   \n",
      "2  7yHqOZfsXYlicyoMt62yC6          61        0.3600         0.563   \n",
      "3  1BViPjTT585XAhkUUrkts0          66        0.9750         0.377   \n",
      "4  33YFwLJbAdgePluIuEVa9p          60        0.7200         0.523   \n",
      "\n",
      "   duration_ms  energy  instrumentalness key  liveness  loudness   mode  \\\n",
      "0       246333   0.689          0.000000   D    0.3040    -5.922  Minor   \n",
      "1       199520   0.520          0.000004   F    0.1140    -5.237  Minor   \n",
      "2       240597   0.366          0.002430   B    0.0955    -6.896  Minor   \n",
      "3       334570   0.255          0.000208   E    0.1020   -11.165  Minor   \n",
      "4       170343   0.507          0.000000   G    0.0774    -6.448  Minor   \n",
      "\n",
      "   speechiness    tempo time_signature  valence  release_year  \n",
      "0       0.1350  146.496            4/4   0.6930        2005.0  \n",
      "1       0.0959   75.047            4/4   0.0862        2018.0  \n",
      "2       0.1210   85.352            4/4   0.7680        2018.0  \n",
      "3       0.0387  125.004            5/4   0.3700        2016.0  \n",
      "4       0.2250  140.368            4/4   0.7000        2018.0  \n"
     ]
    }
   ],
   "source": [
    "data = pd.read_csv(\"merged_songs.csv\")\n",
    "print(data.info())\n",
    "\n",
    "print(data.head())"
   ]
  },
  {
   "cell_type": "markdown",
   "id": "4a8ccd4e",
   "metadata": {},
   "source": [
    "- genre: Género musical de la canción.\n",
    "- artist_name: Nombre del artista.\n",
    "- track_name: Nombre de la canción.\n",
    "- track_id: Identificador único de la canción.\n",
    "- popularity: Popularidad de la canción (valor numérico).\n",
    "- acousticness: Medida de cuán acústica es la canción.\n",
    "- danceability: Facilidad para bailar la canción.\n",
    "- duration_ms: Duración de la canción en milisegundos.\n",
    "- energy: Nivel de energía de la canción.\n",
    "- instrumentalness: Probabilidad de que la canción sea instrumental.\n",
    "- key: Tono musical de la canción.\n",
    "- liveness: Presencia de público en la grabación.\n",
    "- loudness: Volumen general de la canción (en decibelios).\n",
    "- mode: Modo musical (mayor o menor).\n",
    "- speechiness: Presencia de palabras habladas en la canción.\n",
    "- tempo: Tempo de la canción (en BPM).\n",
    "- time_signature: Compás de la canción.\n",
    "- valence: Medida de positividad o felicidad transmitida por la canción.\n"
   ]
  },
  {
   "cell_type": "markdown",
   "id": "36fee4a3",
   "metadata": {},
   "source": [
    "## Limpieza de datos\n"
   ]
  },
  {
   "cell_type": "code",
   "execution_count": 3,
   "id": "8fb113d5",
   "metadata": {},
   "outputs": [
    {
     "name": "stdout",
     "output_type": "stream",
     "text": [
      "<class 'pandas.core.frame.DataFrame'>\n",
      "Index: 80188 entries, 0 to 80230\n",
      "Data columns (total 19 columns):\n",
      " #   Column            Non-Null Count  Dtype  \n",
      "---  ------            --------------  -----  \n",
      " 0   genre             80188 non-null  object \n",
      " 1   artist_name       80188 non-null  object \n",
      " 2   track_name        80188 non-null  object \n",
      " 3   track_id          80188 non-null  object \n",
      " 4   popularity        80188 non-null  int64  \n",
      " 5   acousticness      80188 non-null  float64\n",
      " 6   danceability      80188 non-null  float64\n",
      " 7   duration_ms       80188 non-null  int64  \n",
      " 8   energy            80188 non-null  float64\n",
      " 9   instrumentalness  80188 non-null  float64\n",
      " 10  key               80188 non-null  object \n",
      " 11  liveness          80188 non-null  float64\n",
      " 12  loudness          80188 non-null  float64\n",
      " 13  mode              80188 non-null  object \n",
      " 14  speechiness       80188 non-null  float64\n",
      " 15  tempo             80188 non-null  float64\n",
      " 16  time_signature    80188 non-null  object \n",
      " 17  valence           80188 non-null  float64\n",
      " 18  release_year      80188 non-null  float64\n",
      "dtypes: float64(10), int64(2), object(7)\n",
      "memory usage: 12.2+ MB\n",
      "None\n"
     ]
    }
   ],
   "source": [
    "# Eliminar filas con valores nulos en el DataFrame\n",
    "data = data.dropna()\n",
    "print(data.info())"
   ]
  },
  {
   "cell_type": "markdown",
   "id": "5bd7d2bc",
   "metadata": {},
   "source": [
    "\n"
   ]
  },
  {
   "cell_type": "markdown",
   "id": "8a5279ea",
   "metadata": {},
   "source": [
    "### Estadisticas\n"
   ]
  },
  {
   "cell_type": "code",
   "execution_count": 4,
   "id": "083c748c",
   "metadata": {},
   "outputs": [
    {
     "data": {
      "text/html": [
       "<div>\n",
       "<style scoped>\n",
       "    .dataframe tbody tr th:only-of-type {\n",
       "        vertical-align: middle;\n",
       "    }\n",
       "\n",
       "    .dataframe tbody tr th {\n",
       "        vertical-align: top;\n",
       "    }\n",
       "\n",
       "    .dataframe thead th {\n",
       "        text-align: right;\n",
       "    }\n",
       "</style>\n",
       "<table border=\"1\" class=\"dataframe\">\n",
       "  <thead>\n",
       "    <tr style=\"text-align: right;\">\n",
       "      <th></th>\n",
       "      <th>popularity</th>\n",
       "      <th>acousticness</th>\n",
       "      <th>danceability</th>\n",
       "      <th>duration_ms</th>\n",
       "      <th>energy</th>\n",
       "      <th>instrumentalness</th>\n",
       "      <th>liveness</th>\n",
       "      <th>loudness</th>\n",
       "      <th>speechiness</th>\n",
       "      <th>tempo</th>\n",
       "      <th>valence</th>\n",
       "      <th>release_year</th>\n",
       "    </tr>\n",
       "  </thead>\n",
       "  <tbody>\n",
       "    <tr>\n",
       "      <th>count</th>\n",
       "      <td>80188.000000</td>\n",
       "      <td>80188.000000</td>\n",
       "      <td>80188.00000</td>\n",
       "      <td>8.018800e+04</td>\n",
       "      <td>80188.000000</td>\n",
       "      <td>80188.000000</td>\n",
       "      <td>80188.000000</td>\n",
       "      <td>80188.000000</td>\n",
       "      <td>80188.000000</td>\n",
       "      <td>80188.000000</td>\n",
       "      <td>80188.000000</td>\n",
       "      <td>80188.000000</td>\n",
       "    </tr>\n",
       "    <tr>\n",
       "      <th>mean</th>\n",
       "      <td>52.712226</td>\n",
       "      <td>0.253511</td>\n",
       "      <td>0.58063</td>\n",
       "      <td>2.386568e+05</td>\n",
       "      <td>0.632970</td>\n",
       "      <td>0.087359</td>\n",
       "      <td>0.192719</td>\n",
       "      <td>-7.976823</td>\n",
       "      <td>0.089074</td>\n",
       "      <td>120.422591</td>\n",
       "      <td>0.491072</td>\n",
       "      <td>2003.783434</td>\n",
       "    </tr>\n",
       "    <tr>\n",
       "      <th>std</th>\n",
       "      <td>13.045106</td>\n",
       "      <td>0.293533</td>\n",
       "      <td>0.16081</td>\n",
       "      <td>8.670469e+04</td>\n",
       "      <td>0.228086</td>\n",
       "      <td>0.230145</td>\n",
       "      <td>0.159517</td>\n",
       "      <td>4.454062</td>\n",
       "      <td>0.099442</td>\n",
       "      <td>29.612630</td>\n",
       "      <td>0.241504</td>\n",
       "      <td>16.987574</td>\n",
       "    </tr>\n",
       "    <tr>\n",
       "      <th>min</th>\n",
       "      <td>0.000000</td>\n",
       "      <td>0.000001</td>\n",
       "      <td>0.05940</td>\n",
       "      <td>1.880000e+04</td>\n",
       "      <td>0.000707</td>\n",
       "      <td>0.000000</td>\n",
       "      <td>0.009670</td>\n",
       "      <td>-47.046000</td>\n",
       "      <td>0.022300</td>\n",
       "      <td>31.988000</td>\n",
       "      <td>0.000000</td>\n",
       "      <td>0.000000</td>\n",
       "    </tr>\n",
       "    <tr>\n",
       "      <th>25%</th>\n",
       "      <td>44.000000</td>\n",
       "      <td>0.018300</td>\n",
       "      <td>0.47800</td>\n",
       "      <td>1.954000e+05</td>\n",
       "      <td>0.481000</td>\n",
       "      <td>0.000000</td>\n",
       "      <td>0.095700</td>\n",
       "      <td>-9.759000</td>\n",
       "      <td>0.034900</td>\n",
       "      <td>96.281000</td>\n",
       "      <td>0.301000</td>\n",
       "      <td>1997.000000</td>\n",
       "    </tr>\n",
       "    <tr>\n",
       "      <th>50%</th>\n",
       "      <td>53.000000</td>\n",
       "      <td>0.119000</td>\n",
       "      <td>0.58900</td>\n",
       "      <td>2.264670e+05</td>\n",
       "      <td>0.663000</td>\n",
       "      <td>0.000020</td>\n",
       "      <td>0.127000</td>\n",
       "      <td>-6.880000</td>\n",
       "      <td>0.048100</td>\n",
       "      <td>119.815000</td>\n",
       "      <td>0.487000</td>\n",
       "      <td>2009.000000</td>\n",
       "    </tr>\n",
       "    <tr>\n",
       "      <th>75%</th>\n",
       "      <td>62.000000</td>\n",
       "      <td>0.417000</td>\n",
       "      <td>0.69500</td>\n",
       "      <td>2.658670e+05</td>\n",
       "      <td>0.817000</td>\n",
       "      <td>0.005510</td>\n",
       "      <td>0.244000</td>\n",
       "      <td>-5.032000</td>\n",
       "      <td>0.092900</td>\n",
       "      <td>140.010000</td>\n",
       "      <td>0.680000</td>\n",
       "      <td>2016.000000</td>\n",
       "    </tr>\n",
       "    <tr>\n",
       "      <th>max</th>\n",
       "      <td>100.000000</td>\n",
       "      <td>0.996000</td>\n",
       "      <td>0.98700</td>\n",
       "      <td>4.830606e+06</td>\n",
       "      <td>0.999000</td>\n",
       "      <td>0.999000</td>\n",
       "      <td>1.000000</td>\n",
       "      <td>3.744000</td>\n",
       "      <td>0.961000</td>\n",
       "      <td>242.903000</td>\n",
       "      <td>0.992000</td>\n",
       "      <td>2022.000000</td>\n",
       "    </tr>\n",
       "  </tbody>\n",
       "</table>\n",
       "</div>"
      ],
      "text/plain": [
       "         popularity  acousticness  danceability   duration_ms        energy  \\\n",
       "count  80188.000000  80188.000000   80188.00000  8.018800e+04  80188.000000   \n",
       "mean      52.712226      0.253511       0.58063  2.386568e+05      0.632970   \n",
       "std       13.045106      0.293533       0.16081  8.670469e+04      0.228086   \n",
       "min        0.000000      0.000001       0.05940  1.880000e+04      0.000707   \n",
       "25%       44.000000      0.018300       0.47800  1.954000e+05      0.481000   \n",
       "50%       53.000000      0.119000       0.58900  2.264670e+05      0.663000   \n",
       "75%       62.000000      0.417000       0.69500  2.658670e+05      0.817000   \n",
       "max      100.000000      0.996000       0.98700  4.830606e+06      0.999000   \n",
       "\n",
       "       instrumentalness      liveness      loudness   speechiness  \\\n",
       "count      80188.000000  80188.000000  80188.000000  80188.000000   \n",
       "mean           0.087359      0.192719     -7.976823      0.089074   \n",
       "std            0.230145      0.159517      4.454062      0.099442   \n",
       "min            0.000000      0.009670    -47.046000      0.022300   \n",
       "25%            0.000000      0.095700     -9.759000      0.034900   \n",
       "50%            0.000020      0.127000     -6.880000      0.048100   \n",
       "75%            0.005510      0.244000     -5.032000      0.092900   \n",
       "max            0.999000      1.000000      3.744000      0.961000   \n",
       "\n",
       "              tempo       valence  release_year  \n",
       "count  80188.000000  80188.000000  80188.000000  \n",
       "mean     120.422591      0.491072   2003.783434  \n",
       "std       29.612630      0.241504     16.987574  \n",
       "min       31.988000      0.000000      0.000000  \n",
       "25%       96.281000      0.301000   1997.000000  \n",
       "50%      119.815000      0.487000   2009.000000  \n",
       "75%      140.010000      0.680000   2016.000000  \n",
       "max      242.903000      0.992000   2022.000000  "
      ]
     },
     "metadata": {},
     "output_type": "display_data"
    },
    {
     "data": {
      "text/html": [
       "<div>\n",
       "<style scoped>\n",
       "    .dataframe tbody tr th:only-of-type {\n",
       "        vertical-align: middle;\n",
       "    }\n",
       "\n",
       "    .dataframe tbody tr th {\n",
       "        vertical-align: top;\n",
       "    }\n",
       "\n",
       "    .dataframe thead th {\n",
       "        text-align: right;\n",
       "    }\n",
       "</style>\n",
       "<table border=\"1\" class=\"dataframe\">\n",
       "  <thead>\n",
       "    <tr style=\"text-align: right;\">\n",
       "      <th></th>\n",
       "      <th>genre</th>\n",
       "      <th>artist_name</th>\n",
       "      <th>track_name</th>\n",
       "      <th>track_id</th>\n",
       "      <th>key</th>\n",
       "      <th>mode</th>\n",
       "      <th>time_signature</th>\n",
       "    </tr>\n",
       "  </thead>\n",
       "  <tbody>\n",
       "    <tr>\n",
       "      <th>count</th>\n",
       "      <td>80188</td>\n",
       "      <td>80188</td>\n",
       "      <td>80188</td>\n",
       "      <td>80188</td>\n",
       "      <td>80188</td>\n",
       "      <td>80188</td>\n",
       "      <td>80188</td>\n",
       "    </tr>\n",
       "    <tr>\n",
       "      <th>unique</th>\n",
       "      <td>27</td>\n",
       "      <td>7668</td>\n",
       "      <td>45836</td>\n",
       "      <td>52584</td>\n",
       "      <td>12</td>\n",
       "      <td>2</td>\n",
       "      <td>5</td>\n",
       "    </tr>\n",
       "    <tr>\n",
       "      <th>top</th>\n",
       "      <td>Alternative</td>\n",
       "      <td>Drake</td>\n",
       "      <td>Home</td>\n",
       "      <td>6sVQNUvcVFTXvlk3ec0ngd</td>\n",
       "      <td>C</td>\n",
       "      <td>Major</td>\n",
       "      <td>4/4</td>\n",
       "    </tr>\n",
       "    <tr>\n",
       "      <th>freq</th>\n",
       "      <td>9181</td>\n",
       "      <td>396</td>\n",
       "      <td>52</td>\n",
       "      <td>8</td>\n",
       "      <td>9343</td>\n",
       "      <td>52774</td>\n",
       "      <td>73668</td>\n",
       "    </tr>\n",
       "  </tbody>\n",
       "</table>\n",
       "</div>"
      ],
      "text/plain": [
       "              genre artist_name track_name                track_id    key  \\\n",
       "count         80188       80188      80188                   80188  80188   \n",
       "unique           27        7668      45836                   52584     12   \n",
       "top     Alternative       Drake       Home  6sVQNUvcVFTXvlk3ec0ngd      C   \n",
       "freq           9181         396         52                       8   9343   \n",
       "\n",
       "         mode time_signature  \n",
       "count   80188          80188  \n",
       "unique      2              5  \n",
       "top     Major            4/4  \n",
       "freq    52774          73668  "
      ]
     },
     "metadata": {},
     "output_type": "display_data"
    }
   ],
   "source": [
    "# Mostrar estadísticas descriptivas para las variables numéricas\n",
    "display(data.describe())\n",
    "\n",
    "# Mostrar estadísticas para variables categóricas\n",
    "display(data.describe(include=['object']))"
   ]
  },
  {
   "cell_type": "markdown",
   "id": "acb8bf2a",
   "metadata": {},
   "source": [
    "## Visualización\n"
   ]
  },
  {
   "cell_type": "markdown",
   "id": "5853e033",
   "metadata": {},
   "source": [
    "### Correlación\n",
    "\n",
    "Gráfico de la correlación de Pearson de cada variable respecto a la popularidad\n"
   ]
  },
  {
   "cell_type": "code",
   "execution_count": 5,
   "id": "f237f94d",
   "metadata": {},
   "outputs": [
    {
     "data": {
      "image/png": "[encoded data removed]",
      "text/plain": [
       "<Figure size 600x600 with 1 Axes>"
      ]
     },
     "metadata": {},
     "output_type": "display_data"
    }
   ],
   "source": [
    "import matplotlib.pyplot as plt\n",
    "\n",
    "# Calcular la correlación de Pearson de cada variable numérica respecto a 'popularity'\n",
    "correlations = data.corr(numeric_only=True)['popularity'].sort_values(ascending=False)\n",
    "\n",
    "# Excluir la autocorrelación\n",
    "correlations = correlations.drop('popularity')\n",
    "\n",
    "# Graficar las correlaciones\n",
    "plt.figure(figsize=(6, 6))\n",
    "correlations.plot(kind='barh')\n",
    "plt.title('Correlación de Pearson respecto a la Popularidad')\n",
    "plt.ylabel('Coeficiente de correlación')\n",
    "plt.xlabel('Variable')\n",
    "plt.grid(axis='y', linestyle='--', alpha=0.7)\n",
    "plt.tight_layout()\n",
    "plt.show()"
   ]
  },
  {
   "cell_type": "markdown",
   "id": "f28be540",
   "metadata": {},
   "source": [
    "### Cantidad de canciones por década\n"
   ]
  },
  {
   "cell_type": "code",
   "execution_count": 6,
   "id": "8fbc341d",
   "metadata": {},
   "outputs": [
    {
     "data": {
      "image/png": "[encoded data removed]",
      "text/plain": [
       "<Figure size 1000x500 with 1 Axes>"
      ]
     },
     "metadata": {},
     "output_type": "display_data"
    }
   ],
   "source": [
    "# Extraer el año desde el track_id si está codificado, pero normalmente no lo está.\n",
    "# Si hay una columna de año, úsala. Si no, intentemos extraer el año del nombre de la canción o artista (no recomendado).\n",
    "# Supongamos que hay una columna 'release_year' (si no, esto dará error y se debe ajustar según los datos reales).\n",
    "\n",
    "if 'release_year' in data.columns:\n",
    "    canciones_por_anio = data['release_year'].value_counts().sort_index()\n",
    "    \n",
    "    # Agrupar la cantidad de canciones por década\n",
    "    decadas = (canciones_por_anio.index // 10) * 10\n",
    "    canciones_por_decada = canciones_por_anio.groupby(decadas).sum()\n",
    "\n",
    "    plt.figure(figsize=(10, 5))\n",
    "    canciones_por_decada.plot(kind='bar')\n",
    "    plt.title('Cantidad de canciones por década')\n",
    "    plt.xlabel('Década')\n",
    "    plt.ylabel('Cantidad de canciones')\n",
    "    plt.grid(axis='y', linestyle='--', alpha=0.7)\n",
    "    plt.tight_layout()\n",
    "    plt.show()\n",
    "else:\n",
    "    print(\"No existe una columna 'release_year' en el DataFrame.\")"
   ]
  },
  {
   "cell_type": "code",
   "execution_count": 7,
   "id": "9893ac78",
   "metadata": {},
   "outputs": [
    {
     "data": {
      "application/vnd.plotly.v1+json": {
       "config": {
        "plotlyServerURL": "https://plot.ly"
       },
       "data": [
        {
         "hovertemplate": "variable=acousticness<br>release_year=%{x}<br>value=%{y}<extra></extra>",
         "legendgroup": "acousticness",
         "line": {
          "color": "rgb(228,26,28)",
          "dash": "solid"
         },
         "marker": {
          "symbol": "circle"
         },
         "mode": "lines+markers",
         "name": "acousticness",
         "orientation": "v",
         "showlegend": true,
         "type": "scatter",
         "x": {
          "bdata": "AAAAAAAAAAAAAAAAAAyeQAAAAAAAFJ5AAAAAAAAYnkAAAAAAAByeQAAAAAAAIJ5AAAAAAAAknkAAAAAAACieQAAAAAAANJ5AAAAAAAA4nkAAAAAAADyeQAAAAAAAQJ5AAAAAAABEnkAAAAAAAEieQAAAAAAATJ5AAAAAAABUnkAAAAAAAFieQAAAAAAAZJ5AAAAAAABonkAAAAAAAGyeQAAAAAAAcJ5AAAAAAAB0nkAAAAAAAHieQAAAAAAAfJ5AAAAAAACAnkAAAAAAAISeQAAAAAAAiJ5AAAAAAACMnkAAAAAAAJCeQAAAAAAAlJ5AAAAAAACYnkAAAAAAAJyeQAAAAAAAoJ5AAAAAAACknkAAAAAAAKieQAAAAAAArJ5AAAAAAACwnkAAAAAAALSeQAAAAAAAuJ5AAAAAAAC8nkAAAAAAAMCeQAAAAAAAxJ5AAAAAAADInkAAAAAAAMyeQAAAAAAA0J5AAAAAAADUnkAAAAAAANieQAAAAAAA3J5AAAAAAADgnkAAAAAAAOSeQAAAAAAA6J5AAAAAAADsnkAAAAAAAPCeQAAAAAAA9J5AAAAAAAD4nkAAAAAAAPyeQAAAAAAAAJ9AAAAAAAAEn0AAAAAAAAifQAAAAAAADJ9AAAAAAAAQn0AAAAAAABSfQAAAAAAAGJ9AAAAAAAAcn0AAAAAAACCfQAAAAAAAJJ9AAAAAAAAon0AAAAAAACyfQAAAAAAAMJ9AAAAAAAA0n0AAAAAAADifQAAAAAAAPJ9AAAAAAABAn0AAAAAAAESfQAAAAAAASJ9AAAAAAABMn0AAAAAAAFCfQAAAAAAAVJ9AAAAAAABYn0AAAAAAAFyfQAAAAAAAYJ9AAAAAAABkn0AAAAAAAGifQAAAAAAAbJ9AAAAAAABwn0AAAAAAAHSfQAAAAAAAeJ9AAAAAAAB8n0AAAAAAAICfQAAAAAAAhJ9AAAAAAACIn0AAAAAAAIyfQAAAAAAAmJ9A",
          "dtype": "f8"
         },
         "xaxis": "x",
         "y": {
          "bdata": "Rrbz/dR44T9ApN++DpzvP57vp8ZLN+8/MzMzMzMz5z/b+X5qvHTvP5HtfD81Xu8/jZduEoPA4j9LxdmHz7DvP2hEaW/whe0/EoPAyqFF7j91kxgEVg7tP3CEMnpb1u4/CPNE/Rsh7j/b+X5qvHTtP68AuddcSO4/8tJNYhBY7z8wVwLodYfvPyGwcmiR7e0/eDBP1L8R7j+uBNDrDqfjP/XjARRp7e0/g8XhzK/m7D9nKDlTXwDuP1sdEzyYJ+4/x9FZp0xu6T8fGZgCvzPvPyW4Ck47Vew/4L4OnDOi7j8Wt0tKsOrqP7yaeFY0Uuk/JbyLBwG+6T9cLdfdlcroPwcVQvSRgek/p7vA+Vfz6D9fU4v9mwDpP70bVQYHv+Y/TPdj1R+35T+gQoPsq1LiPxRBoWeeCuA/BU0wokBE3j/hRAJWmgzcPx7LnUBJOts/DFiYMIWK2j8pTHpY7OfaP+HoB9uG79o/vvM7n3vJ1z+u8E2+w9TaP/xoRXvTe9k/9vUblMAo1D+4NLfrqxjVP+PheSmB39E/xVl7TOwl0j+wNIvX6tzUP3J/muiaEtg/TECvxLlu0z+erNE8UzDUP5K5lULzNdc/GSje4FHY0z+okHpPeKPUP/Ip6PNTkNM//4TzJLH4zj8Wy5UJrSfWP/8tpRArYdc/uwA6UbxN0j+qKEYd7DvRP4/PY+YnKdE/qYD85nMR0D9MiZW0OmnQP5gUI3rD0NA/zAYv5p3o0D9jKXchBGPQP+bNUPrdos0/2FA2HKuTzT+z9ce6nHnPPzrboWsPl88/2bNcUXPzzT8DL/qAFDzOP4zfkVpG7Ms/T2JPX4rHzT+V7R/LqZLLP6ZLWBVP6so/piVoxtxqyz/7immIus3IP+p0c3v25sg/axs/0SnDyD99XQqSkwTLPytqBeb29Mk/pXFgG0HIyD84Of1Z8DvNP+yrwfMwuco/Ye4wi85Qyj+goKR1XIbJP74s7dRcbqA/",
          "dtype": "f8"
         },
         "yaxis": "y"
        },
        {
         "hovertemplate": "variable=danceability<br>release_year=%{x}<br>value=%{y}<extra></extra>",
         "legendgroup": "danceability",
         "line": {
          "color": "rgb(55,126,184)",
          "dash": "solid"
         },
         "marker": {
          "symbol": "circle"
         },
         "mode": "lines+markers",
         "name": "danceability",
         "orientation": "v",
         "showlegend": true,
         "type": "scatter",
         "x": {
          "bdata": "AAAAAAAAAAAAAAAAAAyeQAAAAAAAFJ5AAAAAAAAYnkAAAAAAAByeQAAAAAAAIJ5AAAAAAAAknkAAAAAAACieQAAAAAAANJ5AAAAAAAA4nkAAAAAAADyeQAAAAAAAQJ5AAAAAAABEnkAAAAAAAEieQAAAAAAATJ5AAAAAAABUnkAAAAAAAFieQAAAAAAAZJ5AAAAAAABonkAAAAAAAGyeQAAAAAAAcJ5AAAAAAAB0nkAAAAAAAHieQAAAAAAAfJ5AAAAAAACAnkAAAAAAAISeQAAAAAAAiJ5AAAAAAACMnkAAAAAAAJCeQAAAAAAAlJ5AAAAAAACYnkAAAAAAAJyeQAAAAAAAoJ5AAAAAAACknkAAAAAAAKieQAAAAAAArJ5AAAAAAACwnkAAAAAAALSeQAAAAAAAuJ5AAAAAAAC8nkAAAAAAAMCeQAAAAAAAxJ5AAAAAAADInkAAAAAAAMyeQAAAAAAA0J5AAAAAAADUnkAAAAAAANieQAAAAAAA3J5AAAAAAADgnkAAAAAAAOSeQAAAAAAA6J5AAAAAAADsnkAAAAAAAPCeQAAAAAAA9J5AAAAAAAD4nkAAAAAAAPyeQAAAAAAAAJ9AAAAAAAAEn0AAAAAAAAifQAAAAAAADJ9AAAAAAAAQn0AAAAAAABSfQAAAAAAAGJ9AAAAAAAAcn0AAAAAAACCfQAAAAAAAJJ9AAAAAAAAon0AAAAAAACyfQAAAAAAAMJ9AAAAAAAA0n0AAAAAAADifQAAAAAAAPJ9AAAAAAABAn0AAAAAAAESfQAAAAAAASJ9AAAAAAABMn0AAAAAAAFCfQAAAAAAAVJ9AAAAAAABYn0AAAAAAAFyfQAAAAAAAYJ9AAAAAAABkn0AAAAAAAGifQAAAAAAAbJ9AAAAAAABwn0AAAAAAAHSfQAAAAAAAeJ9AAAAAAAB8n0AAAAAAAICfQAAAAAAAhJ9AAAAAAACIn0AAAAAAAIyfQAAAAAAAmJ9A",
          "dtype": "f8"
         },
         "xaxis": "x",
         "y": {
          "bdata": "VOOlm8Qg0D+Zu5aQD3rmPxsv3SQGgeU/okW28/3U5D/DrgC511zoPy2yne+nxuE/8KfGSzeJ5T/b+X5qvHTTP7pJDAIrh+I/nMQgsHJo2T/+1HjpJjHgPxfZzvdT4+Q/Wx0TPJin5T8ehetRuB7hPwg6baDTBto/MgisHFpk3z+OEUz0d7LSP99PjZduEuE/DXTaQKcN3D8Pp49/5JniP+N3X3I6VdM/JC2VtyOc1j+gGi/dJAbZP2MQWDm0yOE/1f4LRTwW4D99ZGAK/M7UP91eRRih9dk/Zn41Bwjm2D8+fAR2R7/eP4ECUWxUieE/AdNWmwuH3j8VktSP0lDgPxg6E5n0gdw/Kg77CV9M3T+B2jqsSbjfPwRboHQ4qt4/6sDcnveE4D+MjLNwRT3gP5w3GSpm+t8/BPUY1acZ4D95n983t9bgP3vqL4C6yeA/0ZfRqTCs4D8PgSHRtHfgP6DcvJRUb+E/hn1SZjed4T9SlYSplmnhP7BgUmyxJ+E/+C9QFQsh4j8S562gXLDhP+wnpUfdb+I/6DcEEu7p4j/PbS5uds3hP8oyiczxU+E/4HftTXWG4T+4zUvXKPrgPxlNULqrdN8/LKUyM5h34T/HuSSo08/hPxyw1e9mdeE/PlA9vPNI4j8gRcxkTUbhP352HR1GAeA/afDuA6bC4T+wQ6UhkXfhP267xxSYnuI/1Iz3Rq7g4T+hxH2rTtnhPzQENvNxMuM//HyC0QOS4j/MjWWZ/XriP0tlg/Z7HuM/LgZ/Wn854z8bxl61y/rhP953hBPQMuI/GP4Nabxg4j9eGSA1vZDiP/Nmf+2nPOI/cpXxJ+YY4j/7u31dYAfiP008V+itouI/mF2vqXUN4j+IY5ti7GviP3Uphm0fEeI/Yeb5d8KE4j8o8c+3/2riPwnvWU7FuuI/dvBjwkJB4z9rWvb/CHjjP/hklyEo9OM/ZGvnX3ZK5D+G584FomfjP0Ktad5xiuI/",
          "dtype": "f8"
         },
         "yaxis": "y"
        },
        {
         "hovertemplate": "variable=energy<br>release_year=%{x}<br>value=%{y}<extra></extra>",
         "legendgroup": "energy",
         "line": {
          "color": "rgb(77,175,74)",
          "dash": "solid"
         },
         "marker": {
          "symbol": "circle"
         },
         "mode": "lines+markers",
         "name": "energy",
         "orientation": "v",
         "showlegend": true,
         "type": "scatter",
         "x": {
          "bdata": "AAAAAAAAAAAAAAAAAAyeQAAAAAAAFJ5AAAAAAAAYnkAAAAAAAByeQAAAAAAAIJ5AAAAAAAAknkAAAAAAACieQAAAAAAANJ5AAAAAAAA4nkAAAAAAADyeQAAAAAAAQJ5AAAAAAABEnkAAAAAAAEieQAAAAAAATJ5AAAAAAABUnkAAAAAAAFieQAAAAAAAZJ5AAAAAAABonkAAAAAAAGyeQAAAAAAAcJ5AAAAAAAB0nkAAAAAAAHieQAAAAAAAfJ5AAAAAAACAnkAAAAAAAISeQAAAAAAAiJ5AAAAAAACMnkAAAAAAAJCeQAAAAAAAlJ5AAAAAAACYnkAAAAAAAJyeQAAAAAAAoJ5AAAAAAACknkAAAAAAAKieQAAAAAAArJ5AAAAAAACwnkAAAAAAALSeQAAAAAAAuJ5AAAAAAAC8nkAAAAAAAMCeQAAAAAAAxJ5AAAAAAADInkAAAAAAAMyeQAAAAAAA0J5AAAAAAADUnkAAAAAAANieQAAAAAAA3J5AAAAAAADgnkAAAAAAAOSeQAAAAAAA6J5AAAAAAADsnkAAAAAAAPCeQAAAAAAA9J5AAAAAAAD4nkAAAAAAAPyeQAAAAAAAAJ9AAAAAAAAEn0AAAAAAAAifQAAAAAAADJ9AAAAAAAAQn0AAAAAAABSfQAAAAAAAGJ9AAAAAAAAcn0AAAAAAACCfQAAAAAAAJJ9AAAAAAAAon0AAAAAAACyfQAAAAAAAMJ9AAAAAAAA0n0AAAAAAADifQAAAAAAAPJ9AAAAAAABAn0AAAAAAAESfQAAAAAAASJ9AAAAAAABMn0AAAAAAAFCfQAAAAAAAVJ9AAAAAAABYn0AAAAAAAFyfQAAAAAAAYJ9AAAAAAABkn0AAAAAAAGifQAAAAAAAbJ9AAAAAAABwn0AAAAAAAHSfQAAAAAAAeJ9AAAAAAAB8n0AAAAAAAICfQAAAAAAAhJ9AAAAAAACIn0AAAAAAAIyfQAAAAAAAmJ9A",
          "dtype": "f8"
         },
         "xaxis": "x",
         "y": {
          "bdata": "001iEFg51D/aA63AkNW9PycxCKwcWtA/4C2QoPgxtj+vuZA0peLUP7IubqMBvMU/VOOlm8Qg2D+o6Egu/yG9PyQrvwzGiMw/oBov3SQGwT8K16NwPQrHP3XdblzZGMQ/0QDeAgmKxj9I4XoUrkfNP90kBoGVQ8s/f2q8dJMYxD+IWAH/FqG5P0mdgCbChrc/PQep7qSYzj8KGrX/QhHXP1bR/Mg5jsY/88e0No3txT/hQrR1JdbDPx/xPqGxCc8/Lix70Zy40z+6do9Z41m/P3wljUQ6nsw/YYcx6e+lxD+SSoc+fFLTP+ZBGAOc/NM/FUi5GWCa0z/wU/PBbLrUP6gXLd5T6tQ/hnhZJFXr0z/XBtizuYjVP7vrwIuLB9g/28N5iaS22T9/+zpwzojeP+znjwSNi94/eS/f3hQJ3j+aD13hRJzdP1vleUNDOt4/3qDZdthI4D92twXfeQfgP8GcZpNlD+A/C2pFzCab4T9nWv2oUQTgP495+0NwQOE/oku7jfP24T+VjM+autzhP/4yBL772eE/axA8OJB54j/M3SsKNIziP2/yArVtTOE/Woe1vb3W4T8//QnZEnbiP6rESBEt6eA/83/Bww7w4j9/w3TZ1F7jP84H2hOAV+M/6lJeePFH4z+vQrEruwPiP8i/6NeeluA/hQUN7KqN4j8wk5ZLbQ/jP8eUh5oC9+E/BmDK48Ex4z9eF+gtptHiPz26uqqwBuM/0Z8wq1Ip4z/jsfLmxzfkP5L4f84MzuQ/Qrm7WU/75D93YETCLHLkPzSOmKP9u+Q/ukoLlmgi5T/m42nl42nlP6IQUjTKWOU/9/Qpc1mR5T8Uu2zoNPblP98xfjaL/OU/Esm3tEYy5j9lAL0pCVHmP+YHjacSXuY/YPEcpS0i5j9tsnHSu23lP8L/u2r5geU/DBjZtDdG5T+WIk8TZZjkPxJAKODGzeQ/eIEMGiAK5T8w5F2r5YflPzXvOEVHcuk/",
          "dtype": "f8"
         },
         "yaxis": "y"
        },
        {
         "hovertemplate": "variable=instrumentalness<br>release_year=%{x}<br>value=%{y}<extra></extra>",
         "legendgroup": "instrumentalness",
         "line": {
          "color": "rgb(152,78,163)",
          "dash": "solid"
         },
         "marker": {
          "symbol": "circle"
         },
         "mode": "lines+markers",
         "name": "instrumentalness",
         "orientation": "v",
         "showlegend": true,
         "type": "scatter",
         "x": {
          "bdata": "AAAAAAAAAAAAAAAAAAyeQAAAAAAAFJ5AAAAAAAAYnkAAAAAAAByeQAAAAAAAIJ5AAAAAAAAknkAAAAAAACieQAAAAAAANJ5AAAAAAAA4nkAAAAAAADyeQAAAAAAAQJ5AAAAAAABEnkAAAAAAAEieQAAAAAAATJ5AAAAAAABUnkAAAAAAAFieQAAAAAAAZJ5AAAAAAABonkAAAAAAAGyeQAAAAAAAcJ5AAAAAAAB0nkAAAAAAAHieQAAAAAAAfJ5AAAAAAACAnkAAAAAAAISeQAAAAAAAiJ5AAAAAAACMnkAAAAAAAJCeQAAAAAAAlJ5AAAAAAACYnkAAAAAAAJyeQAAAAAAAoJ5AAAAAAACknkAAAAAAAKieQAAAAAAArJ5AAAAAAACwnkAAAAAAALSeQAAAAAAAuJ5AAAAAAAC8nkAAAAAAAMCeQAAAAAAAxJ5AAAAAAADInkAAAAAAAMyeQAAAAAAA0J5AAAAAAADUnkAAAAAAANieQAAAAAAA3J5AAAAAAADgnkAAAAAAAOSeQAAAAAAA6J5AAAAAAADsnkAAAAAAAPCeQAAAAAAA9J5AAAAAAAD4nkAAAAAAAPyeQAAAAAAAAJ9AAAAAAAAEn0AAAAAAAAifQAAAAAAADJ9AAAAAAAAQn0AAAAAAABSfQAAAAAAAGJ9AAAAAAAAcn0AAAAAAACCfQAAAAAAAJJ9AAAAAAAAon0AAAAAAACyfQAAAAAAAMJ9AAAAAAAA0n0AAAAAAADifQAAAAAAAPJ9AAAAAAABAn0AAAAAAAESfQAAAAAAASJ9AAAAAAABMn0AAAAAAAFCfQAAAAAAAVJ9AAAAAAABYn0AAAAAAAFyfQAAAAAAAYJ9AAAAAAABkn0AAAAAAAGifQAAAAAAAbJ9AAAAAAABwn0AAAAAAAHSfQAAAAAAAeJ9AAAAAAAB8n0AAAAAAAICfQAAAAAAAhJ9AAAAAAACIn0AAAAAAAIyfQAAAAAAAmJ9A",
          "dtype": "f8"
         },
         "xaxis": "x",
         "y": {
          "bdata": "ycfuAiUF5j7rGi0HeqjHPyEf9GxWfdc/84HTceskET+d76fGSzfhP22AiMOI08k/AAAAAAAAAAABcq+5kDTtP1PwilsiYrs/w/UoXI/CxT+5kKIplrbDPu2ZrCK+P1s/LVFq7YUbUz+6awn5oGfWP0y7qzH7T4E/F9sgag1rrD/t2FCPKtzWPzn5Z+XimFo/FWcfPsOu7D+u2yn9foTAP1To6csNDqs/yq1hL6G1xz9LTFJdGjjEP7vV4VavAOU/Pl8bVXDgzD91MeA/8AveP87LGpZpV8Q/XpDH6I3Owj/WEEuhuYmyP9/Kpl4nm8I/AHGJVGfXtj/eUw6DiUjFP0b46DdhDck/1uXYkKkc1j/WHlNfSBDFP/h0NOdmPsM/lhiq3yZsvj+JPnvaJG2zPzF09G1qf8A/zzPMSK5pwT9q7UQ/vrW9PxEeJikoq8I/KBITdKuovz8EAE04NVC6P03L0deekrs/vWp7ih71tj/molah+CO6P1f4FqP8KcE/uh94B0lqvj/twYlrGDvCP7CfUdnG0rs/1ylnVNubtj80nZTx7YvFP3qvjBBO6ss/nbTQ2VPfwT9PppHae5TLP5xwZiK0Ncw/w9rkaveAwj/5qjLetSzBP0sXa3sCfbU/KrnD2jVhuj8L1lDFVG3EPzp40caNLsU/PYIYEUWxuz+SSW5fd1HCPyijNdsFtMA/55RgknwPvz8kL4X3w5TBPwqBTQu2h7c/qAJyu6RiwT8bMipobXfAP6eevqOby7k/R95OOGWvuz+9BhMk/AnCP9wrxBX3zbk/aR4870sWvD95GLlSxbOzP1ZgYDvtVrY/cN9VGQ7Bsj+HgG3eMDmzP7oyodDbWq4/074pEub0rj/Ig9PALOmzP5JBGPddV7I/3fHsPUairT8JSzHeWI61P1yuPiYM+64/E3VaewOTqj9EpygEjwCxP4MARhGjB6w/oP+Me/IXrD/aETKkISC1P0IhAg6hStU/",
          "dtype": "f8"
         },
         "yaxis": "y"
        },
        {
         "hovertemplate": "variable=liveness<br>release_year=%{x}<br>value=%{y}<extra></extra>",
         "legendgroup": "liveness",
         "line": {
          "color": "rgb(255,127,0)",
          "dash": "solid"
         },
         "marker": {
          "symbol": "circle"
         },
         "mode": "lines+markers",
         "name": "liveness",
         "orientation": "v",
         "showlegend": true,
         "type": "scatter",
         "x": {
          "bdata": "AAAAAAAAAAAAAAAAAAyeQAAAAAAAFJ5AAAAAAAAYnkAAAAAAAByeQAAAAAAAIJ5AAAAAAAAknkAAAAAAACieQAAAAAAANJ5AAAAAAAA4nkAAAAAAADyeQAAAAAAAQJ5AAAAAAABEnkAAAAAAAEieQAAAAAAATJ5AAAAAAABUnkAAAAAAAFieQAAAAAAAZJ5AAAAAAABonkAAAAAAAGyeQAAAAAAAcJ5AAAAAAAB0nkAAAAAAAHieQAAAAAAAfJ5AAAAAAACAnkAAAAAAAISeQAAAAAAAiJ5AAAAAAACMnkAAAAAAAJCeQAAAAAAAlJ5AAAAAAACYnkAAAAAAAJyeQAAAAAAAoJ5AAAAAAACknkAAAAAAAKieQAAAAAAArJ5AAAAAAACwnkAAAAAAALSeQAAAAAAAuJ5AAAAAAAC8nkAAAAAAAMCeQAAAAAAAxJ5AAAAAAADInkAAAAAAAMyeQAAAAAAA0J5AAAAAAADUnkAAAAAAANieQAAAAAAA3J5AAAAAAADgnkAAAAAAAOSeQAAAAAAA6J5AAAAAAADsnkAAAAAAAPCeQAAAAAAA9J5AAAAAAAD4nkAAAAAAAPyeQAAAAAAAAJ9AAAAAAAAEn0AAAAAAAAifQAAAAAAADJ9AAAAAAAAQn0AAAAAAABSfQAAAAAAAGJ9AAAAAAAAcn0AAAAAAACCfQAAAAAAAJJ9AAAAAAAAon0AAAAAAACyfQAAAAAAAMJ9AAAAAAAA0n0AAAAAAADifQAAAAAAAPJ9AAAAAAABAn0AAAAAAAESfQAAAAAAASJ9AAAAAAABMn0AAAAAAAFCfQAAAAAAAVJ9AAAAAAABYn0AAAAAAAFyfQAAAAAAAYJ9AAAAAAABkn0AAAAAAAGifQAAAAAAAbJ9AAAAAAABwn0AAAAAAAHSfQAAAAAAAeJ9AAAAAAAB8n0AAAAAAAICfQAAAAAAAhJ9AAAAAAACIn0AAAAAAAIyfQAAAAAAAmJ9A",
          "dtype": "f8"
         },
         "xaxis": "x",
         "y": {
          "bdata": "VOOlm8QgwD+HhVrTvOPEPzj4wmSqYMA/bxKDwMqhxT+hIItHvE+4Pyo6kst/SMU/c2iR7Xw/1T/HJgzd/9rUP2ZmZmZmZsY/ke18PzVeuj/F/rJ78rCwP4EmwoanV8Q/8BZIUPwYxT/o+6nx0k3SP3OvuZA0pdo/001iEFg5xD/Ia2LC6sy+P1mGONbFbcY/9QMx44BwuD+KKr/LiqTMP2k9n2poJsk/P3RBfcuczj+5T9ncD+LDPwV+Z46/x78/dwGxqTTkzD/iv1PbYLvGP6t4lvK8ccM/HNE96xotxz9ubfWyID3DP8yAAlFs1MI/q6gcLJ/JxT8lhd98WybMP1LIqEVX/Mk/NEU5T+E8zD8vfcc+/4PHP49GvOlxH8g/xFSqG61ryD85X74TTuPKP9K/czUiK8c/O+0YtR9Uxz+ez+55BlPMP7crPOJfysU/efADd5lvyT/2csj9OdbJP+7zI1Nmz8c/PS+3o1jIxT9Pul1kNknGPzd+Ph27m8o/sDpIA5B1yj/MWw6k4xbHPy8sTop+uMo/ejFuvh04yD/jCofRL/rJP42GF7/sKMo/bwsZyJSpyT8DF0zzoLXJP4Dc3OUQZ8k/rToRegfexj9ov9o2GJjIP4JZRWepb8c/bvN5+ZTAyT+ah9Sf40XHP7pRXbFSJMg/ccwE06wLxz8bPZFT8fjJP7ghi2CEz8g/wfXUaWo3yD9G1K5c947IP3BfB84ZUco/u98JyPOuyD9IoYglJjHKP9sF32Wcesg/1L7ELUcUyj9Ev2sd+ebHP7Xsao8AWcg/cWGSLPpoyT9GFyEyadnIP6BtsgE2Jsk/8dFsgNHGyD+lwjilZmTIPx5XEYEpa8g/D8EbZZZJyj/4vaz30W7JP2zNd6nko8o/7ASMbZYqyT8ovrZr5SPJP5JSLX8yocg/0q2eQAUMyD878ScGq1/IPyphjeKT1Mc/tjPnQqrcxz/7r8gbmy3IP2TkLOxph8c/",
          "dtype": "f8"
         },
         "yaxis": "y"
        },
        {
         "hovertemplate": "variable=valence<br>release_year=%{x}<br>value=%{y}<extra></extra>",
         "legendgroup": "valence",
         "line": {
          "color": "rgb(255,255,51)",
          "dash": "solid"
         },
         "marker": {
          "symbol": "circle"
         },
         "mode": "lines+markers",
         "name": "valence",
         "orientation": "v",
         "showlegend": true,
         "type": "scatter",
         "x": {
          "bdata": "AAAAAAAAAAAAAAAAAAyeQAAAAAAAFJ5AAAAAAAAYnkAAAAAAAByeQAAAAAAAIJ5AAAAAAAAknkAAAAAAACieQAAAAAAANJ5AAAAAAAA4nkAAAAAAADyeQAAAAAAAQJ5AAAAAAABEnkAAAAAAAEieQAAAAAAATJ5AAAAAAABUnkAAAAAAAFieQAAAAAAAZJ5AAAAAAABonkAAAAAAAGyeQAAAAAAAcJ5AAAAAAAB0nkAAAAAAAHieQAAAAAAAfJ5AAAAAAACAnkAAAAAAAISeQAAAAAAAiJ5AAAAAAACMnkAAAAAAAJCeQAAAAAAAlJ5AAAAAAACYnkAAAAAAAJyeQAAAAAAAoJ5AAAAAAACknkAAAAAAAKieQAAAAAAArJ5AAAAAAACwnkAAAAAAALSeQAAAAAAAuJ5AAAAAAAC8nkAAAAAAAMCeQAAAAAAAxJ5AAAAAAADInkAAAAAAAMyeQAAAAAAA0J5AAAAAAADUnkAAAAAAANieQAAAAAAA3J5AAAAAAADgnkAAAAAAAOSeQAAAAAAA6J5AAAAAAADsnkAAAAAAAPCeQAAAAAAA9J5AAAAAAAD4nkAAAAAAAPyeQAAAAAAAAJ9AAAAAAAAEn0AAAAAAAAifQAAAAAAADJ9AAAAAAAAQn0AAAAAAABSfQAAAAAAAGJ9AAAAAAAAcn0AAAAAAACCfQAAAAAAAJJ9AAAAAAAAon0AAAAAAACyfQAAAAAAAMJ9AAAAAAAA0n0AAAAAAADifQAAAAAAAPJ9AAAAAAABAn0AAAAAAAESfQAAAAAAASJ9AAAAAAABMn0AAAAAAAFCfQAAAAAAAVJ9AAAAAAABYn0AAAAAAAFyfQAAAAAAAYJ9AAAAAAABkn0AAAAAAAGifQAAAAAAAbJ9AAAAAAABwn0AAAAAAAHSfQAAAAAAAeJ9AAAAAAAB8n0AAAAAAAICfQAAAAAAAhJ9AAAAAAACIn0AAAAAAAIyfQAAAAAAAmJ9A",
          "dtype": "f8"
         },
         "xaxis": "x",
         "y": {
          "bdata": "6SYxCKwcyj8yVTAqqRPgP+F6FK5H4eY/SOF6FK5H4T80peLsw2fsP2q8dJMYBNw/N4lBYOXQ5j/EHYK9nOy5P4i/JmvUQ+A/zczMzMzM1D9I4XoUrkflP97d3d3d3eI/f2q8dJMY3T9GlPYGXxjiPwFyr7mQNOE/eekmMQis1D8+CtejcD3SPzMzMzMzM9U/YzJVMCqpyz9VGnLuswvkP5cWr6du6Ms/TOXtCKcF0z+RoTeeZTXSP2PrLI1yQ9w/AiuHFtnO3z9jQPZ698fDP8zenQPfdtQ/weWxZmSQzz+sl0jEMCvePwEDLrXLJOE/chg4opw+3T+db0lhV1bgP9La+MTYzd0/05G2tPaV2z+LGrE+ek7gPxmogrjXKeE/2acNkwaH4j9mk2rgA7PiPwZvCmMVAeI/qX2AJEmk4T+L/gZAKkDjP3qn5wHpZuI/yFh6U4z94j/AnWIdcx3iP8lb0YBDiuM/Hpnc094B5D8ZBfPyC3rjP2/WRRIjxeI/Cq9S3ZTM4z88EnYRhnHjP7TFBArkXeQ/mv1OoJbk5D/jg73IneDiP7V1LJ68GOM/r9xAaBCw4j8vMCWe1I7iP6bivERVPuA/zBQURnDq4T8Cn+yWnP/hP9ZRi4qfv+E/6PMsrwx94j+vGI+wX9rhP2/NE1fqp90/6rH3NDci4T+/AkjyMM3gPxyca2PGIeE/av8I4jqZ4D/qQMe4g5DfP7d/oBNKveE/6W2ATshq4D/w5i1/BtvgP53in04Ea+E/2vs3uEWA4T8z4rIX8lLgP9L7C8umROA/QZ3PGed/4D9BBQ3zovzgP4IsHAAFm+A/rVxjcIn23z8yAy2KJazfP2VtApYUPOA/hYOMOkmr3z8GhzA2yyLgP6ZYardfwd4/CzH/UA7U3T+aCimMdSrdPw4yjDEiIdw/+Sum7Ovz2z83iZUxFXLbPzhet0MD9ts/UwuzOdi12z+KxI1ApFTdPz7o2az6XN0/",
          "dtype": "f8"
         },
         "yaxis": "y"
        }
       ],
       "layout": {
        "height": 600,
        "legend": {
         "title": {
          "text": "Característica"
         },
         "tracegroupgap": 0
        },
        "margin": {
         "t": 60
        },
        "template": {
         "data": {
          "bar": [
           {
            "error_x": {
             "color": "#2a3f5f"
            },
            "error_y": {
             "color": "#2a3f5f"
            },
            "marker": {
             "line": {
              "color": "white",
              "width": 0.5
             },
             "pattern": {
              "fillmode": "overlay",
              "size": 10,
              "solidity": 0.2
             }
            },
            "type": "bar"
           }
          ],
          "barpolar": [
           {
            "marker": {
             "line": {
              "color": "white",
              "width": 0.5
             },
             "pattern": {
              "fillmode": "overlay",
              "size": 10,
              "solidity": 0.2
             }
            },
            "type": "barpolar"
           }
          ],
          "carpet": [
           {
            "aaxis": {
             "endlinecolor": "#2a3f5f",
             "gridcolor": "#C8D4E3",
             "linecolor": "#C8D4E3",
             "minorgridcolor": "#C8D4E3",
             "startlinecolor": "#2a3f5f"
            },
            "baxis": {
             "endlinecolor": "#2a3f5f",
             "gridcolor": "#C8D4E3",
             "linecolor": "#C8D4E3",
             "minorgridcolor": "#C8D4E3",
             "startlinecolor": "#2a3f5f"
            },
            "type": "carpet"
           }
          ],
          "choropleth": [
           {
            "colorbar": {
             "outlinewidth": 0,
             "ticks": ""
            },
            "type": "choropleth"
           }
          ],
          "contour": [
           {
            "colorbar": {
             "outlinewidth": 0,
             "ticks": ""
            },
            "colorscale": [
             [
              0,
              "#0d0887"
             ],
             [
              0.1111111111111111,
              "#46039f"
             ],
             [
              0.2222222222222222,
              "#7201a8"
             ],
             [
              0.3333333333333333,
              "#9c179e"
             ],
             [
              0.4444444444444444,
              "#bd3786"
             ],
             [
              0.5555555555555556,
              "#d8576b"
             ],
             [
              0.6666666666666666,
              "#ed7953"
             ],
             [
              0.7777777777777778,
              "#fb9f3a"
             ],
             [
              0.8888888888888888,
              "#fdca26"
             ],
             [
              1,
              "#f0f921"
             ]
            ],
            "type": "contour"
           }
          ],
          "contourcarpet": [
           {
            "colorbar": {
             "outlinewidth": 0,
             "ticks": ""
            },
            "type": "contourcarpet"
           }
          ],
          "heatmap": [
           {
            "colorbar": {
             "outlinewidth": 0,
             "ticks": ""
            },
            "colorscale": [
             [
              0,
              "#0d0887"
             ],
             [
              0.1111111111111111,
              "#46039f"
             ],
             [
              0.2222222222222222,
              "#7201a8"
             ],
             [
              0.3333333333333333,
              "#9c179e"
             ],
             [
              0.4444444444444444,
              "#bd3786"
             ],
             [
              0.5555555555555556,
              "#d8576b"
             ],
             [
              0.6666666666666666,
              "#ed7953"
             ],
             [
              0.7777777777777778,
              "#fb9f3a"
             ],
             [
              0.8888888888888888,
              "#fdca26"
             ],
             [
              1,
              "#f0f921"
             ]
            ],
            "type": "heatmap"
           }
          ],
          "histogram": [
           {
            "marker": {
             "pattern": {
              "fillmode": "overlay",
              "size": 10,
              "solidity": 0.2
             }
            },
            "type": "histogram"
           }
          ],
          "histogram2d": [
           {
            "colorbar": {
             "outlinewidth": 0,
             "ticks": ""
            },
            "colorscale": [
             [
              0,
              "#0d0887"
             ],
             [
              0.1111111111111111,
              "#46039f"
             ],
             [
              0.2222222222222222,
              "#7201a8"
             ],
             [
              0.3333333333333333,
              "#9c179e"
             ],
             [
              0.4444444444444444,
              "#bd3786"
             ],
             [
              0.5555555555555556,
              "#d8576b"
             ],
             [
              0.6666666666666666,
              "#ed7953"
             ],
             [
              0.7777777777777778,
              "#fb9f3a"
             ],
             [
              0.8888888888888888,
              "#fdca26"
             ],
             [
              1,
              "#f0f921"
             ]
            ],
            "type": "histogram2d"
           }
          ],
          "histogram2dcontour": [
           {
            "colorbar": {
             "outlinewidth": 0,
             "ticks": ""
            },
            "colorscale": [
             [
              0,
              "#0d0887"
             ],
             [
              0.1111111111111111,
              "#46039f"
             ],
             [
              0.2222222222222222,
              "#7201a8"
             ],
             [
              0.3333333333333333,
              "#9c179e"
             ],
             [
              0.4444444444444444,
              "#bd3786"
             ],
             [
              0.5555555555555556,
              "#d8576b"
             ],
             [
              0.6666666666666666,
              "#ed7953"
             ],
             [
              0.7777777777777778,
              "#fb9f3a"
             ],
             [
              0.8888888888888888,
              "#fdca26"
             ],
             [
              1,
              "#f0f921"
             ]
            ],
            "type": "histogram2dcontour"
           }
          ],
          "mesh3d": [
           {
            "colorbar": {
             "outlinewidth": 0,
             "ticks": ""
            },
            "type": "mesh3d"
           }
          ],
          "parcoords": [
           {
            "line": {
             "colorbar": {
              "outlinewidth": 0,
              "ticks": ""
             }
            },
            "type": "parcoords"
           }
          ],
          "pie": [
           {
            "automargin": true,
            "type": "pie"
           }
          ],
          "scatter": [
           {
            "fillpattern": {
             "fillmode": "overlay",
             "size": 10,
             "solidity": 0.2
            },
            "type": "scatter"
           }
          ],
          "scatter3d": [
           {
            "line": {
             "colorbar": {
              "outlinewidth": 0,
              "ticks": ""
             }
            },
            "marker": {
             "colorbar": {
              "outlinewidth": 0,
              "ticks": ""
             }
            },
            "type": "scatter3d"
           }
          ],
          "scattercarpet": [
           {
            "marker": {
             "colorbar": {
              "outlinewidth": 0,
              "ticks": ""
             }
            },
            "type": "scattercarpet"
           }
          ],
          "scattergeo": [
           {
            "marker": {
             "colorbar": {
              "outlinewidth": 0,
              "ticks": ""
             }
            },
            "type": "scattergeo"
           }
          ],
          "scattergl": [
           {
            "marker": {
             "colorbar": {
              "outlinewidth": 0,
              "ticks": ""
             }
            },
            "type": "scattergl"
           }
          ],
          "scattermap": [
           {
            "marker": {
             "colorbar": {
              "outlinewidth": 0,
              "ticks": ""
             }
            },
            "type": "scattermap"
           }
          ],
          "scattermapbox": [
           {
            "marker": {
             "colorbar": {
              "outlinewidth": 0,
              "ticks": ""
             }
            },
            "type": "scattermapbox"
           }
          ],
          "scatterpolar": [
           {
            "marker": {
             "colorbar": {
              "outlinewidth": 0,
              "ticks": ""
             }
            },
            "type": "scatterpolar"
           }
          ],
          "scatterpolargl": [
           {
            "marker": {
             "colorbar": {
              "outlinewidth": 0,
              "ticks": ""
             }
            },
            "type": "scatterpolargl"
           }
          ],
          "scatterternary": [
           {
            "marker": {
             "colorbar": {
              "outlinewidth": 0,
              "ticks": ""
             }
            },
            "type": "scatterternary"
           }
          ],
          "surface": [
           {
            "colorbar": {
             "outlinewidth": 0,
             "ticks": ""
            },
            "colorscale": [
             [
              0,
              "#0d0887"
             ],
             [
              0.1111111111111111,
              "#46039f"
             ],
             [
              0.2222222222222222,
              "#7201a8"
             ],
             [
              0.3333333333333333,
              "#9c179e"
             ],
             [
              0.4444444444444444,
              "#bd3786"
             ],
             [
              0.5555555555555556,
              "#d8576b"
             ],
             [
              0.6666666666666666,
              "#ed7953"
             ],
             [
              0.7777777777777778,
              "#fb9f3a"
             ],
             [
              0.8888888888888888,
              "#fdca26"
             ],
             [
              1,
              "#f0f921"
             ]
            ],
            "type": "surface"
           }
          ],
          "table": [
           {
            "cells": {
             "fill": {
              "color": "#EBF0F8"
             },
             "line": {
              "color": "white"
             }
            },
            "header": {
             "fill": {
              "color": "#C8D4E3"
             },
             "line": {
              "color": "white"
             }
            },
            "type": "table"
           }
          ]
         },
         "layout": {
          "annotationdefaults": {
           "arrowcolor": "#2a3f5f",
           "arrowhead": 0,
           "arrowwidth": 1
          },
          "autotypenumbers": "strict",
          "coloraxis": {
           "colorbar": {
            "outlinewidth": 0,
            "ticks": ""
           }
          },
          "colorscale": {
           "diverging": [
            [
             0,
             "#8e0152"
            ],
            [
             0.1,
             "#c51b7d"
            ],
            [
             0.2,
             "#de77ae"
            ],
            [
             0.3,
             "#f1b6da"
            ],
            [
             0.4,
             "#fde0ef"
            ],
            [
             0.5,
             "#f7f7f7"
            ],
            [
             0.6,
             "#e6f5d0"
            ],
            [
             0.7,
             "#b8e186"
            ],
            [
             0.8,
             "#7fbc41"
            ],
            [
             0.9,
             "#4d9221"
            ],
            [
             1,
             "#276419"
            ]
           ],
           "sequential": [
            [
             0,
             "#0d0887"
            ],
            [
             0.1111111111111111,
             "#46039f"
            ],
            [
             0.2222222222222222,
             "#7201a8"
            ],
            [
             0.3333333333333333,
             "#9c179e"
            ],
            [
             0.4444444444444444,
             "#bd3786"
            ],
            [
             0.5555555555555556,
             "#d8576b"
            ],
            [
             0.6666666666666666,
             "#ed7953"
            ],
            [
             0.7777777777777778,
             "#fb9f3a"
            ],
            [
             0.8888888888888888,
             "#fdca26"
            ],
            [
             1,
             "#f0f921"
            ]
           ],
           "sequentialminus": [
            [
             0,
             "#0d0887"
            ],
            [
             0.1111111111111111,
             "#46039f"
            ],
            [
             0.2222222222222222,
             "#7201a8"
            ],
            [
             0.3333333333333333,
             "#9c179e"
            ],
            [
             0.4444444444444444,
             "#bd3786"
            ],
            [
             0.5555555555555556,
             "#d8576b"
            ],
            [
             0.6666666666666666,
             "#ed7953"
            ],
            [
             0.7777777777777778,
             "#fb9f3a"
            ],
            [
             0.8888888888888888,
             "#fdca26"
            ],
            [
             1,
             "#f0f921"
            ]
           ]
          },
          "colorway": [
           "#636efa",
           "#EF553B",
           "#00cc96",
           "#ab63fa",
           "#FFA15A",
           "#19d3f3",
           "#FF6692",
           "#B6E880",
           "#FF97FF",
           "#FECB52"
          ],
          "font": {
           "color": "#2a3f5f"
          },
          "geo": {
           "bgcolor": "white",
           "lakecolor": "white",
           "landcolor": "white",
           "showlakes": true,
           "showland": true,
           "subunitcolor": "#C8D4E3"
          },
          "hoverlabel": {
           "align": "left"
          },
          "hovermode": "closest",
          "mapbox": {
           "style": "light"
          },
          "paper_bgcolor": "white",
          "plot_bgcolor": "white",
          "polar": {
           "angularaxis": {
            "gridcolor": "#EBF0F8",
            "linecolor": "#EBF0F8",
            "ticks": ""
           },
           "bgcolor": "white",
           "radialaxis": {
            "gridcolor": "#EBF0F8",
            "linecolor": "#EBF0F8",
            "ticks": ""
           }
          },
          "scene": {
           "xaxis": {
            "backgroundcolor": "white",
            "gridcolor": "#DFE8F3",
            "gridwidth": 2,
            "linecolor": "#EBF0F8",
            "showbackground": true,
            "ticks": "",
            "zerolinecolor": "#EBF0F8"
           },
           "yaxis": {
            "backgroundcolor": "white",
            "gridcolor": "#DFE8F3",
            "gridwidth": 2,
            "linecolor": "#EBF0F8",
            "showbackground": true,
            "ticks": "",
            "zerolinecolor": "#EBF0F8"
           },
           "zaxis": {
            "backgroundcolor": "white",
            "gridcolor": "#DFE8F3",
            "gridwidth": 2,
            "linecolor": "#EBF0F8",
            "showbackground": true,
            "ticks": "",
            "zerolinecolor": "#EBF0F8"
           }
          },
          "shapedefaults": {
           "line": {
            "color": "#2a3f5f"
           }
          },
          "ternary": {
           "aaxis": {
            "gridcolor": "#DFE8F3",
            "linecolor": "#A2B1C6",
            "ticks": ""
           },
           "baxis": {
            "gridcolor": "#DFE8F3",
            "linecolor": "#A2B1C6",
            "ticks": ""
           },
           "bgcolor": "white",
           "caxis": {
            "gridcolor": "#DFE8F3",
            "linecolor": "#A2B1C6",
            "ticks": ""
           }
          },
          "title": {
           "x": 0.05
          },
          "xaxis": {
           "automargin": true,
           "gridcolor": "#EBF0F8",
           "linecolor": "#EBF0F8",
           "ticks": "",
           "title": {
            "standoff": 15
           },
           "zerolinecolor": "#EBF0F8",
           "zerolinewidth": 2
          },
          "yaxis": {
           "automargin": true,
           "gridcolor": "#EBF0F8",
           "linecolor": "#EBF0F8",
           "ticks": "",
           "title": {
            "standoff": 15
           },
           "zerolinecolor": "#EBF0F8",
           "zerolinewidth": 2
          }
         }
        },
        "title": {
         "text": "Promedio de características de sonido por año"
        },
        "width": 1000,
        "xaxis": {
         "anchor": "y",
         "domain": [
          0,
          1
         ],
         "title": {
          "text": "Año"
         }
        },
        "yaxis": {
         "anchor": "x",
         "domain": [
          0,
          1
         ],
         "title": {
          "text": "Valor promedio"
         }
        }
       }
      }
     },
     "metadata": {},
     "output_type": "display_data"
    }
   ],
   "source": [
    "# Graficar el promedio de varias características de sonido por año\n",
    "import plotly.express as px\n",
    "sound_features = ['acousticness', 'danceability', 'energy', 'instrumentalness', 'liveness', 'valence']\n",
    "if 'release_year' in data.columns:\n",
    "    df_avg = data.groupby('release_year')[sound_features].mean().reset_index()\n",
    "    fig = px.line(\n",
    "        df_avg,\n",
    "        x='release_year',\n",
    "        y=sound_features,\n",
    "        markers=True,\n",
    "        width=1000,\n",
    "        height=600,\n",
    "        color_discrete_sequence=px.colors.qualitative.Set1\n",
    "    )\n",
    "    fig.update_layout(\n",
    "        title='Promedio de características de sonido por año',\n",
    "        xaxis_title='Año',\n",
    "        yaxis_title='Valor promedio',\n",
    "        legend_title='Característica',\n",
    "        template='plotly_white'\n",
    "    )\n",
    "    fig.show()\n",
    "else:\n",
    "    print(\"No existe una columna 'release_year' en el DataFrame.\")"
   ]
  },
  {
   "cell_type": "code",
   "execution_count": 8,
   "id": "b6a8cfe9",
   "metadata": {},
   "outputs": [
    {
     "data": {
      "application/vnd.plotly.v1+json": {
       "config": {
        "plotlyServerURL": "https://plot.ly"
       },
       "data": [
        {
         "alignmentgroup": "True",
         "hovertemplate": "variable=valence<br>genre=%{x}<br>value=%{y}<extra></extra>",
         "legendgroup": "valence",
         "marker": {
          "color": "#636efa",
          "pattern": {
           "shape": ""
          }
         },
         "name": "valence",
         "offsetgroup": "valence",
         "orientation": "v",
         "showlegend": true,
         "textposition": "auto",
         "type": "bar",
         "x": [
          "Pop",
          "Rap",
          "Hip-Hop",
          "Reggaeton",
          "Rock",
          "Indie",
          "R&B",
          "Dance",
          "Children’s Music",
          "Folk"
         ],
         "xaxis": "x",
         "y": {
          "bdata": "snb5fc8r3z91jEQQAzveP96b/dGVReA/quRvv4my5T9K008nF/vgP7/nCZ2nuNw/TOpBnlOJ3z9Qrw6yL5bgPza78QC+5N0/ZX4IDVhv4D8=",
          "dtype": "f8"
         },
         "yaxis": "y"
        },
        {
         "alignmentgroup": "True",
         "hovertemplate": "variable=energy<br>genre=%{x}<br>value=%{y}<extra></extra>",
         "legendgroup": "energy",
         "marker": {
          "color": "#EF553B",
          "pattern": {
           "shape": ""
          }
         },
         "name": "energy",
         "offsetgroup": "energy",
         "orientation": "v",
         "showlegend": true,
         "textposition": "auto",
         "type": "bar",
         "x": [
          "Pop",
          "Rap",
          "Hip-Hop",
          "Reggaeton",
          "Rock",
          "Indie",
          "R&B",
          "Dance",
          "Children’s Music",
          "Folk"
         ],
         "xaxis": "x",
         "y": {
          "bdata": "DiPDU4Cx5D+RKvKE5X/lP4DNvReNCOU/ewdLuQgd6D+7zDsf/+XlPwVmi19mUuM/RwlKCHzA4j/zY14VqFnmP+zwfkh6sec/LtfBYUE94D8=",
          "dtype": "f8"
         },
         "yaxis": "y"
        },
        {
         "alignmentgroup": "True",
         "hovertemplate": "variable=danceability<br>genre=%{x}<br>value=%{y}<extra></extra>",
         "legendgroup": "danceability",
         "marker": {
          "color": "#00cc96",
          "pattern": {
           "shape": ""
          }
         },
         "name": "danceability",
         "offsetgroup": "danceability",
         "orientation": "v",
         "showlegend": true,
         "textposition": "auto",
         "type": "bar",
         "x": [
          "Pop",
          "Rap",
          "Hip-Hop",
          "Reggaeton",
          "Rock",
          "Indie",
          "R&B",
          "Dance",
          "Children’s Music",
          "Folk"
         ],
         "xaxis": "x",
         "y": {
          "bdata": "UVFALPpG5D80AhS9DMzlP8z+imK/zeY/FNYYjYoL6D/h46iqSyvhP9qyp+yYj+E/rQEz4O7i5D8S1Ai7dnDkP2TZLanNzeA/qm8212g94T8=",
          "dtype": "f8"
         },
         "yaxis": "y"
        },
        {
         "alignmentgroup": "True",
         "hovertemplate": "variable=acousticness<br>genre=%{x}<br>value=%{y}<extra></extra>",
         "legendgroup": "acousticness",
         "marker": {
          "color": "#ab63fa",
          "pattern": {
           "shape": ""
          }
         },
         "name": "acousticness",
         "offsetgroup": "acousticness",
         "orientation": "v",
         "showlegend": true,
         "textposition": "auto",
         "type": "bar",
         "x": [
          "Pop",
          "Rap",
          "Hip-Hop",
          "Reggaeton",
          "Rock",
          "Indie",
          "R&B",
          "Dance",
          "Children’s Music",
          "Folk"
         ],
         "xaxis": "x",
         "y": {
          "bdata": "EyL3V/DRyz9Qq9Qo3t/DP+O555/NZcU/hcrb8HxZyj/pqF1XSqvIP6FiWSMje9M/9w4Lnxs7zz+KiwkeWYbDP1yfnvegiL8/7Lh0Qm3m2z8=",
          "dtype": "f8"
         },
         "yaxis": "y"
        }
       ],
       "layout": {
        "barmode": "group",
        "legend": {
         "title": {
          "text": "Característica"
         },
         "tracegroupgap": 0
        },
        "template": {
         "data": {
          "bar": [
           {
            "error_x": {
             "color": "#2a3f5f"
            },
            "error_y": {
             "color": "#2a3f5f"
            },
            "marker": {
             "line": {
              "color": "white",
              "width": 0.5
             },
             "pattern": {
              "fillmode": "overlay",
              "size": 10,
              "solidity": 0.2
             }
            },
            "type": "bar"
           }
          ],
          "barpolar": [
           {
            "marker": {
             "line": {
              "color": "white",
              "width": 0.5
             },
             "pattern": {
              "fillmode": "overlay",
              "size": 10,
              "solidity": 0.2
             }
            },
            "type": "barpolar"
           }
          ],
          "carpet": [
           {
            "aaxis": {
             "endlinecolor": "#2a3f5f",
             "gridcolor": "#C8D4E3",
             "linecolor": "#C8D4E3",
             "minorgridcolor": "#C8D4E3",
             "startlinecolor": "#2a3f5f"
            },
            "baxis": {
             "endlinecolor": "#2a3f5f",
             "gridcolor": "#C8D4E3",
             "linecolor": "#C8D4E3",
             "minorgridcolor": "#C8D4E3",
             "startlinecolor": "#2a3f5f"
            },
            "type": "carpet"
           }
          ],
          "choropleth": [
           {
            "colorbar": {
             "outlinewidth": 0,
             "ticks": ""
            },
            "type": "choropleth"
           }
          ],
          "contour": [
           {
            "colorbar": {
             "outlinewidth": 0,
             "ticks": ""
            },
            "colorscale": [
             [
              0,
              "#0d0887"
             ],
             [
              0.1111111111111111,
              "#46039f"
             ],
             [
              0.2222222222222222,
              "#7201a8"
             ],
             [
              0.3333333333333333,
              "#9c179e"
             ],
             [
              0.4444444444444444,
              "#bd3786"
             ],
             [
              0.5555555555555556,
              "#d8576b"
             ],
             [
              0.6666666666666666,
              "#ed7953"
             ],
             [
              0.7777777777777778,
              "#fb9f3a"
             ],
             [
              0.8888888888888888,
              "#fdca26"
             ],
             [
              1,
              "#f0f921"
             ]
            ],
            "type": "contour"
           }
          ],
          "contourcarpet": [
           {
            "colorbar": {
             "outlinewidth": 0,
             "ticks": ""
            },
            "type": "contourcarpet"
           }
          ],
          "heatmap": [
           {
            "colorbar": {
             "outlinewidth": 0,
             "ticks": ""
            },
            "colorscale": [
             [
              0,
              "#0d0887"
             ],
             [
              0.1111111111111111,
              "#46039f"
             ],
             [
              0.2222222222222222,
              "#7201a8"
             ],
             [
              0.3333333333333333,
              "#9c179e"
             ],
             [
              0.4444444444444444,
              "#bd3786"
             ],
             [
              0.5555555555555556,
              "#d8576b"
             ],
             [
              0.6666666666666666,
              "#ed7953"
             ],
             [
              0.7777777777777778,
              "#fb9f3a"
             ],
             [
              0.8888888888888888,
              "#fdca26"
             ],
             [
              1,
              "#f0f921"
             ]
            ],
            "type": "heatmap"
           }
          ],
          "histogram": [
           {
            "marker": {
             "pattern": {
              "fillmode": "overlay",
              "size": 10,
              "solidity": 0.2
             }
            },
            "type": "histogram"
           }
          ],
          "histogram2d": [
           {
            "colorbar": {
             "outlinewidth": 0,
             "ticks": ""
            },
            "colorscale": [
             [
              0,
              "#0d0887"
             ],
             [
              0.1111111111111111,
              "#46039f"
             ],
             [
              0.2222222222222222,
              "#7201a8"
             ],
             [
              0.3333333333333333,
              "#9c179e"
             ],
             [
              0.4444444444444444,
              "#bd3786"
             ],
             [
              0.5555555555555556,
              "#d8576b"
             ],
             [
              0.6666666666666666,
              "#ed7953"
             ],
             [
              0.7777777777777778,
              "#fb9f3a"
             ],
             [
              0.8888888888888888,
              "#fdca26"
             ],
             [
              1,
              "#f0f921"
             ]
            ],
            "type": "histogram2d"
           }
          ],
          "histogram2dcontour": [
           {
            "colorbar": {
             "outlinewidth": 0,
             "ticks": ""
            },
            "colorscale": [
             [
              0,
              "#0d0887"
             ],
             [
              0.1111111111111111,
              "#46039f"
             ],
             [
              0.2222222222222222,
              "#7201a8"
             ],
             [
              0.3333333333333333,
              "#9c179e"
             ],
             [
              0.4444444444444444,
              "#bd3786"
             ],
             [
              0.5555555555555556,
              "#d8576b"
             ],
             [
              0.6666666666666666,
              "#ed7953"
             ],
             [
              0.7777777777777778,
              "#fb9f3a"
             ],
             [
              0.8888888888888888,
              "#fdca26"
             ],
             [
              1,
              "#f0f921"
             ]
            ],
            "type": "histogram2dcontour"
           }
          ],
          "mesh3d": [
           {
            "colorbar": {
             "outlinewidth": 0,
             "ticks": ""
            },
            "type": "mesh3d"
           }
          ],
          "parcoords": [
           {
            "line": {
             "colorbar": {
              "outlinewidth": 0,
              "ticks": ""
             }
            },
            "type": "parcoords"
           }
          ],
          "pie": [
           {
            "automargin": true,
            "type": "pie"
           }
          ],
          "scatter": [
           {
            "fillpattern": {
             "fillmode": "overlay",
             "size": 10,
             "solidity": 0.2
            },
            "type": "scatter"
           }
          ],
          "scatter3d": [
           {
            "line": {
             "colorbar": {
              "outlinewidth": 0,
              "ticks": ""
             }
            },
            "marker": {
             "colorbar": {
              "outlinewidth": 0,
              "ticks": ""
             }
            },
            "type": "scatter3d"
           }
          ],
          "scattercarpet": [
           {
            "marker": {
             "colorbar": {
              "outlinewidth": 0,
              "ticks": ""
             }
            },
            "type": "scattercarpet"
           }
          ],
          "scattergeo": [
           {
            "marker": {
             "colorbar": {
              "outlinewidth": 0,
              "ticks": ""
             }
            },
            "type": "scattergeo"
           }
          ],
          "scattergl": [
           {
            "marker": {
             "colorbar": {
              "outlinewidth": 0,
              "ticks": ""
             }
            },
            "type": "scattergl"
           }
          ],
          "scattermap": [
           {
            "marker": {
             "colorbar": {
              "outlinewidth": 0,
              "ticks": ""
             }
            },
            "type": "scattermap"
           }
          ],
          "scattermapbox": [
           {
            "marker": {
             "colorbar": {
              "outlinewidth": 0,
              "ticks": ""
             }
            },
            "type": "scattermapbox"
           }
          ],
          "scatterpolar": [
           {
            "marker": {
             "colorbar": {
              "outlinewidth": 0,
              "ticks": ""
             }
            },
            "type": "scatterpolar"
           }
          ],
          "scatterpolargl": [
           {
            "marker": {
             "colorbar": {
              "outlinewidth": 0,
              "ticks": ""
             }
            },
            "type": "scatterpolargl"
           }
          ],
          "scatterternary": [
           {
            "marker": {
             "colorbar": {
              "outlinewidth": 0,
              "ticks": ""
             }
            },
            "type": "scatterternary"
           }
          ],
          "surface": [
           {
            "colorbar": {
             "outlinewidth": 0,
             "ticks": ""
            },
            "colorscale": [
             [
              0,
              "#0d0887"
             ],
             [
              0.1111111111111111,
              "#46039f"
             ],
             [
              0.2222222222222222,
              "#7201a8"
             ],
             [
              0.3333333333333333,
              "#9c179e"
             ],
             [
              0.4444444444444444,
              "#bd3786"
             ],
             [
              0.5555555555555556,
              "#d8576b"
             ],
             [
              0.6666666666666666,
              "#ed7953"
             ],
             [
              0.7777777777777778,
              "#fb9f3a"
             ],
             [
              0.8888888888888888,
              "#fdca26"
             ],
             [
              1,
              "#f0f921"
             ]
            ],
            "type": "surface"
           }
          ],
          "table": [
           {
            "cells": {
             "fill": {
              "color": "#EBF0F8"
             },
             "line": {
              "color": "white"
             }
            },
            "header": {
             "fill": {
              "color": "#C8D4E3"
             },
             "line": {
              "color": "white"
             }
            },
            "type": "table"
           }
          ]
         },
         "layout": {
          "annotationdefaults": {
           "arrowcolor": "#2a3f5f",
           "arrowhead": 0,
           "arrowwidth": 1
          },
          "autotypenumbers": "strict",
          "coloraxis": {
           "colorbar": {
            "outlinewidth": 0,
            "ticks": ""
           }
          },
          "colorscale": {
           "diverging": [
            [
             0,
             "#8e0152"
            ],
            [
             0.1,
             "#c51b7d"
            ],
            [
             0.2,
             "#de77ae"
            ],
            [
             0.3,
             "#f1b6da"
            ],
            [
             0.4,
             "#fde0ef"
            ],
            [
             0.5,
             "#f7f7f7"
            ],
            [
             0.6,
             "#e6f5d0"
            ],
            [
             0.7,
             "#b8e186"
            ],
            [
             0.8,
             "#7fbc41"
            ],
            [
             0.9,
             "#4d9221"
            ],
            [
             1,
             "#276419"
            ]
           ],
           "sequential": [
            [
             0,
             "#0d0887"
            ],
            [
             0.1111111111111111,
             "#46039f"
            ],
            [
             0.2222222222222222,
             "#7201a8"
            ],
            [
             0.3333333333333333,
             "#9c179e"
            ],
            [
             0.4444444444444444,
             "#bd3786"
            ],
            [
             0.5555555555555556,
             "#d8576b"
            ],
            [
             0.6666666666666666,
             "#ed7953"
            ],
            [
             0.7777777777777778,
             "#fb9f3a"
            ],
            [
             0.8888888888888888,
             "#fdca26"
            ],
            [
             1,
             "#f0f921"
            ]
           ],
           "sequentialminus": [
            [
             0,
             "#0d0887"
            ],
            [
             0.1111111111111111,
             "#46039f"
            ],
            [
             0.2222222222222222,
             "#7201a8"
            ],
            [
             0.3333333333333333,
             "#9c179e"
            ],
            [
             0.4444444444444444,
             "#bd3786"
            ],
            [
             0.5555555555555556,
             "#d8576b"
            ],
            [
             0.6666666666666666,
             "#ed7953"
            ],
            [
             0.7777777777777778,
             "#fb9f3a"
            ],
            [
             0.8888888888888888,
             "#fdca26"
            ],
            [
             1,
             "#f0f921"
            ]
           ]
          },
          "colorway": [
           "#636efa",
           "#EF553B",
           "#00cc96",
           "#ab63fa",
           "#FFA15A",
           "#19d3f3",
           "#FF6692",
           "#B6E880",
           "#FF97FF",
           "#FECB52"
          ],
          "font": {
           "color": "#2a3f5f"
          },
          "geo": {
           "bgcolor": "white",
           "lakecolor": "white",
           "landcolor": "white",
           "showlakes": true,
           "showland": true,
           "subunitcolor": "#C8D4E3"
          },
          "hoverlabel": {
           "align": "left"
          },
          "hovermode": "closest",
          "mapbox": {
           "style": "light"
          },
          "paper_bgcolor": "white",
          "plot_bgcolor": "white",
          "polar": {
           "angularaxis": {
            "gridcolor": "#EBF0F8",
            "linecolor": "#EBF0F8",
            "ticks": ""
           },
           "bgcolor": "white",
           "radialaxis": {
            "gridcolor": "#EBF0F8",
            "linecolor": "#EBF0F8",
            "ticks": ""
           }
          },
          "scene": {
           "xaxis": {
            "backgroundcolor": "white",
            "gridcolor": "#DFE8F3",
            "gridwidth": 2,
            "linecolor": "#EBF0F8",
            "showbackground": true,
            "ticks": "",
            "zerolinecolor": "#EBF0F8"
           },
           "yaxis": {
            "backgroundcolor": "white",
            "gridcolor": "#DFE8F3",
            "gridwidth": 2,
            "linecolor": "#EBF0F8",
            "showbackground": true,
            "ticks": "",
            "zerolinecolor": "#EBF0F8"
           },
           "zaxis": {
            "backgroundcolor": "white",
            "gridcolor": "#DFE8F3",
            "gridwidth": 2,
            "linecolor": "#EBF0F8",
            "showbackground": true,
            "ticks": "",
            "zerolinecolor": "#EBF0F8"
           }
          },
          "shapedefaults": {
           "line": {
            "color": "#2a3f5f"
           }
          },
          "ternary": {
           "aaxis": {
            "gridcolor": "#DFE8F3",
            "linecolor": "#A2B1C6",
            "ticks": ""
           },
           "baxis": {
            "gridcolor": "#DFE8F3",
            "linecolor": "#A2B1C6",
            "ticks": ""
           },
           "bgcolor": "white",
           "caxis": {
            "gridcolor": "#DFE8F3",
            "linecolor": "#A2B1C6",
            "ticks": ""
           }
          },
          "title": {
           "x": 0.05
          },
          "xaxis": {
           "automargin": true,
           "gridcolor": "#EBF0F8",
           "linecolor": "#EBF0F8",
           "ticks": "",
           "title": {
            "standoff": 15
           },
           "zerolinecolor": "#EBF0F8",
           "zerolinewidth": 2
          },
          "yaxis": {
           "automargin": true,
           "gridcolor": "#EBF0F8",
           "linecolor": "#EBF0F8",
           "ticks": "",
           "title": {
            "standoff": 15
           },
           "zerolinecolor": "#EBF0F8",
           "zerolinewidth": 2
          }
         }
        },
        "title": {
         "text": "Top 10 géneros más populares y sus características promedio"
        },
        "xaxis": {
         "anchor": "y",
         "domain": [
          0,
          1
         ],
         "title": {
          "text": "Género"
         }
        },
        "yaxis": {
         "anchor": "x",
         "domain": [
          0,
          1
         ],
         "title": {
          "text": "Valor promedio"
         }
        }
       }
      }
     },
     "metadata": {},
     "output_type": "display_data"
    }
   ],
   "source": [
    "# Mostrar los 10 géneros más populares y sus características promedio\n",
    "# Mostrar los 10 géneros más populares y sus características promedio\n",
    "import plotly.express as px\n",
    "\n",
    "data_by_genres = pd.read_csv(\"merged_songs.csv\")\n",
    "\n",
    "if 'genre' in data_by_genres.columns:\n",
    "    # Agrupar por género y calcular el promedio de las características relevantes\n",
    "    genre_data = data_by_genres.groupby('genre')[['popularity', 'valence', 'energy', 'danceability', 'acousticness']].mean().reset_index()\n",
    "    # Seleccionar los 10 géneros con mayor popularidad promedio\n",
    "    top10_genres = genre_data.nlargest(10, 'popularity')\n",
    "    # Graficar las características promedio de los 10 géneros más populares\n",
    "    fig = px.bar(\n",
    "        top10_genres,\n",
    "        x='genre',\n",
    "        y=['valence', 'energy', 'danceability', 'acousticness'],\n",
    "        barmode='group',\n",
    "        title='Top 10 géneros más populares y sus características promedio'\n",
    "    )\n",
    "    fig.update_layout(\n",
    "        xaxis_title='Género',\n",
    "        yaxis_title='Valor promedio',\n",
    "        legend_title='Característica',\n",
    "        template='plotly_white'\n",
    "    )\n",
    "    fig.show()\n",
    "else:\n",
    "    print(\"No existe una columna 'genres'\")"
   ]
  },
  {
   "cell_type": "markdown",
   "id": "0f9d8c8b",
   "metadata": {},
   "source": [
    "# Creacion del modelo\n"
   ]
  },
  {
   "cell_type": "markdown",
   "id": "eedf56a0",
   "metadata": {},
   "source": [
    "## Similitud por K neighbors\n"
   ]
  },
  {
   "cell_type": "code",
   "execution_count": 9,
   "id": "c1d04df1",
   "metadata": {},
   "outputs": [
    {
     "data": {
      "text/html": [
       "<style>#sk-container-id-1 {\n",
       "  /* Definition of color scheme common for light and dark mode */\n",
       "  --sklearn-color-text: #000;\n",
       "  --sklearn-color-text-muted: #666;\n",
       "  --sklearn-color-line: gray;\n",
       "  /* Definition of color scheme for unfitted estimators */\n",
       "  --sklearn-color-unfitted-level-0: #fff5e6;\n",
       "  --sklearn-color-unfitted-level-1: #f6e4d2;\n",
       "  --sklearn-color-unfitted-level-2: #ffe0b3;\n",
       "  --sklearn-color-unfitted-level-3: chocolate;\n",
       "  /* Definition of color scheme for fitted estimators */\n",
       "  --sklearn-color-fitted-level-0: #f0f8ff;\n",
       "  --sklearn-color-fitted-level-1: #d4ebff;\n",
       "  --sklearn-color-fitted-level-2: #b3dbfd;\n",
       "  --sklearn-color-fitted-level-3: cornflowerblue;\n",
       "\n",
       "  /* Specific color for light theme */\n",
       "  --sklearn-color-text-on-default-background: var(--sg-text-color, var(--theme-code-foreground, var(--jp-content-font-color1, black)));\n",
       "  --sklearn-color-background: var(--sg-background-color, var(--theme-background, var(--jp-layout-color0, white)));\n",
       "  --sklearn-color-border-box: var(--sg-text-color, var(--theme-code-foreground, var(--jp-content-font-color1, black)));\n",
       "  --sklearn-color-icon: #696969;\n",
       "\n",
       "  @media (prefers-color-scheme: dark) {\n",
       "    /* Redefinition of color scheme for dark theme */\n",
       "    --sklearn-color-text-on-default-background: var(--sg-text-color, var(--theme-code-foreground, var(--jp-content-font-color1, white)));\n",
       "    --sklearn-color-background: var(--sg-background-color, var(--theme-background, var(--jp-layout-color0, #111)));\n",
       "    --sklearn-color-border-box: var(--sg-text-color, var(--theme-code-foreground, var(--jp-content-font-color1, white)));\n",
       "    --sklearn-color-icon: #878787;\n",
       "  }\n",
       "}\n",
       "\n",
       "#sk-container-id-1 {\n",
       "  color: var(--sklearn-color-text);\n",
       "}\n",
       "\n",
       "#sk-container-id-1 pre {\n",
       "  padding: 0;\n",
       "}\n",
       "\n",
       "#sk-container-id-1 input.sk-hidden--visually {\n",
       "  border: 0;\n",
       "  clip: rect(1px 1px 1px 1px);\n",
       "  clip: rect(1px, 1px, 1px, 1px);\n",
       "  height: 1px;\n",
       "  margin: -1px;\n",
       "  overflow: hidden;\n",
       "  padding: 0;\n",
       "  position: absolute;\n",
       "  width: 1px;\n",
       "}\n",
       "\n",
       "#sk-container-id-1 div.sk-dashed-wrapped {\n",
       "  border: 1px dashed var(--sklearn-color-line);\n",
       "  margin: 0 0.4em 0.5em 0.4em;\n",
       "  box-sizing: border-box;\n",
       "  padding-bottom: 0.4em;\n",
       "  background-color: var(--sklearn-color-background);\n",
       "}\n",
       "\n",
       "#sk-container-id-1 div.sk-container {\n",
       "  /* jupyter's `normalize.less` sets `[hidden] { display: none; }`\n",
       "     but bootstrap.min.css set `[hidden] { display: none !important; }`\n",
       "     so we also need the `!important` here to be able to override the\n",
       "     default hidden behavior on the sphinx rendered scikit-learn.org.\n",
       "     See: https://github.com/scikit-learn/scikit-learn/issues/21755 */\n",
       "  display: inline-block !important;\n",
       "  position: relative;\n",
       "}\n",
       "\n",
       "#sk-container-id-1 div.sk-text-repr-fallback {\n",
       "  display: none;\n",
       "}\n",
       "\n",
       "div.sk-parallel-item,\n",
       "div.sk-serial,\n",
       "div.sk-item {\n",
       "  /* draw centered vertical line to link estimators */\n",
       "  background-image: linear-gradient(var(--sklearn-color-text-on-default-background), var(--sklearn-color-text-on-default-background));\n",
       "  background-size: 2px 100%;\n",
       "  background-repeat: no-repeat;\n",
       "  background-position: center center;\n",
       "}\n",
       "\n",
       "/* Parallel-specific style estimator block */\n",
       "\n",
       "#sk-container-id-1 div.sk-parallel-item::after {\n",
       "  content: \"\";\n",
       "  width: 100%;\n",
       "  border-bottom: 2px solid var(--sklearn-color-text-on-default-background);\n",
       "  flex-grow: 1;\n",
       "}\n",
       "\n",
       "#sk-container-id-1 div.sk-parallel {\n",
       "  display: flex;\n",
       "  align-items: stretch;\n",
       "  justify-content: center;\n",
       "  background-color: var(--sklearn-color-background);\n",
       "  position: relative;\n",
       "}\n",
       "\n",
       "#sk-container-id-1 div.sk-parallel-item {\n",
       "  display: flex;\n",
       "  flex-direction: column;\n",
       "}\n",
       "\n",
       "#sk-container-id-1 div.sk-parallel-item:first-child::after {\n",
       "  align-self: flex-end;\n",
       "  width: 50%;\n",
       "}\n",
       "\n",
       "#sk-container-id-1 div.sk-parallel-item:last-child::after {\n",
       "  align-self: flex-start;\n",
       "  width: 50%;\n",
       "}\n",
       "\n",
       "#sk-container-id-1 div.sk-parallel-item:only-child::after {\n",
       "  width: 0;\n",
       "}\n",
       "\n",
       "/* Serial-specific style estimator block */\n",
       "\n",
       "#sk-container-id-1 div.sk-serial {\n",
       "  display: flex;\n",
       "  flex-direction: column;\n",
       "  align-items: center;\n",
       "  background-color: var(--sklearn-color-background);\n",
       "  padding-right: 1em;\n",
       "  padding-left: 1em;\n",
       "}\n",
       "\n",
       "\n",
       "/* Toggleable style: style used for estimator/Pipeline/ColumnTransformer box that is\n",
       "clickable and can be expanded/collapsed.\n",
       "- Pipeline and ColumnTransformer use this feature and define the default style\n",
       "- Estimators will overwrite some part of the style using the `sk-estimator` class\n",
       "*/\n",
       "\n",
       "/* Pipeline and ColumnTransformer style (default) */\n",
       "\n",
       "#sk-container-id-1 div.sk-toggleable {\n",
       "  /* Default theme specific background. It is overwritten whether we have a\n",
       "  specific estimator or a Pipeline/ColumnTransformer */\n",
       "  background-color: var(--sklearn-color-background);\n",
       "}\n",
       "\n",
       "/* Toggleable label */\n",
       "#sk-container-id-1 label.sk-toggleable__label {\n",
       "  cursor: pointer;\n",
       "  display: flex;\n",
       "  width: 100%;\n",
       "  margin-bottom: 0;\n",
       "  padding: 0.5em;\n",
       "  box-sizing: border-box;\n",
       "  text-align: center;\n",
       "  align-items: start;\n",
       "  justify-content: space-between;\n",
       "  gap: 0.5em;\n",
       "}\n",
       "\n",
       "#sk-container-id-1 label.sk-toggleable__label .caption {\n",
       "  font-size: 0.6rem;\n",
       "  font-weight: lighter;\n",
       "  color: var(--sklearn-color-text-muted);\n",
       "}\n",
       "\n",
       "#sk-container-id-1 label.sk-toggleable__label-arrow:before {\n",
       "  /* Arrow on the left of the label */\n",
       "  content: \"▸\";\n",
       "  float: left;\n",
       "  margin-right: 0.25em;\n",
       "  color: var(--sklearn-color-icon);\n",
       "}\n",
       "\n",
       "#sk-container-id-1 label.sk-toggleable__label-arrow:hover:before {\n",
       "  color: var(--sklearn-color-text);\n",
       "}\n",
       "\n",
       "/* Toggleable content - dropdown */\n",
       "\n",
       "#sk-container-id-1 div.sk-toggleable__content {\n",
       "  display: none;\n",
       "  text-align: left;\n",
       "  /* unfitted */\n",
       "  background-color: var(--sklearn-color-unfitted-level-0);\n",
       "}\n",
       "\n",
       "#sk-container-id-1 div.sk-toggleable__content.fitted {\n",
       "  /* fitted */\n",
       "  background-color: var(--sklearn-color-fitted-level-0);\n",
       "}\n",
       "\n",
       "#sk-container-id-1 div.sk-toggleable__content pre {\n",
       "  margin: 0.2em;\n",
       "  border-radius: 0.25em;\n",
       "  color: var(--sklearn-color-text);\n",
       "  /* unfitted */\n",
       "  background-color: var(--sklearn-color-unfitted-level-0);\n",
       "}\n",
       "\n",
       "#sk-container-id-1 div.sk-toggleable__content.fitted pre {\n",
       "  /* unfitted */\n",
       "  background-color: var(--sklearn-color-fitted-level-0);\n",
       "}\n",
       "\n",
       "#sk-container-id-1 input.sk-toggleable__control:checked~div.sk-toggleable__content {\n",
       "  /* Expand drop-down */\n",
       "  display: block;\n",
       "  width: 100%;\n",
       "  overflow: visible;\n",
       "}\n",
       "\n",
       "#sk-container-id-1 input.sk-toggleable__control:checked~label.sk-toggleable__label-arrow:before {\n",
       "  content: \"▾\";\n",
       "}\n",
       "\n",
       "/* Pipeline/ColumnTransformer-specific style */\n",
       "\n",
       "#sk-container-id-1 div.sk-label input.sk-toggleable__control:checked~label.sk-toggleable__label {\n",
       "  color: var(--sklearn-color-text);\n",
       "  background-color: var(--sklearn-color-unfitted-level-2);\n",
       "}\n",
       "\n",
       "#sk-container-id-1 div.sk-label.fitted input.sk-toggleable__control:checked~label.sk-toggleable__label {\n",
       "  background-color: var(--sklearn-color-fitted-level-2);\n",
       "}\n",
       "\n",
       "/* Estimator-specific style */\n",
       "\n",
       "/* Colorize estimator box */\n",
       "#sk-container-id-1 div.sk-estimator input.sk-toggleable__control:checked~label.sk-toggleable__label {\n",
       "  /* unfitted */\n",
       "  background-color: var(--sklearn-color-unfitted-level-2);\n",
       "}\n",
       "\n",
       "#sk-container-id-1 div.sk-estimator.fitted input.sk-toggleable__control:checked~label.sk-toggleable__label {\n",
       "  /* fitted */\n",
       "  background-color: var(--sklearn-color-fitted-level-2);\n",
       "}\n",
       "\n",
       "#sk-container-id-1 div.sk-label label.sk-toggleable__label,\n",
       "#sk-container-id-1 div.sk-label label {\n",
       "  /* The background is the default theme color */\n",
       "  color: var(--sklearn-color-text-on-default-background);\n",
       "}\n",
       "\n",
       "/* On hover, darken the color of the background */\n",
       "#sk-container-id-1 div.sk-label:hover label.sk-toggleable__label {\n",
       "  color: var(--sklearn-color-text);\n",
       "  background-color: var(--sklearn-color-unfitted-level-2);\n",
       "}\n",
       "\n",
       "/* Label box, darken color on hover, fitted */\n",
       "#sk-container-id-1 div.sk-label.fitted:hover label.sk-toggleable__label.fitted {\n",
       "  color: var(--sklearn-color-text);\n",
       "  background-color: var(--sklearn-color-fitted-level-2);\n",
       "}\n",
       "\n",
       "/* Estimator label */\n",
       "\n",
       "#sk-container-id-1 div.sk-label label {\n",
       "  font-family: monospace;\n",
       "  font-weight: bold;\n",
       "  display: inline-block;\n",
       "  line-height: 1.2em;\n",
       "}\n",
       "\n",
       "#sk-container-id-1 div.sk-label-container {\n",
       "  text-align: center;\n",
       "}\n",
       "\n",
       "/* Estimator-specific */\n",
       "#sk-container-id-1 div.sk-estimator {\n",
       "  font-family: monospace;\n",
       "  border: 1px dotted var(--sklearn-color-border-box);\n",
       "  border-radius: 0.25em;\n",
       "  box-sizing: border-box;\n",
       "  margin-bottom: 0.5em;\n",
       "  /* unfitted */\n",
       "  background-color: var(--sklearn-color-unfitted-level-0);\n",
       "}\n",
       "\n",
       "#sk-container-id-1 div.sk-estimator.fitted {\n",
       "  /* fitted */\n",
       "  background-color: var(--sklearn-color-fitted-level-0);\n",
       "}\n",
       "\n",
       "/* on hover */\n",
       "#sk-container-id-1 div.sk-estimator:hover {\n",
       "  /* unfitted */\n",
       "  background-color: var(--sklearn-color-unfitted-level-2);\n",
       "}\n",
       "\n",
       "#sk-container-id-1 div.sk-estimator.fitted:hover {\n",
       "  /* fitted */\n",
       "  background-color: var(--sklearn-color-fitted-level-2);\n",
       "}\n",
       "\n",
       "/* Specification for estimator info (e.g. \"i\" and \"?\") */\n",
       "\n",
       "/* Common style for \"i\" and \"?\" */\n",
       "\n",
       ".sk-estimator-doc-link,\n",
       "a:link.sk-estimator-doc-link,\n",
       "a:visited.sk-estimator-doc-link {\n",
       "  float: right;\n",
       "  font-size: smaller;\n",
       "  line-height: 1em;\n",
       "  font-family: monospace;\n",
       "  background-color: var(--sklearn-color-background);\n",
       "  border-radius: 1em;\n",
       "  height: 1em;\n",
       "  width: 1em;\n",
       "  text-decoration: none !important;\n",
       "  margin-left: 0.5em;\n",
       "  text-align: center;\n",
       "  /* unfitted */\n",
       "  border: var(--sklearn-color-unfitted-level-1) 1pt solid;\n",
       "  color: var(--sklearn-color-unfitted-level-1);\n",
       "}\n",
       "\n",
       ".sk-estimator-doc-link.fitted,\n",
       "a:link.sk-estimator-doc-link.fitted,\n",
       "a:visited.sk-estimator-doc-link.fitted {\n",
       "  /* fitted */\n",
       "  border: var(--sklearn-color-fitted-level-1) 1pt solid;\n",
       "  color: var(--sklearn-color-fitted-level-1);\n",
       "}\n",
       "\n",
       "/* On hover */\n",
       "div.sk-estimator:hover .sk-estimator-doc-link:hover,\n",
       ".sk-estimator-doc-link:hover,\n",
       "div.sk-label-container:hover .sk-estimator-doc-link:hover,\n",
       ".sk-estimator-doc-link:hover {\n",
       "  /* unfitted */\n",
       "  background-color: var(--sklearn-color-unfitted-level-3);\n",
       "  color: var(--sklearn-color-background);\n",
       "  text-decoration: none;\n",
       "}\n",
       "\n",
       "div.sk-estimator.fitted:hover .sk-estimator-doc-link.fitted:hover,\n",
       ".sk-estimator-doc-link.fitted:hover,\n",
       "div.sk-label-container:hover .sk-estimator-doc-link.fitted:hover,\n",
       ".sk-estimator-doc-link.fitted:hover {\n",
       "  /* fitted */\n",
       "  background-color: var(--sklearn-color-fitted-level-3);\n",
       "  color: var(--sklearn-color-background);\n",
       "  text-decoration: none;\n",
       "}\n",
       "\n",
       "/* Span, style for the box shown on hovering the info icon */\n",
       ".sk-estimator-doc-link span {\n",
       "  display: none;\n",
       "  z-index: 9999;\n",
       "  position: relative;\n",
       "  font-weight: normal;\n",
       "  right: .2ex;\n",
       "  padding: .5ex;\n",
       "  margin: .5ex;\n",
       "  width: min-content;\n",
       "  min-width: 20ex;\n",
       "  max-width: 50ex;\n",
       "  color: var(--sklearn-color-text);\n",
       "  box-shadow: 2pt 2pt 4pt #999;\n",
       "  /* unfitted */\n",
       "  background: var(--sklearn-color-unfitted-level-0);\n",
       "  border: .5pt solid var(--sklearn-color-unfitted-level-3);\n",
       "}\n",
       "\n",
       ".sk-estimator-doc-link.fitted span {\n",
       "  /* fitted */\n",
       "  background: var(--sklearn-color-fitted-level-0);\n",
       "  border: var(--sklearn-color-fitted-level-3);\n",
       "}\n",
       "\n",
       ".sk-estimator-doc-link:hover span {\n",
       "  display: block;\n",
       "}\n",
       "\n",
       "/* \"?\"-specific style due to the `<a>` HTML tag */\n",
       "\n",
       "#sk-container-id-1 a.estimator_doc_link {\n",
       "  float: right;\n",
       "  font-size: 1rem;\n",
       "  line-height: 1em;\n",
       "  font-family: monospace;\n",
       "  background-color: var(--sklearn-color-background);\n",
       "  border-radius: 1rem;\n",
       "  height: 1rem;\n",
       "  width: 1rem;\n",
       "  text-decoration: none;\n",
       "  /* unfitted */\n",
       "  color: var(--sklearn-color-unfitted-level-1);\n",
       "  border: var(--sklearn-color-unfitted-level-1) 1pt solid;\n",
       "}\n",
       "\n",
       "#sk-container-id-1 a.estimator_doc_link.fitted {\n",
       "  /* fitted */\n",
       "  border: var(--sklearn-color-fitted-level-1) 1pt solid;\n",
       "  color: var(--sklearn-color-fitted-level-1);\n",
       "}\n",
       "\n",
       "/* On hover */\n",
       "#sk-container-id-1 a.estimator_doc_link:hover {\n",
       "  /* unfitted */\n",
       "  background-color: var(--sklearn-color-unfitted-level-3);\n",
       "  color: var(--sklearn-color-background);\n",
       "  text-decoration: none;\n",
       "}\n",
       "\n",
       "#sk-container-id-1 a.estimator_doc_link.fitted:hover {\n",
       "  /* fitted */\n",
       "  background-color: var(--sklearn-color-fitted-level-3);\n",
       "}\n",
       "\n",
       ".estimator-table summary {\n",
       "    padding: .5rem;\n",
       "    font-family: monospace;\n",
       "    cursor: pointer;\n",
       "}\n",
       "\n",
       ".estimator-table details[open] {\n",
       "    padding-left: 0.1rem;\n",
       "    padding-right: 0.1rem;\n",
       "    padding-bottom: 0.3rem;\n",
       "}\n",
       "\n",
       ".estimator-table .parameters-table {\n",
       "    margin-left: auto !important;\n",
       "    margin-right: auto !important;\n",
       "}\n",
       "\n",
       ".estimator-table .parameters-table tr:nth-child(odd) {\n",
       "    background-color: #fff;\n",
       "}\n",
       "\n",
       ".estimator-table .parameters-table tr:nth-child(even) {\n",
       "    background-color: #f6f6f6;\n",
       "}\n",
       "\n",
       ".estimator-table .parameters-table tr:hover {\n",
       "    background-color: #e0e0e0;\n",
       "}\n",
       "\n",
       ".estimator-table table td {\n",
       "    border: 1px solid rgba(106, 105, 104, 0.232);\n",
       "}\n",
       "\n",
       ".user-set td {\n",
       "    color:rgb(255, 94, 0);\n",
       "    text-align: left;\n",
       "}\n",
       "\n",
       ".user-set td.value pre {\n",
       "    color:rgb(255, 94, 0) !important;\n",
       "    background-color: transparent !important;\n",
       "}\n",
       "\n",
       ".default td {\n",
       "    color: black;\n",
       "    text-align: left;\n",
       "}\n",
       "\n",
       ".user-set td i,\n",
       ".default td i {\n",
       "    color: black;\n",
       "}\n",
       "\n",
       ".copy-paste-icon {\n",
       "    background-image: url(data:image/svg+xml;base64,PHN2ZyB4bWxucz0iaHR0cDovL3d3dy53My5vcmcvMjAwMC9zdmciIHZpZXdCb3g9IjAgMCA0NDggNTEyIj48IS0tIUZvbnQgQXdlc29tZSBGcmVlIDYuNy4yIGJ5IEBmb250YXdlc29tZSAtIGh0dHBzOi8vZm9udGF3ZXNvbWUuY29tIExpY2Vuc2UgLSBodHRwczovL2ZvbnRhd2Vzb21lLmNvbS9saWNlbnNlL2ZyZWUgQ29weXJpZ2h0IDIwMjUgRm9udGljb25zLCBJbmMuLS0+PHBhdGggZD0iTTIwOCAwTDMzMi4xIDBjMTIuNyAwIDI0LjkgNS4xIDMzLjkgMTQuMWw2Ny45IDY3LjljOSA5IDE0LjEgMjEuMiAxNC4xIDMzLjlMNDQ4IDMzNmMwIDI2LjUtMjEuNSA0OC00OCA0OGwtMTkyIDBjLTI2LjUgMC00OC0yMS41LTQ4LTQ4bDAtMjg4YzAtMjYuNSAyMS41LTQ4IDQ4LTQ4ek00OCAxMjhsODAgMCAwIDY0LTY0IDAgMCAyNTYgMTkyIDAgMC0zMiA2NCAwIDAgNDhjMCAyNi41LTIxLjUgNDgtNDggNDhMNDggNTEyYy0yNi41IDAtNDgtMjEuNS00OC00OEwwIDE3NmMwLTI2LjUgMjEuNS00OCA0OC00OHoiLz48L3N2Zz4=);\n",
       "    background-repeat: no-repeat;\n",
       "    background-size: 14px 14px;\n",
       "    background-position: 0;\n",
       "    display: inline-block;\n",
       "    width: 14px;\n",
       "    height: 14px;\n",
       "    cursor: pointer;\n",
       "}\n",
       "</style><body><div id=\"sk-container-id-1\" class=\"sk-top-container\"><div class=\"sk-text-repr-fallback\"><pre>NearestNeighbors(metric=&#x27;euclidean&#x27;)</pre><b>In a Jupyter environment, please rerun this cell to show the HTML representation or trust the notebook. <br />On GitHub, the HTML representation is unable to render, please try loading this page with nbviewer.org.</b></div><div class=\"sk-container\" hidden><div class=\"sk-item\"><div class=\"sk-estimator fitted sk-toggleable\"><input class=\"sk-toggleable__control sk-hidden--visually\" id=\"sk-estimator-id-1\" type=\"checkbox\" checked><label for=\"sk-estimator-id-1\" class=\"sk-toggleable__label fitted sk-toggleable__label-arrow\"><div><div>NearestNeighbors</div></div><div><a class=\"sk-estimator-doc-link fitted\" rel=\"noreferrer\" target=\"_blank\" href=\"https://scikit-learn.org/1.7/modules/generated/sklearn.neighbors.NearestNeighbors.html\">?<span>Documentation for NearestNeighbors</span></a><span class=\"sk-estimator-doc-link fitted\">i<span>Fitted</span></span></div></label><div class=\"sk-toggleable__content fitted\" data-param-prefix=\"\">\n",
       "        <div class=\"estimator-table\">\n",
       "            <details>\n",
       "                <summary>Parameters</summary>\n",
       "                <table class=\"parameters-table\">\n",
       "                  <tbody>\n",
       "                    \n",
       "        <tr class=\"default\">\n",
       "            <td><i class=\"copy-paste-icon\"\n",
       "                 onclick=\"copyToClipboard('n_neighbors',\n",
       "                          this.parentElement.nextElementSibling)\"\n",
       "            ></i></td>\n",
       "            <td class=\"param\">n_neighbors&nbsp;</td>\n",
       "            <td class=\"value\">5</td>\n",
       "        </tr>\n",
       "    \n",
       "\n",
       "        <tr class=\"default\">\n",
       "            <td><i class=\"copy-paste-icon\"\n",
       "                 onclick=\"copyToClipboard('radius',\n",
       "                          this.parentElement.nextElementSibling)\"\n",
       "            ></i></td>\n",
       "            <td class=\"param\">radius&nbsp;</td>\n",
       "            <td class=\"value\">1.0</td>\n",
       "        </tr>\n",
       "    \n",
       "\n",
       "        <tr class=\"default\">\n",
       "            <td><i class=\"copy-paste-icon\"\n",
       "                 onclick=\"copyToClipboard('algorithm',\n",
       "                          this.parentElement.nextElementSibling)\"\n",
       "            ></i></td>\n",
       "            <td class=\"param\">algorithm&nbsp;</td>\n",
       "            <td class=\"value\">&#x27;auto&#x27;</td>\n",
       "        </tr>\n",
       "    \n",
       "\n",
       "        <tr class=\"default\">\n",
       "            <td><i class=\"copy-paste-icon\"\n",
       "                 onclick=\"copyToClipboard('leaf_size',\n",
       "                          this.parentElement.nextElementSibling)\"\n",
       "            ></i></td>\n",
       "            <td class=\"param\">leaf_size&nbsp;</td>\n",
       "            <td class=\"value\">30</td>\n",
       "        </tr>\n",
       "    \n",
       "\n",
       "        <tr class=\"user-set\">\n",
       "            <td><i class=\"copy-paste-icon\"\n",
       "                 onclick=\"copyToClipboard('metric',\n",
       "                          this.parentElement.nextElementSibling)\"\n",
       "            ></i></td>\n",
       "            <td class=\"param\">metric&nbsp;</td>\n",
       "            <td class=\"value\">&#x27;euclidean&#x27;</td>\n",
       "        </tr>\n",
       "    \n",
       "\n",
       "        <tr class=\"default\">\n",
       "            <td><i class=\"copy-paste-icon\"\n",
       "                 onclick=\"copyToClipboard('p',\n",
       "                          this.parentElement.nextElementSibling)\"\n",
       "            ></i></td>\n",
       "            <td class=\"param\">p&nbsp;</td>\n",
       "            <td class=\"value\">2</td>\n",
       "        </tr>\n",
       "    \n",
       "\n",
       "        <tr class=\"default\">\n",
       "            <td><i class=\"copy-paste-icon\"\n",
       "                 onclick=\"copyToClipboard('metric_params',\n",
       "                          this.parentElement.nextElementSibling)\"\n",
       "            ></i></td>\n",
       "            <td class=\"param\">metric_params&nbsp;</td>\n",
       "            <td class=\"value\">None</td>\n",
       "        </tr>\n",
       "    \n",
       "\n",
       "        <tr class=\"default\">\n",
       "            <td><i class=\"copy-paste-icon\"\n",
       "                 onclick=\"copyToClipboard('n_jobs',\n",
       "                          this.parentElement.nextElementSibling)\"\n",
       "            ></i></td>\n",
       "            <td class=\"param\">n_jobs&nbsp;</td>\n",
       "            <td class=\"value\">None</td>\n",
       "        </tr>\n",
       "    \n",
       "                  </tbody>\n",
       "                </table>\n",
       "            </details>\n",
       "        </div>\n",
       "    </div></div></div></div></div><script>function copyToClipboard(text, element) {\n",
       "    // Get the parameter prefix from the closest toggleable content\n",
       "    const toggleableContent = element.closest('.sk-toggleable__content');\n",
       "    const paramPrefix = toggleableContent ? toggleableContent.dataset.paramPrefix : '';\n",
       "    const fullParamName = paramPrefix ? `${paramPrefix}${text}` : text;\n",
       "\n",
       "    const originalStyle = element.style;\n",
       "    const computedStyle = window.getComputedStyle(element);\n",
       "    const originalWidth = computedStyle.width;\n",
       "    const originalHTML = element.innerHTML.replace('Copied!', '');\n",
       "\n",
       "    navigator.clipboard.writeText(fullParamName)\n",
       "        .then(() => {\n",
       "            element.style.width = originalWidth;\n",
       "            element.style.color = 'green';\n",
       "            element.innerHTML = \"Copied!\";\n",
       "\n",
       "            setTimeout(() => {\n",
       "                element.innerHTML = originalHTML;\n",
       "                element.style = originalStyle;\n",
       "            }, 2000);\n",
       "        })\n",
       "        .catch(err => {\n",
       "            console.error('Failed to copy:', err);\n",
       "            element.style.color = 'red';\n",
       "            element.innerHTML = \"Failed!\";\n",
       "            setTimeout(() => {\n",
       "                element.innerHTML = originalHTML;\n",
       "                element.style = originalStyle;\n",
       "            }, 2000);\n",
       "        });\n",
       "    return false;\n",
       "}\n",
       "\n",
       "document.querySelectorAll('.fa-regular.fa-copy').forEach(function(element) {\n",
       "    const toggleableContent = element.closest('.sk-toggleable__content');\n",
       "    const paramPrefix = toggleableContent ? toggleableContent.dataset.paramPrefix : '';\n",
       "    const paramName = element.parentElement.nextElementSibling.textContent.trim();\n",
       "    const fullParamName = paramPrefix ? `${paramPrefix}${paramName}` : paramName;\n",
       "\n",
       "    element.setAttribute('title', fullParamName);\n",
       "});\n",
       "</script></body>"
      ],
      "text/plain": [
       "NearestNeighbors(metric='euclidean')"
      ]
     },
     "execution_count": 9,
     "metadata": {},
     "output_type": "execute_result"
    }
   ],
   "source": [
    "from sklearn.preprocessing import StandardScaler\n",
    "from sklearn.neighbors import NearestNeighbors\n",
    "from sklearn.model_selection import train_test_split\n",
    "from sklearn.metrics import pairwise_distances\n",
    "\n",
    "# Seleccionar características numéricas relevantes\n",
    "features = [\n",
    "    'acousticness', 'danceability', 'energy', 'instrumentalness',\n",
    "    'liveness', 'loudness', 'speechiness', 'valence', 'tempo'\n",
    "]\n",
    "\n",
    "# Separar datos en train y test para evaluación\n",
    "train_data, test_data = train_test_split(data, test_size=0.2, random_state=42)\n",
    "\n",
    "# Escalar características\n",
    "scaler = StandardScaler()\n",
    "X_train = scaler.fit_transform(train_data[features])\n",
    "X_test = scaler.transform(test_data[features])\n",
    "\n",
    "# Crear y ajustar el modelo KNN\n",
    "knn = NearestNeighbors(n_neighbors=5, metric='euclidean')\n",
    "knn.fit(X_train)"
   ]
  },
  {
   "cell_type": "code",
   "execution_count": 10,
   "id": "b5d1ca14",
   "metadata": {},
   "outputs": [
    {
     "name": "stdout",
     "output_type": "stream",
     "text": [
      "Distancia euclidiana promedio entre test y recomendación: 0.3065\n"
     ]
    }
   ],
   "source": [
    "# Evaluar el modelo usando solo la distancia euclidiana promedio entre cada canción de test y su recomendada\n",
    "distancias = []\n",
    "\n",
    "for i, row in test_data.iterrows():\n",
    "    # Obtener el vector de la canción de test como DataFrame para mantener los nombres de columnas\n",
    "    test_vector = scaler.transform(pd.DataFrame([row[features]], columns=features))\n",
    "    distances_knn, indices = knn.kneighbors(test_vector)\n",
    "    similar_idx = indices[0][0]  # El más cercano en train_data\n",
    "    # Guardar la distancia euclidiana\n",
    "    distancias.append(distances_knn[0][0])\n",
    "\n",
    "distancia_media = np.mean(distancias) if distancias else 0\n",
    "print(f\"Distancia euclidiana promedio entre test y recomendación: {distancia_media:.4f}\")"
   ]
  },
  {
   "cell_type": "code",
   "execution_count": 11,
   "id": "533b1d77",
   "metadata": {},
   "outputs": [
    {
     "name": "stdout",
     "output_type": "stream",
     "text": [
      "Precisión@10: 0.9800\n",
      "Recall@10: 0.9800\n",
      "MAP: 0.9993\n",
      "NDCG@10: 0.9998\n"
     ]
    }
   ],
   "source": [
    "from sklearn.metrics import ndcg_score\n",
    "\n",
    "k = 10\n",
    "precisiones = []\n",
    "recalls = []\n",
    "average_precisions = []\n",
    "ndcgs = []\n",
    "\n",
    "for i, row in test_data.iterrows():\n",
    "    test_vector = scaler.transform(pd.DataFrame([row[features]], columns=features))\n",
    "    # Calcular distancias a todo el set de entrenamiento\n",
    "    dists = np.linalg.norm(X_train - test_vector, axis=1)\n",
    "    # Ordenar índices por distancia (de menor a mayor)\n",
    "    sorted_idx = np.argsort(dists)\n",
    "    # Definir las k canciones más cercanas como relevantes\n",
    "    relevancias = np.zeros(len(train_data))\n",
    "    relevancias[sorted_idx[:k]] = 1\n",
    "    # Obtener las k recomendaciones del modelo\n",
    "    distances_knn, indices = knn.kneighbors(test_vector, n_neighbors=k)\n",
    "    recommended_idx = indices[0]\n",
    "    # Relevancia de las recomendaciones\n",
    "    recommended_relevancias = relevancias[recommended_idx]\n",
    "    num_relevantes = k  # Por definición, hay k relevantes\n",
    "    # Precisión@k\n",
    "    precision = np.sum(recommended_relevancias) / k\n",
    "    precisiones.append(precision)\n",
    "    # Recall@k\n",
    "    recall = np.sum(recommended_relevancias) / num_relevantes if num_relevantes > 0 else 0\n",
    "    recalls.append(recall)\n",
    "    # MAP\n",
    "    if np.sum(recommended_relevancias) > 0:\n",
    "        ap = 0\n",
    "        hits = 0\n",
    "        for idx, rel in enumerate(recommended_relevancias, 1):\n",
    "            if rel:\n",
    "                hits += 1\n",
    "                ap += hits / idx\n",
    "        ap /= np.sum(recommended_relevancias)\n",
    "    else:\n",
    "        ap = 0\n",
    "    average_precisions.append(ap)\n",
    "    # NDCG\n",
    "    ndcg = ndcg_score([relevancias[recommended_idx]], [1 - distances_knn[0]])\n",
    "    ndcgs.append(ndcg)\n",
    "\n",
    "print(f\"Precisión@{k}: {np.mean(precisiones):.4f}\")\n",
    "print(f\"Recall@{k}: {np.mean(recalls):.4f}\")\n",
    "print(f\"MAP: {np.mean(average_precisions):.4f}\")\n",
    "print(f\"NDCG@{k}: {np.mean(ndcgs):.4f}\")"
   ]
  },
  {
   "cell_type": "code",
   "execution_count": 12,
   "id": "eec8a970",
   "metadata": {},
   "outputs": [],
   "source": [
    "from sklearn.preprocessing import StandardScaler\n",
    "from sklearn.neighbors import NearestNeighbors\n",
    "from sklearn.model_selection import train_test_split\n",
    "from sklearn.metrics import ndcg_score\n",
    "import numpy as np\n",
    "import pandas as pd\n",
    "\n",
    "class KNN_model:\n",
    "    def __init__(self, features=None, n_neighbors=10):\n",
    "        if features is None:\n",
    "            self.features = [\n",
    "                'acousticness', 'danceability', 'energy', 'instrumentalness',\n",
    "                'liveness', 'loudness', 'speechiness', 'valence', 'tempo'\n",
    "            ]\n",
    "        else:\n",
    "            self.features = features\n",
    "        self.n_neighbors = n_neighbors\n",
    "        self.scaler = StandardScaler()\n",
    "        self.knn = None\n",
    "        self.train_data = None\n",
    "        self.test_data = None\n",
    "        self.X_train = None\n",
    "        self.X_test = None\n",
    "\n",
    "    def train(self, data, test_size=0.2, random_state=42):\n",
    "        self.train_data, self.test_data = train_test_split(\n",
    "            data, test_size=test_size, random_state=random_state\n",
    "        )\n",
    "        self.X_train = self.scaler.fit_transform(self.train_data[self.features])\n",
    "        self.X_test = self.scaler.transform(self.test_data[self.features])\n",
    "        self.knn = NearestNeighbors(n_neighbors=self.n_neighbors, metric='euclidean')\n",
    "        self.knn.fit(self.X_train)\n",
    "\n",
    "    def evaluate(self, k=10):\n",
    "        precisiones = []\n",
    "        recalls = []\n",
    "        average_precisions = []\n",
    "        ndcgs = []\n",
    "        distancias = []\n",
    "        for i, row in self.test_data.iterrows():\n",
    "            test_vector = self.scaler.transform(pd.DataFrame([row[self.features]], columns=self.features))\n",
    "            dists = np.linalg.norm(self.X_train - test_vector, axis=1)\n",
    "            sorted_idx = np.argsort(dists)\n",
    "            relevancias = np.zeros(len(self.train_data))\n",
    "            relevancias[sorted_idx[:k]] = 1\n",
    "            distances_knn, indices = self.knn.kneighbors(test_vector, n_neighbors=k)\n",
    "            recommended_idx = indices[0]\n",
    "            recommended_relevancias = relevancias[recommended_idx]\n",
    "            num_relevantes = k\n",
    "            # Distancia euclidiana al vecino más cercano\n",
    "            distancias.append(distances_knn[0][0])\n",
    "            # Precisión@k\n",
    "            precision = np.sum(recommended_relevancias) / k\n",
    "            precisiones.append(precision)\n",
    "            # Recall@k\n",
    "            recall = np.sum(recommended_relevancias) / num_relevantes if num_relevantes > 0 else 0\n",
    "            recalls.append(recall)\n",
    "            # MAP\n",
    "            if np.sum(recommended_relevancias) > 0:\n",
    "                ap = 0\n",
    "                hits = 0\n",
    "                for idx, rel in enumerate(recommended_relevancias, 1):\n",
    "                    if rel:\n",
    "                        hits += 1\n",
    "                        ap += hits / idx\n",
    "                ap /= np.sum(recommended_relevancias)\n",
    "            else:\n",
    "                ap = 0\n",
    "            average_precisions.append(ap)\n",
    "            # NDCG\n",
    "            ndcg = ndcg_score([relevancias[recommended_idx]], [1 - distances_knn[0]])\n",
    "            ndcgs.append(ndcg)\n",
    "        distancia_media = np.mean(distancias) if distancias else 0\n",
    "        print(f\"Distancia euclidiana promedio entre test y recomendación: {distancia_media:.4f}\")\n",
    "        print(f\"Precisión@{k}: {np.mean(precisiones):.4f}\")\n",
    "        print(f\"Recall@{k}: {np.mean(recalls):.4f}\")\n",
    "        print(f\"MAP: {np.mean(average_precisions):.4f}\")\n",
    "        print(f\"NDCG@{k}: {np.mean(ndcgs):.4f}\")\n",
    "\n",
    "    def recomend_songs(self, songs_df, n_recommendations=5):\n",
    "        \"\"\"\n",
    "        songs_df: DataFrame con las canciones de entrada (debe tener las columnas de self.features)\n",
    "        n_recommendations: número de canciones a recomendar (por defecto 5)\n",
    "        Devuelve las canciones más cercanas del set de entrenamiento y su similitud (1 - distancia normalizada).\n",
    "        \"\"\"\n",
    "        mean_vector = songs_df[self.features].mean().values.reshape(1, -1)\n",
    "        mean_vector_scaled = self.scaler.transform(pd.DataFrame(mean_vector, columns=self.features))\n",
    "        distances, indices = self.knn.kneighbors(mean_vector_scaled, n_neighbors=n_recommendations)\n",
    "        recommended = self.train_data.iloc[indices[0]].copy()\n",
    "        recommended['distance'] = distances[0]\n",
    "        # Normalizar las distancias para calcular similitud (similitud = 1 - distancia/distancia_max)\n",
    "        max_dist = distances[0].max() if distances[0].max() > 0 else 1\n",
    "        recommended['similarity'] = 1 - (recommended['distance'] / max_dist)\n",
    "        return recommended.sort_values('distance')\n",
    "\n"
   ]
  },
  {
   "cell_type": "markdown",
   "id": "f54aec11",
   "metadata": {},
   "source": [
    "Uso de la Clase\n"
   ]
  },
  {
   "cell_type": "code",
   "execution_count": 13,
   "id": "74caba4a",
   "metadata": {},
   "outputs": [
    {
     "name": "stdout",
     "output_type": "stream",
     "text": [
      "Distancia euclidiana promedio entre test y recomendación: 0.3065\n",
      "Precisión@10: 0.9800\n",
      "Recall@10: 0.9800\n",
      "MAP: 0.9993\n",
      "NDCG@10: 0.9998\n",
      "       genre          artist_name                   track_name  \\\n",
      "5727   Dance         Cyndi Lauper  Girls Just Want to Have Fun   \n",
      "32469    Pop         Cyndi Lauper  Girls Just Want to Have Fun   \n",
      "72450  Dance        Years & Years                       Desire   \n",
      "74269  Dance        Austin Mahone         Lady (feat. Pitbull)   \n",
      "48184    Ska  Los Enanitos Verdes               Amores Lejanos   \n",
      "\n",
      "                     track_id  popularity  acousticness  danceability  \\\n",
      "5727   4y1LsJpmMti1PfRQV9AWWe          75         0.220         0.710   \n",
      "32469  4y1LsJpmMti1PfRQV9AWWe          76         0.220         0.710   \n",
      "72450  4ZH03VC3uJk7uKk7CwsBqH          54         0.299         0.706   \n",
      "74269  1vh2gglO81p1KxQ2JlgFoy          58         0.165         0.751   \n",
      "48184  11AnIo9kTnjhtD06y5Zd5O          57         0.277         0.740   \n",
      "\n",
      "       duration_ms  energy  instrumentalness  ... liveness  loudness   mode  \\\n",
      "5727        238267   0.799          0.000602  ...    0.349    -4.897  Major   \n",
      "32469       238267   0.799          0.000602  ...    0.349    -4.897  Major   \n",
      "72450       203204   0.777          0.000000  ...    0.298    -4.591  Minor   \n",
      "74269       211278   0.828          0.000075  ...    0.341    -4.910  Minor   \n",
      "48184       295013   0.795          0.000005  ...    0.323    -5.295  Minor   \n",
      "\n",
      "      speechiness    tempo  time_signature valence  release_year  distance  \\\n",
      "5727       0.0328  120.372             4/4   0.725        1983.0  0.441157   \n",
      "32469      0.0328  120.372             4/4   0.725        1983.0  0.441157   \n",
      "72450      0.0567  126.008             4/4   0.638        2015.0  0.489776   \n",
      "74269      0.0834  125.957             4/4   0.672        2016.0  0.546209   \n",
      "48184      0.0310  120.004             4/4   0.586        2002.0  0.574823   \n",
      "\n",
      "       similarity  \n",
      "5727     0.232535  \n",
      "32469    0.232535  \n",
      "72450    0.147954  \n",
      "74269    0.049780  \n",
      "48184    0.000000  \n",
      "\n",
      "[5 rows x 21 columns]\n"
     ]
    }
   ],
   "source": [
    "# Ejemplo de uso:\n",
    "model = KNN_model()\n",
    "model.train(data)\n",
    "model.evaluate()\n",
    "recomendaciones = model.recomend_songs(data.sample(2))\n",
    "print(recomendaciones)"
   ]
  },
  {
   "cell_type": "code",
   "execution_count": 14,
   "id": "97678e00",
   "metadata": {},
   "outputs": [
    {
     "name": "stdout",
     "output_type": "stream",
     "text": [
      "       genre artist_name                          track_name  \\\n",
      "17968   Folk  Johnnyswim                                Home   \n",
      "6385   Dance      Matoma  Sunday Morning (feat. Josie Dunne)   \n",
      "33318    Pop      VÉRITÉ                       Somebody Else   \n",
      "51939   Soul      VÉRITÉ                       Somebody Else   \n",
      "6540   Dance      VÉRITÉ                       Somebody Else   \n",
      "\n",
      "                     track_id  popularity  acousticness  danceability  \\\n",
      "17968  2BX2njwutbKutDcLVFiqUU          48         0.235         0.647   \n",
      "6385   7dhyhMtWWJNYWmE4N5XiEA          62         0.173         0.673   \n",
      "33318  34i4yxPrHWquuR4kjiivFO          67         0.201         0.674   \n",
      "51939  34i4yxPrHWquuR4kjiivFO          67         0.201         0.674   \n",
      "6540   34i4yxPrHWquuR4kjiivFO          67         0.201         0.674   \n",
      "\n",
      "       duration_ms  energy  instrumentalness  ... liveness  loudness   mode  \\\n",
      "17968       211107   0.627          0.000000  ...    0.144    -7.080  Major   \n",
      "6385        185806   0.651          0.000000  ...    0.112    -6.982  Minor   \n",
      "33318       233077   0.593          0.000529  ...    0.209    -6.470  Minor   \n",
      "51939       233077   0.593          0.000529  ...    0.209    -6.470  Minor   \n",
      "6540        233077   0.593          0.000529  ...    0.209    -6.470  Minor   \n",
      "\n",
      "      speechiness    tempo  time_signature valence  release_year  distance  \\\n",
      "17968      0.0756  110.121             4/4   0.517        2014.0  0.447283   \n",
      "6385       0.0587  123.980             4/4   0.428        2018.0  0.502117   \n",
      "33318      0.0582  116.995             4/4   0.464        2016.0  0.525548   \n",
      "51939      0.0582  116.995             4/4   0.464        2016.0  0.525548   \n",
      "6540       0.0582  116.995             4/4   0.464        2016.0  0.525548   \n",
      "\n",
      "       similarity  \n",
      "17968    0.148921  \n",
      "6385     0.044583  \n",
      "33318    0.000000  \n",
      "51939    0.000000  \n",
      "6540     0.000000  \n",
      "\n",
      "[5 rows x 21 columns]\n"
     ]
    }
   ],
   "source": [
    "recomendaciones = model.recomend_songs(data.sample(10))\n",
    "print(recomendaciones)"
   ]
  },
  {
   "cell_type": "markdown",
   "id": "4a20608c",
   "metadata": {},
   "source": [
    "## Clustering con KMeans"
   ]
  },
  {
   "cell_type": "markdown",
   "id": "410fab26",
   "metadata": {},
   "source": [
    "### Elaboración del modelo"
   ]
  },
  {
   "cell_type": "code",
   "execution_count": 57,
   "id": "8d607f55",
   "metadata": {},
   "outputs": [],
   "source": [
    "from sklearn.cluster import KMeans\n",
    "from scipy.spatial.distance import cdist\n",
    "\n",
    "class KMeans_model:\n",
    "    \"\"\"Clase para implementar el modelo de recomendación mediante clustering KMeans.\"\"\"\n",
    "\n",
    "    def __init__(self, n_clusters=8, random_state=42):\n",
    "        self.n_clusters = n_clusters\n",
    "        self.random_state = random_state\n",
    "        self.model = None\n",
    "\n",
    "    def fit(self, X):\n",
    "        \"\"\"Ajusta el modelo KMeans a los datos en X.\"\"\"\n",
    "        self.model = KMeans(n_clusters=self.n_clusters, random_state=self.random_state, n_init=10).fit(X)\n",
    "        return self.model\n",
    "\n",
    "    def predict(self, X):\n",
    "        \"\"\"Predice las etiquetas de cluster para los datos en X.\"\"\"\n",
    "        if self.model is not None:\n",
    "            return self.model.predict(X)\n",
    "        else:\n",
    "            raise ValueError(\"El modelo no ha sido entrenado.\")\n",
    "\n",
    "    def _flatten_dict_list(self, dict_list: list):\n",
    "        \"\"\"Aplana una lista de diccionarios en un único diccionario\"\"\"\n",
    "        flattened_dict = dict()\n",
    "        for key in dict_list[0].keys():\n",
    "            flattened_dict[key] = []\n",
    "        for dictionary in dict_list:\n",
    "            for key, value in dictionary.items():\n",
    "                flattened_dict[key].append(value)\n",
    "        return flattened_dict\n",
    "\n",
    "    def _get_mean_vector(self, song_list):\n",
    "        \"\"\"Calcula el vector medio representativo de una lista de canciones.\"\"\"\n",
    "        song_vectors = []\n",
    "        for song in song_list:\n",
    "            song_vector = song[features].values\n",
    "            song_vectors.append(song_vector)\n",
    "        song_matrix = np.array(list(song_vectors))\n",
    "        return np.mean(song_matrix, axis=0)\n",
    "\n",
    "    def recommend_songs(self, song_list, spotify_data, n_songs=10):\n",
    "        \"\"\"\n",
    "        Ofrece una lista de `n_songs` recomendaciones a partir de una lista de canciones escuchadas,\n",
    "        recomendando solo canciones del mismo cluster.\n",
    "        \"\"\"\n",
    "        metadata_cols = ['track_name', 'artist_name', 'track_id', 'release_year', 'distance']\n",
    "        song_dict = self._flatten_dict_list(song_list)\n",
    "        song_center = self._get_mean_vector(song_list)\n",
    "        scaler = StandardScaler()\n",
    "        scaled_data = scaler.fit_transform(spotify_data[features])\n",
    "        song_center_df = pd.DataFrame([song_center], columns=features)\n",
    "        scaled_song_center = scaler.transform(song_center_df)\n",
    "\n",
    "        # Ajustar KMeans si no está ajustado\n",
    "        if self.model is None:\n",
    "            self.fit(scaled_data)\n",
    "\n",
    "        # Obtener el cluster del centro de las canciones escuchadas\n",
    "        cluster_labels = self.model.labels_\n",
    "        center_cluster = self.predict(scaled_song_center)[0]\n",
    "\n",
    "        # Filtrar canciones del mismo cluster y no escuchadas\n",
    "        mask_cluster = cluster_labels == center_cluster\n",
    "        mask_not_listened = ~spotify_data['track_id'].isin(song_dict['track_id'])\n",
    "        mask = mask_cluster & mask_not_listened.values\n",
    "        filtered_indices = np.where(mask)[0]\n",
    "\n",
    "        if len(filtered_indices) == 0:\n",
    "            return []\n",
    "\n",
    "        filtered_scaled_data = scaled_data[filtered_indices]\n",
    "        distances = cdist(scaled_song_center, filtered_scaled_data, 'cosine')[0]\n",
    "        top_indices = np.argsort(distances)[:n_songs]\n",
    "        selected_indices = filtered_indices[top_indices]\n",
    "\n",
    "        rec_songs = spotify_data.iloc[selected_indices].copy()\n",
    "        rec_songs['distance'] = distances[top_indices]\n",
    "        return rec_songs[metadata_cols].to_dict(orient='records')\n",
    "\n",
    "    def evaluate(self, test_data, train_data, n_songs=10):\n",
    "        \"\"\"\n",
    "        Evalúa el modelo usando métricas de recomendación.\n",
    "        \"\"\"\n",
    "        scaler = StandardScaler()\n",
    "        X_train = scaler.fit_transform(train_data[features])\n",
    "        if self.model is None:\n",
    "            self.fit(X_train)\n",
    "        precisiones = []\n",
    "        recalls = []\n",
    "        average_precisions = []\n",
    "        ndcgs = []\n",
    "        distancias = []\n",
    "        for i, row in test_data.iterrows():\n",
    "            recommendations = self.recommend_songs([row], train_data, n_songs=n_songs)\n",
    "            if not recommendations:\n",
    "                continue\n",
    "            recommended_global_idx = [train_data[train_data['track_id'] == rec['track_id']].index[0] for rec in recommendations]\n",
    "            recommended_idx = [train_data.index.get_loc(idx) for idx in recommended_global_idx]\n",
    "            test_vector = scaler.transform(pd.DataFrame([row[features]], columns=features))\n",
    "            dists = np.linalg.norm(X_train - test_vector, axis=1)\n",
    "            sorted_idx = np.argsort(dists)\n",
    "            relevancias = np.zeros(len(train_data))\n",
    "            relevancias[sorted_idx[:n_songs]] = 1\n",
    "            recommended_relevancias = relevancias[recommended_idx]\n",
    "            num_relevantes = n_songs\n",
    "            distancias.append(recommendations[0]['distance'])\n",
    "            precision = np.sum(recommended_relevancias) / n_songs\n",
    "            precisiones.append(precision)\n",
    "            recall = np.sum(recommended_relevancias) / num_relevantes if num_relevantes > 0 else 0\n",
    "            recalls.append(recall)\n",
    "            if np.sum(recommended_relevancias) > 0:\n",
    "                ap = 0\n",
    "                hits = 0\n",
    "                for idx, rel in enumerate(recommended_relevancias, 1):\n",
    "                    if rel:\n",
    "                        hits += 1\n",
    "                        ap += hits / idx\n",
    "                ap /= np.sum(recommended_relevancias)\n",
    "            else:\n",
    "                ap = 0\n",
    "            average_precisions.append(ap)\n",
    "            recommended_scores = 1 - dists[recommended_idx] / (dists[recommended_idx].max() if dists[recommended_idx].max() > 0 else 1)\n",
    "            from sklearn.metrics import ndcg_score\n",
    "            ndcg = ndcg_score([relevancias[recommended_idx]], [recommended_scores])\n",
    "            ndcgs.append(ndcg)\n",
    "        distancia_media = np.mean(distancias) if distancias else 0\n",
    "        print(f\"Distancia euclidiana promedio entre test y recomendación: {distancia_media:.4f}\")\n",
    "        print(f\"Precisión@{n_songs}: {np.mean(precisiones):.4f}\")\n",
    "        print(f\"Recall@{n_songs}: {np.mean(recalls):.4f}\")\n",
    "        print(f\"MAP: {np.mean(average_precisions):.4f}\")\n",
    "        print(f\"NDCG@{n_songs}: {np.mean(ndcgs):.4f}\")"
   ]
  },
  {
   "cell_type": "code",
   "execution_count": 58,
   "id": "1476024d",
   "metadata": {},
   "outputs": [
    {
     "name": "stdout",
     "output_type": "stream",
     "text": [
      "Distancia euclidiana promedio entre test y recomendación: 0.0234\n",
      "Precisión@10: 0.5651\n",
      "Recall@10: 0.5651\n",
      "MAP: 0.7848\n",
      "NDCG@10: 0.9856\n"
     ]
    }
   ],
   "source": [
    "# Evaluar el modelo\n",
    "kmeans_model = KMeans_model(n_clusters=8)\n",
    "kmeans_model.fit(X_train)\n",
    "kmeans_model.evaluate(test_data, train_data, n_songs=10)"
   ]
  },
  {
   "cell_type": "code",
   "execution_count": 59,
   "id": "4250c8fa",
   "metadata": {},
   "outputs": [
    {
     "name": "stdout",
     "output_type": "stream",
     "text": [
      "[{'track_name': 'Run Wild', 'artist_name': 'Jon Bellion', 'track_id': '0FsGUPoOMHzHnViGBKbBLX', 'release_year': 2014.0, 'distance': 0.013150288746176297}, {'track_name': 'Run Wild', 'artist_name': 'Jon Bellion', 'track_id': '0FsGUPoOMHzHnViGBKbBLX', 'release_year': 2014.0, 'distance': 0.013150288746176297}, {'track_name': 'Hoe Cakes', 'artist_name': 'MF DOOM', 'track_id': '6OyRpRa1xjDNriftwh1dZR', 'release_year': 2004.0, 'distance': 0.03935060184933403}, {'track_name': 'Joy Ride (feat. Mr. Lif and Sitali)', 'artist_name': 'Thievery Corporation', 'track_id': '4XQiZMzkvpL3KlS9PjNuFS', 'release_year': 2018.0, 'distance': 0.04721173787166222}, {'track_name': 'Be Here', 'artist_name': 'Raphael Saadiq', 'track_id': '7x6ev0H9OAmvuDnyuItBZS', 'release_year': 2002.0, 'distance': 0.04813855586310967}, {'track_name': 'Be Here', 'artist_name': 'Raphael Saadiq', 'track_id': '7x6ev0H9OAmvuDnyuItBZS', 'release_year': 2002.0, 'distance': 0.04813855586310967}, {'track_name': 'Bitches N Marijuana', 'artist_name': 'Chris Brown', 'track_id': '3PiLfzEXHrvT1oJKR8PAJt', 'release_year': 2015.0, 'distance': 0.04982366620122869}, {'track_name': 'Bitches N Marijuana', 'artist_name': 'Chris Brown', 'track_id': '3PiLfzEXHrvT1oJKR8PAJt', 'release_year': 2015.0, 'distance': 0.04982366620122869}, {'track_name': 'Bitches N Marijuana', 'artist_name': 'Chris Brown', 'track_id': '3PiLfzEXHrvT1oJKR8PAJt', 'release_year': 2015.0, 'distance': 0.04982366620122869}, {'track_name': 'Bitches N Marijuana', 'artist_name': 'Chris Brown', 'track_id': '3PiLfzEXHrvT1oJKR8PAJt', 'release_year': 2015.0, 'distance': 0.04982366620122869}]\n"
     ]
    }
   ],
   "source": [
    "# Usar el modelo\n",
    "recomendaciones_kmeans = kmeans_model.recommend_songs([test_data.iloc[0]], train_data)\n",
    "print(recomendaciones_kmeans)"
   ]
  },
  {
   "cell_type": "markdown",
   "id": "f440b5d3",
   "metadata": {},
   "source": [
    "## Clustering con DBSCAN"
   ]
  },
  {
   "cell_type": "markdown",
   "id": "05d4bf70",
   "metadata": {},
   "source": [
    "### Elaboración del modelo"
   ]
  },
  {
   "cell_type": "code",
   "execution_count": 60,
   "id": "74bef989",
   "metadata": {},
   "outputs": [],
   "source": [
    "# Importar librerías\n",
    "from sklearn.cluster import DBSCAN\n",
    "\n",
    "class DBSCAN_model:\n",
    "    \"\"\"Clase para implementar el modelo de recomendación mediante clustering DBSCAN.\"\"\"\n",
    "    \n",
    "    def __init__(self, eps=0.5, min_samples=5):\n",
    "        \"\"\"Inicializa el modelo con los parámetros de DBSCAN.\"\"\"\n",
    "        self.eps = eps\n",
    "        self.min_samples = min_samples\n",
    "        self.model = None\n",
    "\n",
    "    def fit(self, X):\n",
    "        \"\"\"Ajusta el modelo DBSCAN a los datos en X.\"\"\"\n",
    "        self.model = DBSCAN(eps=self.eps, min_samples=self.min_samples, metric=\"euclidean\").fit(X)\n",
    "        return self.model\n",
    "\n",
    "    def predict(self, X):\n",
    "        \"\"\"Predice las etiquetas de cluster para los datos en X.\"\"\"\n",
    "        if self.model is not None:\n",
    "            return self.model.fit_predict(X)\n",
    "        else:\n",
    "            raise ValueError(\"El modelo no ha sido entrenado.\")\n",
    "\n",
    "    def _flatten_dict_list(self, dict_list: list[dict]):\n",
    "        \"\"\"Aplana una lista de diccionarios en un único diccionario\"\"\"\n",
    "        flattened_dict = dict()\n",
    "        for key in dict_list[0].keys():\n",
    "            flattened_dict[key] = []\n",
    "        \n",
    "        for dictionary in dict_list:\n",
    "            for key, value in dictionary.items():\n",
    "                flattened_dict[key].append(value)\n",
    "                \n",
    "        return flattened_dict\n",
    "\n",
    "    def _get_mean_vector(self, song_list):\n",
    "        \"\"\"Calcula el vector medio representativo de una lista de canciones.\"\"\"\n",
    "        song_vectors = []\n",
    "\n",
    "        for song in song_list:\n",
    "            song_vector = song[features].values\n",
    "            song_vectors.append(song_vector)\n",
    "\n",
    "        song_matrix = np.array(list(song_vectors))\n",
    "        return np.mean(song_matrix, axis=0)\n",
    "        \n",
    "    def recommend_songs(self, song_list, spotify_data, n_songs=10):\n",
    "        \"\"\"Ofrece una lista de `n_songs` recomendaciones a partir de una lista de canciones escuchadas.\"\"\"\n",
    "        metadata_cols = ['track_name', 'artist_name', 'track_id', 'release_year', 'distance']\n",
    "        song_dict = self._flatten_dict_list(song_list)\n",
    "        \n",
    "        song_center = self._get_mean_vector(song_list)\n",
    "        scaler = StandardScaler()\n",
    "        scaled_data = scaler.fit_transform(spotify_data[features])\n",
    "        song_center_df = pd.DataFrame([song_center], columns=features)\n",
    "        scaled_song_center = scaler.transform(song_center_df)\n",
    "        # scaled_song_center = scaler.transform(song_center.reshape(1, -1))\n",
    "        distances = cdist(scaled_song_center, scaled_data, 'cosine')[0]\n",
    "        \n",
    "        # Exclude already listened songs\n",
    "        mask = ~spotify_data['track_id'].isin(song_dict['track_id'])\n",
    "        filtered_indices = np.where(mask)[0]\n",
    "        filtered_distances = distances[filtered_indices]\n",
    "\n",
    "        # Get indices of the n_songs closest songs\n",
    "        top_indices = filtered_indices[np.argsort(filtered_distances)[:n_songs]]\n",
    "\n",
    "        rec_songs = spotify_data.iloc[top_indices].copy()\n",
    "        rec_songs['distance'] = distances[top_indices]\n",
    "        return rec_songs[metadata_cols].to_dict(orient='records')"
   ]
  },
  {
   "cell_type": "code",
   "execution_count": 61,
   "id": "200f4dd6",
   "metadata": {},
   "outputs": [
    {
     "data": {
      "text/html": [
       "<style>#sk-container-id-11 {\n",
       "  /* Definition of color scheme common for light and dark mode */\n",
       "  --sklearn-color-text: #000;\n",
       "  --sklearn-color-text-muted: #666;\n",
       "  --sklearn-color-line: gray;\n",
       "  /* Definition of color scheme for unfitted estimators */\n",
       "  --sklearn-color-unfitted-level-0: #fff5e6;\n",
       "  --sklearn-color-unfitted-level-1: #f6e4d2;\n",
       "  --sklearn-color-unfitted-level-2: #ffe0b3;\n",
       "  --sklearn-color-unfitted-level-3: chocolate;\n",
       "  /* Definition of color scheme for fitted estimators */\n",
       "  --sklearn-color-fitted-level-0: #f0f8ff;\n",
       "  --sklearn-color-fitted-level-1: #d4ebff;\n",
       "  --sklearn-color-fitted-level-2: #b3dbfd;\n",
       "  --sklearn-color-fitted-level-3: cornflowerblue;\n",
       "\n",
       "  /* Specific color for light theme */\n",
       "  --sklearn-color-text-on-default-background: var(--sg-text-color, var(--theme-code-foreground, var(--jp-content-font-color1, black)));\n",
       "  --sklearn-color-background: var(--sg-background-color, var(--theme-background, var(--jp-layout-color0, white)));\n",
       "  --sklearn-color-border-box: var(--sg-text-color, var(--theme-code-foreground, var(--jp-content-font-color1, black)));\n",
       "  --sklearn-color-icon: #696969;\n",
       "\n",
       "  @media (prefers-color-scheme: dark) {\n",
       "    /* Redefinition of color scheme for dark theme */\n",
       "    --sklearn-color-text-on-default-background: var(--sg-text-color, var(--theme-code-foreground, var(--jp-content-font-color1, white)));\n",
       "    --sklearn-color-background: var(--sg-background-color, var(--theme-background, var(--jp-layout-color0, #111)));\n",
       "    --sklearn-color-border-box: var(--sg-text-color, var(--theme-code-foreground, var(--jp-content-font-color1, white)));\n",
       "    --sklearn-color-icon: #878787;\n",
       "  }\n",
       "}\n",
       "\n",
       "#sk-container-id-11 {\n",
       "  color: var(--sklearn-color-text);\n",
       "}\n",
       "\n",
       "#sk-container-id-11 pre {\n",
       "  padding: 0;\n",
       "}\n",
       "\n",
       "#sk-container-id-11 input.sk-hidden--visually {\n",
       "  border: 0;\n",
       "  clip: rect(1px 1px 1px 1px);\n",
       "  clip: rect(1px, 1px, 1px, 1px);\n",
       "  height: 1px;\n",
       "  margin: -1px;\n",
       "  overflow: hidden;\n",
       "  padding: 0;\n",
       "  position: absolute;\n",
       "  width: 1px;\n",
       "}\n",
       "\n",
       "#sk-container-id-11 div.sk-dashed-wrapped {\n",
       "  border: 1px dashed var(--sklearn-color-line);\n",
       "  margin: 0 0.4em 0.5em 0.4em;\n",
       "  box-sizing: border-box;\n",
       "  padding-bottom: 0.4em;\n",
       "  background-color: var(--sklearn-color-background);\n",
       "}\n",
       "\n",
       "#sk-container-id-11 div.sk-container {\n",
       "  /* jupyter's `normalize.less` sets `[hidden] { display: none; }`\n",
       "     but bootstrap.min.css set `[hidden] { display: none !important; }`\n",
       "     so we also need the `!important` here to be able to override the\n",
       "     default hidden behavior on the sphinx rendered scikit-learn.org.\n",
       "     See: https://github.com/scikit-learn/scikit-learn/issues/21755 */\n",
       "  display: inline-block !important;\n",
       "  position: relative;\n",
       "}\n",
       "\n",
       "#sk-container-id-11 div.sk-text-repr-fallback {\n",
       "  display: none;\n",
       "}\n",
       "\n",
       "div.sk-parallel-item,\n",
       "div.sk-serial,\n",
       "div.sk-item {\n",
       "  /* draw centered vertical line to link estimators */\n",
       "  background-image: linear-gradient(var(--sklearn-color-text-on-default-background), var(--sklearn-color-text-on-default-background));\n",
       "  background-size: 2px 100%;\n",
       "  background-repeat: no-repeat;\n",
       "  background-position: center center;\n",
       "}\n",
       "\n",
       "/* Parallel-specific style estimator block */\n",
       "\n",
       "#sk-container-id-11 div.sk-parallel-item::after {\n",
       "  content: \"\";\n",
       "  width: 100%;\n",
       "  border-bottom: 2px solid var(--sklearn-color-text-on-default-background);\n",
       "  flex-grow: 1;\n",
       "}\n",
       "\n",
       "#sk-container-id-11 div.sk-parallel {\n",
       "  display: flex;\n",
       "  align-items: stretch;\n",
       "  justify-content: center;\n",
       "  background-color: var(--sklearn-color-background);\n",
       "  position: relative;\n",
       "}\n",
       "\n",
       "#sk-container-id-11 div.sk-parallel-item {\n",
       "  display: flex;\n",
       "  flex-direction: column;\n",
       "}\n",
       "\n",
       "#sk-container-id-11 div.sk-parallel-item:first-child::after {\n",
       "  align-self: flex-end;\n",
       "  width: 50%;\n",
       "}\n",
       "\n",
       "#sk-container-id-11 div.sk-parallel-item:last-child::after {\n",
       "  align-self: flex-start;\n",
       "  width: 50%;\n",
       "}\n",
       "\n",
       "#sk-container-id-11 div.sk-parallel-item:only-child::after {\n",
       "  width: 0;\n",
       "}\n",
       "\n",
       "/* Serial-specific style estimator block */\n",
       "\n",
       "#sk-container-id-11 div.sk-serial {\n",
       "  display: flex;\n",
       "  flex-direction: column;\n",
       "  align-items: center;\n",
       "  background-color: var(--sklearn-color-background);\n",
       "  padding-right: 1em;\n",
       "  padding-left: 1em;\n",
       "}\n",
       "\n",
       "\n",
       "/* Toggleable style: style used for estimator/Pipeline/ColumnTransformer box that is\n",
       "clickable and can be expanded/collapsed.\n",
       "- Pipeline and ColumnTransformer use this feature and define the default style\n",
       "- Estimators will overwrite some part of the style using the `sk-estimator` class\n",
       "*/\n",
       "\n",
       "/* Pipeline and ColumnTransformer style (default) */\n",
       "\n",
       "#sk-container-id-11 div.sk-toggleable {\n",
       "  /* Default theme specific background. It is overwritten whether we have a\n",
       "  specific estimator or a Pipeline/ColumnTransformer */\n",
       "  background-color: var(--sklearn-color-background);\n",
       "}\n",
       "\n",
       "/* Toggleable label */\n",
       "#sk-container-id-11 label.sk-toggleable__label {\n",
       "  cursor: pointer;\n",
       "  display: flex;\n",
       "  width: 100%;\n",
       "  margin-bottom: 0;\n",
       "  padding: 0.5em;\n",
       "  box-sizing: border-box;\n",
       "  text-align: center;\n",
       "  align-items: start;\n",
       "  justify-content: space-between;\n",
       "  gap: 0.5em;\n",
       "}\n",
       "\n",
       "#sk-container-id-11 label.sk-toggleable__label .caption {\n",
       "  font-size: 0.6rem;\n",
       "  font-weight: lighter;\n",
       "  color: var(--sklearn-color-text-muted);\n",
       "}\n",
       "\n",
       "#sk-container-id-11 label.sk-toggleable__label-arrow:before {\n",
       "  /* Arrow on the left of the label */\n",
       "  content: \"▸\";\n",
       "  float: left;\n",
       "  margin-right: 0.25em;\n",
       "  color: var(--sklearn-color-icon);\n",
       "}\n",
       "\n",
       "#sk-container-id-11 label.sk-toggleable__label-arrow:hover:before {\n",
       "  color: var(--sklearn-color-text);\n",
       "}\n",
       "\n",
       "/* Toggleable content - dropdown */\n",
       "\n",
       "#sk-container-id-11 div.sk-toggleable__content {\n",
       "  display: none;\n",
       "  text-align: left;\n",
       "  /* unfitted */\n",
       "  background-color: var(--sklearn-color-unfitted-level-0);\n",
       "}\n",
       "\n",
       "#sk-container-id-11 div.sk-toggleable__content.fitted {\n",
       "  /* fitted */\n",
       "  background-color: var(--sklearn-color-fitted-level-0);\n",
       "}\n",
       "\n",
       "#sk-container-id-11 div.sk-toggleable__content pre {\n",
       "  margin: 0.2em;\n",
       "  border-radius: 0.25em;\n",
       "  color: var(--sklearn-color-text);\n",
       "  /* unfitted */\n",
       "  background-color: var(--sklearn-color-unfitted-level-0);\n",
       "}\n",
       "\n",
       "#sk-container-id-11 div.sk-toggleable__content.fitted pre {\n",
       "  /* unfitted */\n",
       "  background-color: var(--sklearn-color-fitted-level-0);\n",
       "}\n",
       "\n",
       "#sk-container-id-11 input.sk-toggleable__control:checked~div.sk-toggleable__content {\n",
       "  /* Expand drop-down */\n",
       "  display: block;\n",
       "  width: 100%;\n",
       "  overflow: visible;\n",
       "}\n",
       "\n",
       "#sk-container-id-11 input.sk-toggleable__control:checked~label.sk-toggleable__label-arrow:before {\n",
       "  content: \"▾\";\n",
       "}\n",
       "\n",
       "/* Pipeline/ColumnTransformer-specific style */\n",
       "\n",
       "#sk-container-id-11 div.sk-label input.sk-toggleable__control:checked~label.sk-toggleable__label {\n",
       "  color: var(--sklearn-color-text);\n",
       "  background-color: var(--sklearn-color-unfitted-level-2);\n",
       "}\n",
       "\n",
       "#sk-container-id-11 div.sk-label.fitted input.sk-toggleable__control:checked~label.sk-toggleable__label {\n",
       "  background-color: var(--sklearn-color-fitted-level-2);\n",
       "}\n",
       "\n",
       "/* Estimator-specific style */\n",
       "\n",
       "/* Colorize estimator box */\n",
       "#sk-container-id-11 div.sk-estimator input.sk-toggleable__control:checked~label.sk-toggleable__label {\n",
       "  /* unfitted */\n",
       "  background-color: var(--sklearn-color-unfitted-level-2);\n",
       "}\n",
       "\n",
       "#sk-container-id-11 div.sk-estimator.fitted input.sk-toggleable__control:checked~label.sk-toggleable__label {\n",
       "  /* fitted */\n",
       "  background-color: var(--sklearn-color-fitted-level-2);\n",
       "}\n",
       "\n",
       "#sk-container-id-11 div.sk-label label.sk-toggleable__label,\n",
       "#sk-container-id-11 div.sk-label label {\n",
       "  /* The background is the default theme color */\n",
       "  color: var(--sklearn-color-text-on-default-background);\n",
       "}\n",
       "\n",
       "/* On hover, darken the color of the background */\n",
       "#sk-container-id-11 div.sk-label:hover label.sk-toggleable__label {\n",
       "  color: var(--sklearn-color-text);\n",
       "  background-color: var(--sklearn-color-unfitted-level-2);\n",
       "}\n",
       "\n",
       "/* Label box, darken color on hover, fitted */\n",
       "#sk-container-id-11 div.sk-label.fitted:hover label.sk-toggleable__label.fitted {\n",
       "  color: var(--sklearn-color-text);\n",
       "  background-color: var(--sklearn-color-fitted-level-2);\n",
       "}\n",
       "\n",
       "/* Estimator label */\n",
       "\n",
       "#sk-container-id-11 div.sk-label label {\n",
       "  font-family: monospace;\n",
       "  font-weight: bold;\n",
       "  display: inline-block;\n",
       "  line-height: 1.2em;\n",
       "}\n",
       "\n",
       "#sk-container-id-11 div.sk-label-container {\n",
       "  text-align: center;\n",
       "}\n",
       "\n",
       "/* Estimator-specific */\n",
       "#sk-container-id-11 div.sk-estimator {\n",
       "  font-family: monospace;\n",
       "  border: 1px dotted var(--sklearn-color-border-box);\n",
       "  border-radius: 0.25em;\n",
       "  box-sizing: border-box;\n",
       "  margin-bottom: 0.5em;\n",
       "  /* unfitted */\n",
       "  background-color: var(--sklearn-color-unfitted-level-0);\n",
       "}\n",
       "\n",
       "#sk-container-id-11 div.sk-estimator.fitted {\n",
       "  /* fitted */\n",
       "  background-color: var(--sklearn-color-fitted-level-0);\n",
       "}\n",
       "\n",
       "/* on hover */\n",
       "#sk-container-id-11 div.sk-estimator:hover {\n",
       "  /* unfitted */\n",
       "  background-color: var(--sklearn-color-unfitted-level-2);\n",
       "}\n",
       "\n",
       "#sk-container-id-11 div.sk-estimator.fitted:hover {\n",
       "  /* fitted */\n",
       "  background-color: var(--sklearn-color-fitted-level-2);\n",
       "}\n",
       "\n",
       "/* Specification for estimator info (e.g. \"i\" and \"?\") */\n",
       "\n",
       "/* Common style for \"i\" and \"?\" */\n",
       "\n",
       ".sk-estimator-doc-link,\n",
       "a:link.sk-estimator-doc-link,\n",
       "a:visited.sk-estimator-doc-link {\n",
       "  float: right;\n",
       "  font-size: smaller;\n",
       "  line-height: 1em;\n",
       "  font-family: monospace;\n",
       "  background-color: var(--sklearn-color-background);\n",
       "  border-radius: 1em;\n",
       "  height: 1em;\n",
       "  width: 1em;\n",
       "  text-decoration: none !important;\n",
       "  margin-left: 0.5em;\n",
       "  text-align: center;\n",
       "  /* unfitted */\n",
       "  border: var(--sklearn-color-unfitted-level-1) 1pt solid;\n",
       "  color: var(--sklearn-color-unfitted-level-1);\n",
       "}\n",
       "\n",
       ".sk-estimator-doc-link.fitted,\n",
       "a:link.sk-estimator-doc-link.fitted,\n",
       "a:visited.sk-estimator-doc-link.fitted {\n",
       "  /* fitted */\n",
       "  border: var(--sklearn-color-fitted-level-1) 1pt solid;\n",
       "  color: var(--sklearn-color-fitted-level-1);\n",
       "}\n",
       "\n",
       "/* On hover */\n",
       "div.sk-estimator:hover .sk-estimator-doc-link:hover,\n",
       ".sk-estimator-doc-link:hover,\n",
       "div.sk-label-container:hover .sk-estimator-doc-link:hover,\n",
       ".sk-estimator-doc-link:hover {\n",
       "  /* unfitted */\n",
       "  background-color: var(--sklearn-color-unfitted-level-3);\n",
       "  color: var(--sklearn-color-background);\n",
       "  text-decoration: none;\n",
       "}\n",
       "\n",
       "div.sk-estimator.fitted:hover .sk-estimator-doc-link.fitted:hover,\n",
       ".sk-estimator-doc-link.fitted:hover,\n",
       "div.sk-label-container:hover .sk-estimator-doc-link.fitted:hover,\n",
       ".sk-estimator-doc-link.fitted:hover {\n",
       "  /* fitted */\n",
       "  background-color: var(--sklearn-color-fitted-level-3);\n",
       "  color: var(--sklearn-color-background);\n",
       "  text-decoration: none;\n",
       "}\n",
       "\n",
       "/* Span, style for the box shown on hovering the info icon */\n",
       ".sk-estimator-doc-link span {\n",
       "  display: none;\n",
       "  z-index: 9999;\n",
       "  position: relative;\n",
       "  font-weight: normal;\n",
       "  right: .2ex;\n",
       "  padding: .5ex;\n",
       "  margin: .5ex;\n",
       "  width: min-content;\n",
       "  min-width: 20ex;\n",
       "  max-width: 50ex;\n",
       "  color: var(--sklearn-color-text);\n",
       "  box-shadow: 2pt 2pt 4pt #999;\n",
       "  /* unfitted */\n",
       "  background: var(--sklearn-color-unfitted-level-0);\n",
       "  border: .5pt solid var(--sklearn-color-unfitted-level-3);\n",
       "}\n",
       "\n",
       ".sk-estimator-doc-link.fitted span {\n",
       "  /* fitted */\n",
       "  background: var(--sklearn-color-fitted-level-0);\n",
       "  border: var(--sklearn-color-fitted-level-3);\n",
       "}\n",
       "\n",
       ".sk-estimator-doc-link:hover span {\n",
       "  display: block;\n",
       "}\n",
       "\n",
       "/* \"?\"-specific style due to the `<a>` HTML tag */\n",
       "\n",
       "#sk-container-id-11 a.estimator_doc_link {\n",
       "  float: right;\n",
       "  font-size: 1rem;\n",
       "  line-height: 1em;\n",
       "  font-family: monospace;\n",
       "  background-color: var(--sklearn-color-background);\n",
       "  border-radius: 1rem;\n",
       "  height: 1rem;\n",
       "  width: 1rem;\n",
       "  text-decoration: none;\n",
       "  /* unfitted */\n",
       "  color: var(--sklearn-color-unfitted-level-1);\n",
       "  border: var(--sklearn-color-unfitted-level-1) 1pt solid;\n",
       "}\n",
       "\n",
       "#sk-container-id-11 a.estimator_doc_link.fitted {\n",
       "  /* fitted */\n",
       "  border: var(--sklearn-color-fitted-level-1) 1pt solid;\n",
       "  color: var(--sklearn-color-fitted-level-1);\n",
       "}\n",
       "\n",
       "/* On hover */\n",
       "#sk-container-id-11 a.estimator_doc_link:hover {\n",
       "  /* unfitted */\n",
       "  background-color: var(--sklearn-color-unfitted-level-3);\n",
       "  color: var(--sklearn-color-background);\n",
       "  text-decoration: none;\n",
       "}\n",
       "\n",
       "#sk-container-id-11 a.estimator_doc_link.fitted:hover {\n",
       "  /* fitted */\n",
       "  background-color: var(--sklearn-color-fitted-level-3);\n",
       "}\n",
       "\n",
       ".estimator-table summary {\n",
       "    padding: .5rem;\n",
       "    font-family: monospace;\n",
       "    cursor: pointer;\n",
       "}\n",
       "\n",
       ".estimator-table details[open] {\n",
       "    padding-left: 0.1rem;\n",
       "    padding-right: 0.1rem;\n",
       "    padding-bottom: 0.3rem;\n",
       "}\n",
       "\n",
       ".estimator-table .parameters-table {\n",
       "    margin-left: auto !important;\n",
       "    margin-right: auto !important;\n",
       "}\n",
       "\n",
       ".estimator-table .parameters-table tr:nth-child(odd) {\n",
       "    background-color: #fff;\n",
       "}\n",
       "\n",
       ".estimator-table .parameters-table tr:nth-child(even) {\n",
       "    background-color: #f6f6f6;\n",
       "}\n",
       "\n",
       ".estimator-table .parameters-table tr:hover {\n",
       "    background-color: #e0e0e0;\n",
       "}\n",
       "\n",
       ".estimator-table table td {\n",
       "    border: 1px solid rgba(106, 105, 104, 0.232);\n",
       "}\n",
       "\n",
       ".user-set td {\n",
       "    color:rgb(255, 94, 0);\n",
       "    text-align: left;\n",
       "}\n",
       "\n",
       ".user-set td.value pre {\n",
       "    color:rgb(255, 94, 0) !important;\n",
       "    background-color: transparent !important;\n",
       "}\n",
       "\n",
       ".default td {\n",
       "    color: black;\n",
       "    text-align: left;\n",
       "}\n",
       "\n",
       ".user-set td i,\n",
       ".default td i {\n",
       "    color: black;\n",
       "}\n",
       "\n",
       ".copy-paste-icon {\n",
       "    background-image: url(data:image/svg+xml;base64,PHN2ZyB4bWxucz0iaHR0cDovL3d3dy53My5vcmcvMjAwMC9zdmciIHZpZXdCb3g9IjAgMCA0NDggNTEyIj48IS0tIUZvbnQgQXdlc29tZSBGcmVlIDYuNy4yIGJ5IEBmb250YXdlc29tZSAtIGh0dHBzOi8vZm9udGF3ZXNvbWUuY29tIExpY2Vuc2UgLSBodHRwczovL2ZvbnRhd2Vzb21lLmNvbS9saWNlbnNlL2ZyZWUgQ29weXJpZ2h0IDIwMjUgRm9udGljb25zLCBJbmMuLS0+PHBhdGggZD0iTTIwOCAwTDMzMi4xIDBjMTIuNyAwIDI0LjkgNS4xIDMzLjkgMTQuMWw2Ny45IDY3LjljOSA5IDE0LjEgMjEuMiAxNC4xIDMzLjlMNDQ4IDMzNmMwIDI2LjUtMjEuNSA0OC00OCA0OGwtMTkyIDBjLTI2LjUgMC00OC0yMS41LTQ4LTQ4bDAtMjg4YzAtMjYuNSAyMS41LTQ4IDQ4LTQ4ek00OCAxMjhsODAgMCAwIDY0LTY0IDAgMCAyNTYgMTkyIDAgMC0zMiA2NCAwIDAgNDhjMCAyNi41LTIxLjUgNDgtNDggNDhMNDggNTEyYy0yNi41IDAtNDgtMjEuNS00OC00OEwwIDE3NmMwLTI2LjUgMjEuNS00OCA0OC00OHoiLz48L3N2Zz4=);\n",
       "    background-repeat: no-repeat;\n",
       "    background-size: 14px 14px;\n",
       "    background-position: 0;\n",
       "    display: inline-block;\n",
       "    width: 14px;\n",
       "    height: 14px;\n",
       "    cursor: pointer;\n",
       "}\n",
       "</style><body><div id=\"sk-container-id-11\" class=\"sk-top-container\"><div class=\"sk-text-repr-fallback\"><pre>DBSCAN()</pre><b>In a Jupyter environment, please rerun this cell to show the HTML representation or trust the notebook. <br />On GitHub, the HTML representation is unable to render, please try loading this page with nbviewer.org.</b></div><div class=\"sk-container\" hidden><div class=\"sk-item\"><div class=\"sk-estimator fitted sk-toggleable\"><input class=\"sk-toggleable__control sk-hidden--visually\" id=\"sk-estimator-id-11\" type=\"checkbox\" checked><label for=\"sk-estimator-id-11\" class=\"sk-toggleable__label fitted sk-toggleable__label-arrow\"><div><div>DBSCAN</div></div><div><a class=\"sk-estimator-doc-link fitted\" rel=\"noreferrer\" target=\"_blank\" href=\"https://scikit-learn.org/1.7/modules/generated/sklearn.cluster.DBSCAN.html\">?<span>Documentation for DBSCAN</span></a><span class=\"sk-estimator-doc-link fitted\">i<span>Fitted</span></span></div></label><div class=\"sk-toggleable__content fitted\" data-param-prefix=\"\">\n",
       "        <div class=\"estimator-table\">\n",
       "            <details>\n",
       "                <summary>Parameters</summary>\n",
       "                <table class=\"parameters-table\">\n",
       "                  <tbody>\n",
       "                    \n",
       "        <tr class=\"default\">\n",
       "            <td><i class=\"copy-paste-icon\"\n",
       "                 onclick=\"copyToClipboard('eps',\n",
       "                          this.parentElement.nextElementSibling)\"\n",
       "            ></i></td>\n",
       "            <td class=\"param\">eps&nbsp;</td>\n",
       "            <td class=\"value\">0.5</td>\n",
       "        </tr>\n",
       "    \n",
       "\n",
       "        <tr class=\"default\">\n",
       "            <td><i class=\"copy-paste-icon\"\n",
       "                 onclick=\"copyToClipboard('min_samples',\n",
       "                          this.parentElement.nextElementSibling)\"\n",
       "            ></i></td>\n",
       "            <td class=\"param\">min_samples&nbsp;</td>\n",
       "            <td class=\"value\">5</td>\n",
       "        </tr>\n",
       "    \n",
       "\n",
       "        <tr class=\"default\">\n",
       "            <td><i class=\"copy-paste-icon\"\n",
       "                 onclick=\"copyToClipboard('metric',\n",
       "                          this.parentElement.nextElementSibling)\"\n",
       "            ></i></td>\n",
       "            <td class=\"param\">metric&nbsp;</td>\n",
       "            <td class=\"value\">&#x27;euclidean&#x27;</td>\n",
       "        </tr>\n",
       "    \n",
       "\n",
       "        <tr class=\"default\">\n",
       "            <td><i class=\"copy-paste-icon\"\n",
       "                 onclick=\"copyToClipboard('metric_params',\n",
       "                          this.parentElement.nextElementSibling)\"\n",
       "            ></i></td>\n",
       "            <td class=\"param\">metric_params&nbsp;</td>\n",
       "            <td class=\"value\">None</td>\n",
       "        </tr>\n",
       "    \n",
       "\n",
       "        <tr class=\"default\">\n",
       "            <td><i class=\"copy-paste-icon\"\n",
       "                 onclick=\"copyToClipboard('algorithm',\n",
       "                          this.parentElement.nextElementSibling)\"\n",
       "            ></i></td>\n",
       "            <td class=\"param\">algorithm&nbsp;</td>\n",
       "            <td class=\"value\">&#x27;auto&#x27;</td>\n",
       "        </tr>\n",
       "    \n",
       "\n",
       "        <tr class=\"default\">\n",
       "            <td><i class=\"copy-paste-icon\"\n",
       "                 onclick=\"copyToClipboard('leaf_size',\n",
       "                          this.parentElement.nextElementSibling)\"\n",
       "            ></i></td>\n",
       "            <td class=\"param\">leaf_size&nbsp;</td>\n",
       "            <td class=\"value\">30</td>\n",
       "        </tr>\n",
       "    \n",
       "\n",
       "        <tr class=\"default\">\n",
       "            <td><i class=\"copy-paste-icon\"\n",
       "                 onclick=\"copyToClipboard('p',\n",
       "                          this.parentElement.nextElementSibling)\"\n",
       "            ></i></td>\n",
       "            <td class=\"param\">p&nbsp;</td>\n",
       "            <td class=\"value\">None</td>\n",
       "        </tr>\n",
       "    \n",
       "\n",
       "        <tr class=\"default\">\n",
       "            <td><i class=\"copy-paste-icon\"\n",
       "                 onclick=\"copyToClipboard('n_jobs',\n",
       "                          this.parentElement.nextElementSibling)\"\n",
       "            ></i></td>\n",
       "            <td class=\"param\">n_jobs&nbsp;</td>\n",
       "            <td class=\"value\">None</td>\n",
       "        </tr>\n",
       "    \n",
       "                  </tbody>\n",
       "                </table>\n",
       "            </details>\n",
       "        </div>\n",
       "    </div></div></div></div></div><script>function copyToClipboard(text, element) {\n",
       "    // Get the parameter prefix from the closest toggleable content\n",
       "    const toggleableContent = element.closest('.sk-toggleable__content');\n",
       "    const paramPrefix = toggleableContent ? toggleableContent.dataset.paramPrefix : '';\n",
       "    const fullParamName = paramPrefix ? `${paramPrefix}${text}` : text;\n",
       "\n",
       "    const originalStyle = element.style;\n",
       "    const computedStyle = window.getComputedStyle(element);\n",
       "    const originalWidth = computedStyle.width;\n",
       "    const originalHTML = element.innerHTML.replace('Copied!', '');\n",
       "\n",
       "    navigator.clipboard.writeText(fullParamName)\n",
       "        .then(() => {\n",
       "            element.style.width = originalWidth;\n",
       "            element.style.color = 'green';\n",
       "            element.innerHTML = \"Copied!\";\n",
       "\n",
       "            setTimeout(() => {\n",
       "                element.innerHTML = originalHTML;\n",
       "                element.style = originalStyle;\n",
       "            }, 2000);\n",
       "        })\n",
       "        .catch(err => {\n",
       "            console.error('Failed to copy:', err);\n",
       "            element.style.color = 'red';\n",
       "            element.innerHTML = \"Failed!\";\n",
       "            setTimeout(() => {\n",
       "                element.innerHTML = originalHTML;\n",
       "                element.style = originalStyle;\n",
       "            }, 2000);\n",
       "        });\n",
       "    return false;\n",
       "}\n",
       "\n",
       "document.querySelectorAll('.fa-regular.fa-copy').forEach(function(element) {\n",
       "    const toggleableContent = element.closest('.sk-toggleable__content');\n",
       "    const paramPrefix = toggleableContent ? toggleableContent.dataset.paramPrefix : '';\n",
       "    const paramName = element.parentElement.nextElementSibling.textContent.trim();\n",
       "    const fullParamName = paramPrefix ? `${paramPrefix}${paramName}` : paramName;\n",
       "\n",
       "    element.setAttribute('title', fullParamName);\n",
       "});\n",
       "</script></body>"
      ],
      "text/plain": [
       "DBSCAN()"
      ]
     },
     "execution_count": 61,
     "metadata": {},
     "output_type": "execute_result"
    }
   ],
   "source": [
    "# Entrenar el modelo DBSCAN\n",
    "dbscan_model = DBSCAN_model(eps=0.5, min_samples=5)\n",
    "dbscan_model.fit(X_train)"
   ]
  },
  {
   "cell_type": "code",
   "execution_count": 62,
   "id": "3fb6be85",
   "metadata": {},
   "outputs": [
    {
     "name": "stdout",
     "output_type": "stream",
     "text": [
      "Distancia euclidiana promedio entre test y recomendación: 0.0212\n"
     ]
    }
   ],
   "source": [
    "# Evaluar el modelo usando solo la distancia euclidiana promedio entre cada canción de test y su recomendada\n",
    "distancias = []\n",
    "\n",
    "for i, row in test_data.iterrows():\n",
    "    # Obtener el vector de la canción de test como DataFrame para mantener los nombres de columnas\n",
    "    recommendations = dbscan_model.recommend_songs([row], data, n_songs=1)\n",
    "    distancias.append(recommendations[0]['distance'])\n",
    "\n",
    "distancia_media = np.mean(distancias) if distancias else 0\n",
    "print(\n",
    "    f\"Distancia euclidiana promedio entre test y recomendación: {distancia_media:.4f}\"\n",
    ")"
   ]
  },
  {
   "cell_type": "code",
   "execution_count": 63,
   "id": "38ef17ff",
   "metadata": {},
   "outputs": [
    {
     "name": "stdout",
     "output_type": "stream",
     "text": [
      "Precisión@10: 0.5911\n",
      "Recall@10: 0.5911\n",
      "MAP: 0.7811\n",
      "NDCG@10: 0.9868\n"
     ]
    }
   ],
   "source": [
    "k = 10\n",
    "precisiones = []\n",
    "recalls = []\n",
    "average_precisions = []\n",
    "ndcgs = []\n",
    "\n",
    "for i, row in test_data.iterrows():\n",
    "    # Obtener recomendaciones del modelo DBSCAN\n",
    "    recommendations = dbscan_model.recommend_songs([row], train_data, n_songs=k)\n",
    "    # Obtener los índices globales de las canciones recomendadas en el set de entrenamiento\n",
    "    recommended_global_idx = [train_data[train_data['track_id'] == rec['track_id']].index[0] for rec in recommendations]\n",
    "    # Convertir los índices globales a índices posicionales (0-based)\n",
    "    recommended_idx = [train_data.index.get_loc(idx) for idx in recommended_global_idx]\n",
    "    # Calcular distancias entre la canción de test y todas las canciones de entrenamiento\n",
    "    test_vector = scaler.transform(pd.DataFrame([row[features]], columns=features))\n",
    "    dists = np.linalg.norm(X_train - test_vector, axis=1)\n",
    "    sorted_idx = np.argsort(dists)\n",
    "    # Definir las k canciones más cercanas como relevantes\n",
    "    relevancias = np.zeros(len(train_data))\n",
    "    relevancias[sorted_idx[:k]] = 1\n",
    "    # Relevancia de las recomendaciones\n",
    "    recommended_relevancias = relevancias[recommended_idx]\n",
    "    num_relevantes = k  # Por definición, hay k relevantes\n",
    "    # Precisión@k\n",
    "    precision = np.sum(recommended_relevancias) / k\n",
    "    precisiones.append(precision)\n",
    "    # Recall@k\n",
    "    recall = np.sum(recommended_relevancias) / num_relevantes if num_relevantes > 0 else 0\n",
    "    recalls.append(recall)\n",
    "    # MAP\n",
    "    if np.sum(recommended_relevancias) > 0:\n",
    "        ap = 0\n",
    "        hits = 0\n",
    "        for idx, rel in enumerate(recommended_relevancias, 1):\n",
    "            if rel:\n",
    "                hits += 1\n",
    "                ap += hits / idx\n",
    "        ap /= np.sum(recommended_relevancias)\n",
    "    else:\n",
    "        ap = 0\n",
    "    average_precisions.append(ap)\n",
    "    # NDCG\n",
    "    # Para NDCG, usamos la relevancia y una \"score\" inversa a la distancia (similitud)\n",
    "    recommended_scores = 1 - dists[recommended_idx] / (dists[recommended_idx].max() if dists[recommended_idx].max() > 0 else 1)\n",
    "    ndcg = ndcg_score([relevancias[recommended_idx]], [recommended_scores])\n",
    "    ndcgs.append(ndcg)\n",
    "\n",
    "print(f\"Precisión@{k}: {np.mean(precisiones):.4f}\")\n",
    "print(f\"Recall@{k}: {np.mean(recalls):.4f}\")\n",
    "print(f\"MAP: {np.mean(average_precisions):.4f}\")\n",
    "print(f\"NDCG@{k}: {np.mean(ndcgs):.4f}\")\n"
   ]
  }
 ],
 "metadata": {
  "kernelspec": {
   "display_name": ".venv",
   "language": "python",
   "name": "python3"
  },
  "language_info": {
   "codemirror_mode": {
    "name": "ipython",
    "version": 3
   },
   "file_extension": ".py",
   "mimetype": "text/x-python",
   "name": "python",
   "nbconvert_exporter": "python",
   "pygments_lexer": "ipython3",
   "version": "3.11.0"
  }
 },
 "nbformat": 4,
 "nbformat_minor": 5
}

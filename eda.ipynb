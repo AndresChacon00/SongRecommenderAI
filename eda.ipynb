{
 "cells": [
  {
   "cell_type": "markdown",
   "id": "e9b9c76d",
   "metadata": {},
   "source": [
    "# Análisis Exploratorio de Datos\n"
   ]
  },
  {
   "cell_type": "markdown",
   "id": "2f964d3f",
   "metadata": {},
   "source": [
    "## Importacion de librerias\n"
   ]
  },
  {
   "cell_type": "code",
   "execution_count": 1,
   "id": "3adabbdf",
   "metadata": {},
   "outputs": [],
   "source": [
    "import os\n",
    "import numpy as np\n",
    "import pandas as pd\n"
   ]
  },
  {
   "cell_type": "markdown",
   "id": "9eb93f97",
   "metadata": {},
   "source": [
    "## Cargar datos\n"
   ]
  },
  {
   "cell_type": "code",
   "execution_count": 2,
   "id": "c480a4e5",
   "metadata": {},
   "outputs": [
    {
     "name": "stdout",
     "output_type": "stream",
     "text": [
      "<class 'pandas.core.frame.DataFrame'>\n",
      "RangeIndex: 170653 entries, 0 to 170652\n",
      "Data columns (total 19 columns):\n",
      " #   Column            Non-Null Count   Dtype  \n",
      "---  ------            --------------   -----  \n",
      " 0   valence           170653 non-null  float64\n",
      " 1   year              170653 non-null  int64  \n",
      " 2   acousticness      170653 non-null  float64\n",
      " 3   artists           170653 non-null  object \n",
      " 4   danceability      170653 non-null  float64\n",
      " 5   duration_ms       170653 non-null  int64  \n",
      " 6   energy            170653 non-null  float64\n",
      " 7   explicit          170653 non-null  int64  \n",
      " 8   id                170653 non-null  object \n",
      " 9   instrumentalness  170653 non-null  float64\n",
      " 10  key               170653 non-null  int64  \n",
      " 11  liveness          170653 non-null  float64\n",
      " 12  loudness          170653 non-null  float64\n",
      " 13  mode              170653 non-null  int64  \n",
      " 14  name              170653 non-null  object \n",
      " 15  popularity        170653 non-null  int64  \n",
      " 16  release_date      170653 non-null  object \n",
      " 17  speechiness       170653 non-null  float64\n",
      " 18  tempo             170653 non-null  float64\n",
      "dtypes: float64(9), int64(6), object(4)\n",
      "memory usage: 24.7+ MB\n",
      "None\n",
      "   valence  year  acousticness  \\\n",
      "0   0.0594  1921         0.982   \n",
      "1   0.9630  1921         0.732   \n",
      "2   0.0394  1921         0.961   \n",
      "3   0.1650  1921         0.967   \n",
      "4   0.2530  1921         0.957   \n",
      "\n",
      "                                             artists  danceability  \\\n",
      "0  ['Sergei Rachmaninoff', 'James Levine', 'Berli...         0.279   \n",
      "1                                     ['Dennis Day']         0.819   \n",
      "2  ['KHP Kridhamardawa Karaton Ngayogyakarta Hadi...         0.328   \n",
      "3                                   ['Frank Parker']         0.275   \n",
      "4                                     ['Phil Regan']         0.418   \n",
      "\n",
      "   duration_ms  energy  explicit                      id  instrumentalness  \\\n",
      "0       831667   0.211         0  4BJqT0PrAfrxzMOxytFOIz          0.878000   \n",
      "1       180533   0.341         0  7xPhfUan2yNtyFG0cUWkt8          0.000000   \n",
      "2       500062   0.166         0  1o6I8BglA6ylDMrIELygv1          0.913000   \n",
      "3       210000   0.309         0  3ftBPsC5vPBKxYSee08FDH          0.000028   \n",
      "4       166693   0.193         0  4d6HGyGT8e121BsdKmw9v6          0.000002   \n",
      "\n",
      "   key  liveness  loudness  mode  \\\n",
      "0   10     0.665   -20.096     1   \n",
      "1    7     0.160   -12.441     1   \n",
      "2    3     0.101   -14.850     1   \n",
      "3    5     0.381    -9.316     1   \n",
      "4    3     0.229   -10.096     1   \n",
      "\n",
      "                                                name  popularity release_date  \\\n",
      "0  Piano Concerto No. 3 in D Minor, Op. 30: III. ...           4         1921   \n",
      "1                            Clancy Lowered the Boom           5         1921   \n",
      "2                                          Gati Bali           5         1921   \n",
      "3                                          Danny Boy           3         1921   \n",
      "4                        When Irish Eyes Are Smiling           2         1921   \n",
      "\n",
      "   speechiness    tempo  \n",
      "0       0.0366   80.954  \n",
      "1       0.4150   60.936  \n",
      "2       0.0339  110.339  \n",
      "3       0.0354  100.109  \n",
      "4       0.0380  101.665  \n"
     ]
    }
   ],
   "source": [
    "data = pd.read_csv(\"data.csv\")\n",
    "print(data.info())\n",
    "\n",
    "print(data.head())"
   ]
  },
  {
   "cell_type": "markdown",
   "id": "4a8ccd4e",
   "metadata": {},
   "source": [
    "- genre: Género musical de la canción.\n",
    "- artist_name: Nombre del artista.\n",
    "- track_name: Nombre de la canción.\n",
    "- track_id: Identificador único de la canción.\n",
    "- popularity: Popularidad de la canción (valor numérico).\n",
    "- acousticness: Medida de cuán acústica es la canción.\n",
    "- danceability: Facilidad para bailar la canción.\n",
    "- duration_ms: Duración de la canción en milisegundos.\n",
    "- energy: Nivel de energía de la canción.\n",
    "- instrumentalness: Probabilidad de que la canción sea instrumental.\n",
    "- key: Tono musical de la canción.\n",
    "- liveness: Presencia de público en la grabación.\n",
    "- loudness: Volumen general de la canción (en decibelios).\n",
    "- mode: Modo musical (mayor o menor).\n",
    "- speechiness: Presencia de palabras habladas en la canción.\n",
    "- tempo: Tempo de la canción (en BPM).\n",
    "- time_signature: Compás de la canción.\n",
    "- valence: Medida de positividad o felicidad transmitida por la canción.\n"
   ]
  },
  {
   "cell_type": "markdown",
   "id": "36fee4a3",
   "metadata": {},
   "source": [
    "## Limpieza de datos\n"
   ]
  },
  {
   "cell_type": "code",
   "execution_count": 3,
   "id": "8fb113d5",
   "metadata": {},
   "outputs": [
    {
     "name": "stdout",
     "output_type": "stream",
     "text": [
      "<class 'pandas.core.frame.DataFrame'>\n",
      "RangeIndex: 170653 entries, 0 to 170652\n",
      "Data columns (total 19 columns):\n",
      " #   Column            Non-Null Count   Dtype  \n",
      "---  ------            --------------   -----  \n",
      " 0   valence           170653 non-null  float64\n",
      " 1   year              170653 non-null  int64  \n",
      " 2   acousticness      170653 non-null  float64\n",
      " 3   artists           170653 non-null  object \n",
      " 4   danceability      170653 non-null  float64\n",
      " 5   duration_ms       170653 non-null  int64  \n",
      " 6   energy            170653 non-null  float64\n",
      " 7   explicit          170653 non-null  int64  \n",
      " 8   id                170653 non-null  object \n",
      " 9   instrumentalness  170653 non-null  float64\n",
      " 10  key               170653 non-null  int64  \n",
      " 11  liveness          170653 non-null  float64\n",
      " 12  loudness          170653 non-null  float64\n",
      " 13  mode              170653 non-null  int64  \n",
      " 14  name              170653 non-null  object \n",
      " 15  popularity        170653 non-null  int64  \n",
      " 16  release_date      170653 non-null  object \n",
      " 17  speechiness       170653 non-null  float64\n",
      " 18  tempo             170653 non-null  float64\n",
      "dtypes: float64(9), int64(6), object(4)\n",
      "memory usage: 24.7+ MB\n",
      "None\n"
     ]
    }
   ],
   "source": [
    "# Eliminar filas con valores nulos en el DataFrame\n",
    "data = data.dropna()\n",
    "print(data.info())"
   ]
  },
  {
   "cell_type": "markdown",
   "id": "5bd7d2bc",
   "metadata": {},
   "source": [
    "\n"
   ]
  },
  {
   "cell_type": "markdown",
   "id": "8a5279ea",
   "metadata": {},
   "source": [
    "### Estadisticas\n"
   ]
  },
  {
   "cell_type": "code",
   "execution_count": 4,
   "id": "083c748c",
   "metadata": {},
   "outputs": [
    {
     "data": {
      "text/html": [
       "<div>\n",
       "<style scoped>\n",
       "    .dataframe tbody tr th:only-of-type {\n",
       "        vertical-align: middle;\n",
       "    }\n",
       "\n",
       "    .dataframe tbody tr th {\n",
       "        vertical-align: top;\n",
       "    }\n",
       "\n",
       "    .dataframe thead th {\n",
       "        text-align: right;\n",
       "    }\n",
       "</style>\n",
       "<table border=\"1\" class=\"dataframe\">\n",
       "  <thead>\n",
       "    <tr style=\"text-align: right;\">\n",
       "      <th></th>\n",
       "      <th>valence</th>\n",
       "      <th>year</th>\n",
       "      <th>acousticness</th>\n",
       "      <th>danceability</th>\n",
       "      <th>duration_ms</th>\n",
       "      <th>energy</th>\n",
       "      <th>explicit</th>\n",
       "      <th>instrumentalness</th>\n",
       "      <th>key</th>\n",
       "      <th>liveness</th>\n",
       "      <th>loudness</th>\n",
       "      <th>mode</th>\n",
       "      <th>popularity</th>\n",
       "      <th>speechiness</th>\n",
       "      <th>tempo</th>\n",
       "    </tr>\n",
       "  </thead>\n",
       "  <tbody>\n",
       "    <tr>\n",
       "      <th>count</th>\n",
       "      <td>170653.000000</td>\n",
       "      <td>170653.000000</td>\n",
       "      <td>170653.000000</td>\n",
       "      <td>170653.000000</td>\n",
       "      <td>1.706530e+05</td>\n",
       "      <td>170653.000000</td>\n",
       "      <td>170653.000000</td>\n",
       "      <td>170653.000000</td>\n",
       "      <td>170653.000000</td>\n",
       "      <td>170653.000000</td>\n",
       "      <td>170653.000000</td>\n",
       "      <td>170653.000000</td>\n",
       "      <td>170653.000000</td>\n",
       "      <td>170653.000000</td>\n",
       "      <td>170653.000000</td>\n",
       "    </tr>\n",
       "    <tr>\n",
       "      <th>mean</th>\n",
       "      <td>0.528587</td>\n",
       "      <td>1976.787241</td>\n",
       "      <td>0.502115</td>\n",
       "      <td>0.537396</td>\n",
       "      <td>2.309483e+05</td>\n",
       "      <td>0.482389</td>\n",
       "      <td>0.084575</td>\n",
       "      <td>0.167010</td>\n",
       "      <td>5.199844</td>\n",
       "      <td>0.205839</td>\n",
       "      <td>-11.467990</td>\n",
       "      <td>0.706902</td>\n",
       "      <td>31.431794</td>\n",
       "      <td>0.098393</td>\n",
       "      <td>116.861590</td>\n",
       "    </tr>\n",
       "    <tr>\n",
       "      <th>std</th>\n",
       "      <td>0.263171</td>\n",
       "      <td>25.917853</td>\n",
       "      <td>0.376032</td>\n",
       "      <td>0.176138</td>\n",
       "      <td>1.261184e+05</td>\n",
       "      <td>0.267646</td>\n",
       "      <td>0.278249</td>\n",
       "      <td>0.313475</td>\n",
       "      <td>3.515094</td>\n",
       "      <td>0.174805</td>\n",
       "      <td>5.697943</td>\n",
       "      <td>0.455184</td>\n",
       "      <td>21.826615</td>\n",
       "      <td>0.162740</td>\n",
       "      <td>30.708533</td>\n",
       "    </tr>\n",
       "    <tr>\n",
       "      <th>min</th>\n",
       "      <td>0.000000</td>\n",
       "      <td>1921.000000</td>\n",
       "      <td>0.000000</td>\n",
       "      <td>0.000000</td>\n",
       "      <td>5.108000e+03</td>\n",
       "      <td>0.000000</td>\n",
       "      <td>0.000000</td>\n",
       "      <td>0.000000</td>\n",
       "      <td>0.000000</td>\n",
       "      <td>0.000000</td>\n",
       "      <td>-60.000000</td>\n",
       "      <td>0.000000</td>\n",
       "      <td>0.000000</td>\n",
       "      <td>0.000000</td>\n",
       "      <td>0.000000</td>\n",
       "    </tr>\n",
       "    <tr>\n",
       "      <th>25%</th>\n",
       "      <td>0.317000</td>\n",
       "      <td>1956.000000</td>\n",
       "      <td>0.102000</td>\n",
       "      <td>0.415000</td>\n",
       "      <td>1.698270e+05</td>\n",
       "      <td>0.255000</td>\n",
       "      <td>0.000000</td>\n",
       "      <td>0.000000</td>\n",
       "      <td>2.000000</td>\n",
       "      <td>0.098800</td>\n",
       "      <td>-14.615000</td>\n",
       "      <td>0.000000</td>\n",
       "      <td>11.000000</td>\n",
       "      <td>0.034900</td>\n",
       "      <td>93.421000</td>\n",
       "    </tr>\n",
       "    <tr>\n",
       "      <th>50%</th>\n",
       "      <td>0.540000</td>\n",
       "      <td>1977.000000</td>\n",
       "      <td>0.516000</td>\n",
       "      <td>0.548000</td>\n",
       "      <td>2.074670e+05</td>\n",
       "      <td>0.471000</td>\n",
       "      <td>0.000000</td>\n",
       "      <td>0.000216</td>\n",
       "      <td>5.000000</td>\n",
       "      <td>0.136000</td>\n",
       "      <td>-10.580000</td>\n",
       "      <td>1.000000</td>\n",
       "      <td>33.000000</td>\n",
       "      <td>0.045000</td>\n",
       "      <td>114.729000</td>\n",
       "    </tr>\n",
       "    <tr>\n",
       "      <th>75%</th>\n",
       "      <td>0.747000</td>\n",
       "      <td>1999.000000</td>\n",
       "      <td>0.893000</td>\n",
       "      <td>0.668000</td>\n",
       "      <td>2.624000e+05</td>\n",
       "      <td>0.703000</td>\n",
       "      <td>0.000000</td>\n",
       "      <td>0.102000</td>\n",
       "      <td>8.000000</td>\n",
       "      <td>0.261000</td>\n",
       "      <td>-7.183000</td>\n",
       "      <td>1.000000</td>\n",
       "      <td>48.000000</td>\n",
       "      <td>0.075600</td>\n",
       "      <td>135.537000</td>\n",
       "    </tr>\n",
       "    <tr>\n",
       "      <th>max</th>\n",
       "      <td>1.000000</td>\n",
       "      <td>2020.000000</td>\n",
       "      <td>0.996000</td>\n",
       "      <td>0.988000</td>\n",
       "      <td>5.403500e+06</td>\n",
       "      <td>1.000000</td>\n",
       "      <td>1.000000</td>\n",
       "      <td>1.000000</td>\n",
       "      <td>11.000000</td>\n",
       "      <td>1.000000</td>\n",
       "      <td>3.855000</td>\n",
       "      <td>1.000000</td>\n",
       "      <td>100.000000</td>\n",
       "      <td>0.970000</td>\n",
       "      <td>243.507000</td>\n",
       "    </tr>\n",
       "  </tbody>\n",
       "</table>\n",
       "</div>"
      ],
      "text/plain": [
       "             valence           year   acousticness   danceability  \\\n",
       "count  170653.000000  170653.000000  170653.000000  170653.000000   \n",
       "mean        0.528587    1976.787241       0.502115       0.537396   \n",
       "std         0.263171      25.917853       0.376032       0.176138   \n",
       "min         0.000000    1921.000000       0.000000       0.000000   \n",
       "25%         0.317000    1956.000000       0.102000       0.415000   \n",
       "50%         0.540000    1977.000000       0.516000       0.548000   \n",
       "75%         0.747000    1999.000000       0.893000       0.668000   \n",
       "max         1.000000    2020.000000       0.996000       0.988000   \n",
       "\n",
       "        duration_ms         energy       explicit  instrumentalness  \\\n",
       "count  1.706530e+05  170653.000000  170653.000000     170653.000000   \n",
       "mean   2.309483e+05       0.482389       0.084575          0.167010   \n",
       "std    1.261184e+05       0.267646       0.278249          0.313475   \n",
       "min    5.108000e+03       0.000000       0.000000          0.000000   \n",
       "25%    1.698270e+05       0.255000       0.000000          0.000000   \n",
       "50%    2.074670e+05       0.471000       0.000000          0.000216   \n",
       "75%    2.624000e+05       0.703000       0.000000          0.102000   \n",
       "max    5.403500e+06       1.000000       1.000000          1.000000   \n",
       "\n",
       "                 key       liveness       loudness           mode  \\\n",
       "count  170653.000000  170653.000000  170653.000000  170653.000000   \n",
       "mean        5.199844       0.205839     -11.467990       0.706902   \n",
       "std         3.515094       0.174805       5.697943       0.455184   \n",
       "min         0.000000       0.000000     -60.000000       0.000000   \n",
       "25%         2.000000       0.098800     -14.615000       0.000000   \n",
       "50%         5.000000       0.136000     -10.580000       1.000000   \n",
       "75%         8.000000       0.261000      -7.183000       1.000000   \n",
       "max        11.000000       1.000000       3.855000       1.000000   \n",
       "\n",
       "          popularity    speechiness          tempo  \n",
       "count  170653.000000  170653.000000  170653.000000  \n",
       "mean       31.431794       0.098393     116.861590  \n",
       "std        21.826615       0.162740      30.708533  \n",
       "min         0.000000       0.000000       0.000000  \n",
       "25%        11.000000       0.034900      93.421000  \n",
       "50%        33.000000       0.045000     114.729000  \n",
       "75%        48.000000       0.075600     135.537000  \n",
       "max       100.000000       0.970000     243.507000  "
      ]
     },
     "metadata": {},
     "output_type": "display_data"
    },
    {
     "data": {
      "text/html": [
       "<div>\n",
       "<style scoped>\n",
       "    .dataframe tbody tr th:only-of-type {\n",
       "        vertical-align: middle;\n",
       "    }\n",
       "\n",
       "    .dataframe tbody tr th {\n",
       "        vertical-align: top;\n",
       "    }\n",
       "\n",
       "    .dataframe thead th {\n",
       "        text-align: right;\n",
       "    }\n",
       "</style>\n",
       "<table border=\"1\" class=\"dataframe\">\n",
       "  <thead>\n",
       "    <tr style=\"text-align: right;\">\n",
       "      <th></th>\n",
       "      <th>artists</th>\n",
       "      <th>id</th>\n",
       "      <th>name</th>\n",
       "      <th>release_date</th>\n",
       "    </tr>\n",
       "  </thead>\n",
       "  <tbody>\n",
       "    <tr>\n",
       "      <th>count</th>\n",
       "      <td>170653</td>\n",
       "      <td>170653</td>\n",
       "      <td>170653</td>\n",
       "      <td>170653</td>\n",
       "    </tr>\n",
       "    <tr>\n",
       "      <th>unique</th>\n",
       "      <td>34088</td>\n",
       "      <td>170653</td>\n",
       "      <td>133638</td>\n",
       "      <td>11244</td>\n",
       "    </tr>\n",
       "    <tr>\n",
       "      <th>top</th>\n",
       "      <td>['Эрнест Хемингуэй']</td>\n",
       "      <td>4BJqT0PrAfrxzMOxytFOIz</td>\n",
       "      <td>White Christmas</td>\n",
       "      <td>1945</td>\n",
       "    </tr>\n",
       "    <tr>\n",
       "      <th>freq</th>\n",
       "      <td>1211</td>\n",
       "      <td>1</td>\n",
       "      <td>73</td>\n",
       "      <td>1446</td>\n",
       "    </tr>\n",
       "  </tbody>\n",
       "</table>\n",
       "</div>"
      ],
      "text/plain": [
       "                     artists                      id             name  \\\n",
       "count                 170653                  170653           170653   \n",
       "unique                 34088                  170653           133638   \n",
       "top     ['Эрнест Хемингуэй']  4BJqT0PrAfrxzMOxytFOIz  White Christmas   \n",
       "freq                    1211                       1               73   \n",
       "\n",
       "       release_date  \n",
       "count        170653  \n",
       "unique        11244  \n",
       "top            1945  \n",
       "freq           1446  "
      ]
     },
     "metadata": {},
     "output_type": "display_data"
    }
   ],
   "source": [
    "# Mostrar estadísticas descriptivas para las variables numéricas\n",
    "display(data.describe())\n",
    "\n",
    "# Mostrar estadísticas para variables categóricas\n",
    "display(data.describe(include=['object']))"
   ]
  },
  {
   "cell_type": "markdown",
   "id": "acb8bf2a",
   "metadata": {},
   "source": [
    "## Visualización\n"
   ]
  },
  {
   "cell_type": "markdown",
   "id": "5853e033",
   "metadata": {},
   "source": [
    "### Correlación\n",
    "\n",
    "Gráfico de la correlación de Pearson de cada variable respecto a la popularidad\n"
   ]
  },
  {
   "cell_type": "code",
   "execution_count": 5,
   "id": "f237f94d",
   "metadata": {},
   "outputs": [
    {
     "data": {
      "image/png": "[encoded data removed]",
      "text/plain": [
       "<Figure size 600x600 with 1 Axes>"
      ]
     },
     "metadata": {},
     "output_type": "display_data"
    }
   ],
   "source": [
    "import matplotlib.pyplot as plt\n",
    "\n",
    "# Calcular la correlación de Pearson de cada variable numérica respecto a 'popularity'\n",
    "correlations = data.corr(numeric_only=True)['popularity'].sort_values(ascending=False)\n",
    "\n",
    "# Excluir la autocorrelación\n",
    "correlations = correlations.drop('popularity')\n",
    "\n",
    "# Graficar las correlaciones\n",
    "plt.figure(figsize=(6, 6))\n",
    "correlations.plot(kind='barh')\n",
    "plt.title('Correlación de Pearson respecto a la Popularidad')\n",
    "plt.ylabel('Coeficiente de correlación')\n",
    "plt.xlabel('Variable')\n",
    "plt.grid(axis='y', linestyle='--', alpha=0.7)\n",
    "plt.tight_layout()\n",
    "plt.show()"
   ]
  },
  {
   "cell_type": "markdown",
   "id": "f28be540",
   "metadata": {},
   "source": [
    "### Cantidad de canciones por década\n"
   ]
  },
  {
   "cell_type": "code",
   "execution_count": 6,
   "id": "8fbc341d",
   "metadata": {},
   "outputs": [
    {
     "data": {
      "image/png": "[encoded data removed]",
      "text/plain": [
       "<Figure size 1000x500 with 1 Axes>"
      ]
     },
     "metadata": {},
     "output_type": "display_data"
    }
   ],
   "source": [
    "# Extraer el año desde el track_id si está codificado, pero normalmente no lo está.\n",
    "# Si hay una columna de año, úsala. Si no, intentemos extraer el año del nombre de la canción o artista (no recomendado).\n",
    "# Supongamos que hay una columna 'year' (si no, esto dará error y se debe ajustar según los datos reales).\n",
    "\n",
    "if 'year' in data.columns:\n",
    "    canciones_por_anio = data['year'].value_counts().sort_index()\n",
    "    \n",
    "    # Agrupar la cantidad de canciones por década\n",
    "    decadas = (canciones_por_anio.index // 10) * 10\n",
    "    canciones_por_decada = canciones_por_anio.groupby(decadas).sum()\n",
    "\n",
    "    plt.figure(figsize=(10, 5))\n",
    "    canciones_por_decada.plot(kind='bar')\n",
    "    plt.title('Cantidad de canciones por década')\n",
    "    plt.xlabel('Década')\n",
    "    plt.ylabel('Cantidad de canciones')\n",
    "    plt.grid(axis='y', linestyle='--', alpha=0.7)\n",
    "    plt.tight_layout()\n",
    "    plt.show()\n",
    "else:\n",
    "    print(\"No existe una columna 'year' en el DataFrame.\")"
   ]
  },
  {
   "cell_type": "code",
   "execution_count": 8,
   "id": "9893ac78",
   "metadata": {},
   "outputs": [
    {
     "data": {
      "application/vnd.plotly.v1+json": {
       "config": {
        "plotlyServerURL": "https://plot.ly"
       },
       "data": [
        {
         "hovertemplate": "variable=acousticness<br>year=%{x}<br>value=%{y}<extra></extra>",
         "legendgroup": "acousticness",
         "line": {
          "color": "rgb(228,26,28)",
          "dash": "solid"
         },
         "marker": {
          "symbol": "circle"
         },
         "mode": "lines+markers",
         "name": "acousticness",
         "orientation": "v",
         "showlegend": true,
         "type": "scatter",
         "x": {
          "bdata": "gQeCB4MHhAeFB4YHhweIB4kHigeLB4wHjQeOB48HkAeRB5IHkweUB5UHlgeXB5gHmQeaB5sHnAedB54HnwegB6EHogejB6QHpQemB6cHqAepB6oHqwesB60HrgevB7AHsQeyB7MHtAe1B7YHtwe4B7kHuge7B7wHvQe+B78HwAfBB8IHwwfEB8UHxgfHB8gHyQfKB8sHzAfNB84HzwfQB9EH0gfTB9QH1QfWB9cH2AfZB9oH2wfcB90H3gffB+AH4QfiB+MH5Ac=",
          "dtype": "i2"
         },
         "xaxis": "x",
         "y": {
          "bdata": "v4BeuHNh7D/X3xAl8QjuP3rC4QXEoe4/NTdkBB4W7j8pNQZNrc3uP5Uq8iVqJeU/xEv0nS717T8BBEp6JQnuP5eOzPfiPuM/Pbu1mpH57T/KQk1qQ6jqP+EDYgPV8e0/PbYss/bL7D/KqDtiSoTsP57fdNWI6Og/yfu80se26D9z9mBjprHrPwTD07W+au0/OSKE7GEU7T+ExCxq5h/rP0t2bATiqew/gAdPBT1L6z/hpJfUWOPsP5bRsbR+C+0/R/E+T4K15j88s+yeL3DtPzoAIJMzP+0/3/jaM0uC7T/mNgJtggrtP4n72LR8U+s/P9tSXp7f7D/Q4bLuRfrrP0AOtJZvguw/ML/k2T2u6z9v6rU5y+XqPxRq2Zx7Vuo/m5F/DaNe6T9D9PeUlPLoP0T71SXJ8Og/dqEoL8CM6D9+VpOzmA/oP88hdBo4D+c/E1ww4WUg5z9mSPlQEjbmP3Z7usNkhOM/d3tmNT3L4D/47dZZkfLgP9Gkgn7umd8/ARIn2eW53D/3Ra1kk3HdP3MwusRhVd0/tgXGYFdx3T/43W8SVajaP98bpuELn9w/1h/XjPPC2z8XH9i3VSLXP63qEvkht9U/H0oYNNIN1T9gn9XHjfDSP/2MapC1PNI/KvrQF+5G0z/QjWq2eojSP6KeCBek3dI/X/iUcdVp0j89246GBPvSP1lTBPDCPtI/OEcg103y0z/vl1Cbz5vUP4IwrWjyDdQ/hlvlw71N1T9bEzPLBkzVPw6COXshiNQ/qUKieMfH0z8UgpgDWJnTP18dfHpaXNM/nU79PgZE0z+1ySPcOqHTP1qYJGrDp9I/JYs8fbth0T+gUi1cQ4TSP4tzI4qgW9I/hB+HMIQW0j9AO/xRA2rQP4AHFoOt9NE/rSpg5m1e0D+2sVHgS+vRP4G6zsbcQtA/bv6oA4Tlzz9IGTpBcMPQPyhznR5bEM8/639WItN70T8oKpMbdv7PP767Ek+vetA/oX5EDnrpzz+XF2f4wEDQP5BICLDbL9I/6lOJdXJP0j/xaq0f5iDRP4mstd+kz9E/awHfAbImzD8=",
          "dtype": "f8"
         },
         "yaxis": "y"
        },
        {
         "hovertemplate": "variable=danceability<br>year=%{x}<br>value=%{y}<extra></extra>",
         "legendgroup": "danceability",
         "line": {
          "color": "rgb(55,126,184)",
          "dash": "solid"
         },
         "marker": {
          "symbol": "circle"
         },
         "mode": "lines+markers",
         "name": "danceability",
         "orientation": "v",
         "showlegend": true,
         "type": "scatter",
         "x": {
          "bdata": "gQeCB4MHhAeFB4YHhweIB4kHigeLB4wHjQeOB48HkAeRB5IHkweUB5UHlgeXB5gHmQeaB5sHnAedB54HnwegB6EHogejB6QHpQemB6cHqAepB6oHqwesB60HrgevB7AHsQeyB7MHtAe1B7YHtwe4B7kHuge7B7wHvQe+B78HwAfBB8IHwwfEB8UHxgfHB8gHyQfKB8sHzAfNB84HzwfQB9EH0gfTB9QH1QfWB9cH2AfZB9oH2wfcB90H3gffB+AH4QfiB+MH5Ac=",
          "dtype": "i2"
         },
         "xaxis": "x",
         "y": {
          "bdata": "rQE3eEzK2j/TdIrAx9neP8bZiN6SeeI/WG2ucbuY4T9/Y0GWFl3iP+p18hY4MuM/8muDJZ2+5D+F/E3e4hjhP3SZnyC2ueQ/Lhkxl+WU4D/p3u11DgzjP8FZW1962eE/XUKQc9E/4j8eFD2ZKOvgP4a3OiSuyeE/Y9gWci7b4T+id20eWlnhP05erYz1t94/PRhnwuVn4D/xCumVV7PgP73znt00wN4/i3Kjxo+83T8pawYnGyHdPwII1+JtAeA/UyhmGNKc4D+yPrReRIbaP9aViuseKt4/Bg/cb9in3T+E5FO2/kzcPwMDrWXXIuA/d0AjIkaZ3T/4Ag78A0DdP2cwK9bJ/ts/3rTPGQfN3T8kEAqlij3fPxPvAE9aON8/tbeJq4Qc4D8fVJitq7jeP5Y3Hvj12t4/aUcoZhob3z9FGvokfU7fP0rwekgBkN8/LYvTWuLS3j+qkwjANyLgP/wkf1tEHOA/pdk8DoM54D/vlOe9NYjfP8H+kCNCCOA/nPgPjv483z9PBkfJqzPgP9tLv+kCI+A/03zfCQes4D/Ot0/Yj37gP6mFksmpfeA/TAFp/wOs4D/dtYR80PPgP53QNd38EOE/Sj2wiAZO4T8128tsRvzhP4NrLAgAzOE/wYdcupNZ4T8Yva66aQ7iP/Go55PLdeE/ztWgeUr44D+gqwiS0sfhP/8Myo9TT+E/1HPlxgdQ4T+hzz+WcUvhP7UmJyTjguE/c/lqoioh4T9groMqUMnhP7gXPVwXw+E/N48eGnE84j9k+m9vyLDhPyf4pumz4+E/XtFSHoLP4j+6J7RRQnXiPycYKe8+wuI/LPvopAmh4j8ZLdT2zOjiP+Jt/jSKquI/Eh24uedv4j+FkDUrp2ziP1mu8ANwKuI/Sp9eVB9Q4j9U2esA8S7iP5uIvIx9B+I/rGmha7+I4j9NtZTv2A3iP5i+8xLTUeI/r7sfGBax4T+q0e8DqkTiP8BwxjnYRuI/fxxs9dng4j9SVaB2MgDjP01oDKbbNOM/m5rVJEiX4z8hbmZZZTvlP5DgMjNRouQ/Fzo/tkUs5j8=",
          "dtype": "f8"
         },
         "yaxis": "y"
        },
        {
         "hovertemplate": "variable=energy<br>year=%{x}<br>value=%{y}<extra></extra>",
         "legendgroup": "energy",
         "line": {
          "color": "rgb(77,175,74)",
          "dash": "solid"
         },
         "marker": {
          "symbol": "circle"
         },
         "mode": "lines+markers",
         "name": "energy",
         "orientation": "v",
         "showlegend": true,
         "type": "scatter",
         "x": {
          "bdata": "gQeCB4MHhAeFB4YHhweIB4kHigeLB4wHjQeOB48HkAeRB5IHkweUB5UHlgeXB5gHmQeaB5sHnAedB54HnwegB6EHogejB6QHpQemB6cHqAepB6oHqwesB60HrgevB7AHsQeyB7MHtAe1B7YHtwe4B7kHuge7B7wHvQe+B78HwAfBB8IHwwfEB8UHxgfHB8gHyQfKB8sHzAfNB84HzwfQB9EH0gfTB9QH1QfWB9cH2AfZB9oH2wfcB90H3gffB+AH4QfiB+MH5Ac=",
          "dtype": "i2"
         },
         "xaxis": "x",
         "y": {
          "bdata": "zzgxSB6szT/5w+fDu3DOPzfvbZNEy9A/vqZKXcYJ1j/jluHvedTRPytzZIdaEcs/8TGo46Pq0D+YmkKKCJ7KP6FVHpVT884/WzEMtXRY1T9aNieC/QPOP13YZeITVdM/sLj6Qt/p0T9+YypswsbQPyZ1+vzziM8/IULSk6O80z80gO0bN+jTP4fr77yY+9E/jLgANEoX0j9bXCVQq+XTP3w+3VNMANE/24YjJptj0D9dz6taW+vRPwqkOnxiONA/LAoC/gXvzD+yWblnJHDMP1yUNNoF3tA/MR1ggRYJzz+JDj8Hr4DPPzkAyRG+GdQ/PezoLHFM0D+nW5eWaDvQP+r4nG5eCdE/dOtWSxHr0D/1CF7C2+LSP1yC38g0gdM/rOc2c9rl0j+clzdFT8PTP3bv0BNV59M/9oua10bV1T/3BJPe47rVP7Zu3pPivtc/rKjiQvVh1z+MpxlYfD7ZP/aYT8bcvNw/C+HB5IDc3j+WwUn8wpjcP6jugKH9Pt0/J7KDCEA13z9aRSSvc7jfPz9/Tv9hxN8/CG1iFhQl4D87TzxnCyjhP5h7Fr6deOA/hNk+wx++4D8BiLt6FbnhPz/shwPh7eE/oZLGqjn34T/SPk5/k+niP+JlKA/+IOM/ETI1riQu4z9yMY/Hz+jiPzoNaiLgPuM/9QKiFjnq4j9iaFRknT/jP9nK8ES1reM/akkWrguO4j+OpwVn4r3iP4Id/wWCsOI/jGaGCXpK4j/lBGTJn+bhP0F9T9XSpuI/17Pvo30A4j9blDxLToXiPxm+Mi25g+I/Vu6qrBLB4j8FYDA1iijjP8QQcyjHXeM/S7XkzJVm5D/WwqjFYQPkP2iCHPFDEOQ/ZHE3PEiF5D/u1L7lEiDlP1Bqb7WGw+Q/tZstiRXn5D8EdyQQec/kPxE9tLHAYuU/7rM3Z5t85T8P398XxnblP+LDra4f0eU/oLDkg+G+5D+TLpsmogLlP35N5c+6qOQ/rfibqe7C5D/7v1YX6RDkP9mi4Iir+OI/UBryn7rk4j+yM/H4JEfjP5DQPPmw++I/YiPRrwwz5D8=",
          "dtype": "f8"
         },
         "yaxis": "y"
        },
        {
         "hovertemplate": "variable=instrumentalness<br>year=%{x}<br>value=%{y}<extra></extra>",
         "legendgroup": "instrumentalness",
         "line": {
          "color": "rgb(152,78,163)",
          "dash": "solid"
         },
         "marker": {
          "symbol": "circle"
         },
         "mode": "lines+markers",
         "name": "instrumentalness",
         "orientation": "v",
         "showlegend": true,
         "type": "scatter",
         "x": {
          "bdata": "gQeCB4MHhAeFB4YHhweIB4kHigeLB4wHjQeOB48HkAeRB5IHkweUB5UHlgeXB5gHmQeaB5sHnAedB54HnwegB6EHogejB6QHpQemB6cHqAepB6oHqwesB60HrgevB7AHsQeyB7MHtAe1B7YHtwe4B7kHuge7B7wHvQe+B78HwAfBB8IHwwfEB8UHxgfHB8gHyQfKB8sHzAfNB84HzwfQB9EH0gfTB9QH1QfWB9cH2AfZB9oH2wfcB90H3gffB+AH4QfiB+MH5Ac=",
          "dtype": "i2"
         },
         "xaxis": "x",
         "y": {
          "bdata": "0C38a3sS1j/m/WFH2cnbP8cENg54ytc/afIEPEud4j+3Lp1LYsXaP+h1scRlUdU/yo/sr4YL2T88FgVvYqvfP33gr0HOi8s/V1e7u4qK1j/ZyraTelfMP2DZXpxA+cw/C4EIjKOLxz9Pbhs/P7DRP23PKo5q6cw/BmXFe3100D+fv3jrAO/UPySrwPUbONg/TXYysYzF0T+h0ezEP0fUP4qFyXAWetw/D9Cyvvok2T89yUBOwDvaP11FcxYzwdw/NyfCYkCo0T/AvcnxsRzfP6tcjnb4PtY/1VSXaUPA1j9aVvxmhg7TP9+SutYvXM8/JIClIXK90z8aTJRRWnXSPxbuTORkX9Q/lGkF0UEJ0z/v7KmVsbnLPxBTbLfMj84/WBxsMg3myD/5/zKg6DLHP8PbJXI9Fcg/uNIxbZ+Xxj8HaoBelu/QP5PQvp/H8sU/BAqW/z68xz+GBJRls23EPxMzbQs7Tb4/ZIoSBuV4vT+bnccSTXO+PzX26zzz3rw/M+VpQ/JoxD9HPyaVHVTAP88y1BCWAMA/Y+hzLMxovT89sdSipIS5P0eytFrVyb0/vExCzpl/vD/aSSO+FCO/P+mJm6spWcA/nQV0UZWyuT+bhEXF4aG9P1prvi7qesA/hrhF+ZXLwj8NmQx2rJq5P4YsA+HPnMI/Ihz2uAeVwj848Dlb+B29P//x/XUVJbw/YnKLgQAbuj/F8XNSMAC+P+h3mf+H+bw/cQ45PRMbwD/oC3YLsXa9P+Syy0XTxrk/rra7wueDvT9MlN+Pi6S8P9rpvDeLjr8//UkVj2FVuD/qomK9+cy6P4629CjYf7w/0Hh5hdkUuD8Rj2CCIea5PwjfPsFgcrs/TtYRMVaKtj/xHKeet0K1P5hVLSN887M/HFCSR/oWtz+e/I9gPuSzP7MnSdhTrbI/aDfooyhMsD8rrSYrWmyzP0eFtOo2PrU/s5fi1NKQuj8O5sBsB9C1PyOPpMFzLrk/rejl9Q+asz+DDeOEYla7P3wAAV1cD7g/XjawHu7auD8NUue4WMKrP08AmjE74LM/EPJi1b7EkD8=",
          "dtype": "f8"
         },
         "yaxis": "y"
        },
        {
         "hovertemplate": "variable=liveness<br>year=%{x}<br>value=%{y}<extra></extra>",
         "legendgroup": "liveness",
         "line": {
          "color": "rgb(255,127,0)",
          "dash": "solid"
         },
         "marker": {
          "symbol": "circle"
         },
         "mode": "lines+markers",
         "name": "liveness",
         "orientation": "v",
         "showlegend": true,
         "type": "scatter",
         "x": {
          "bdata": "gQeCB4MHhAeFB4YHhweIB4kHigeLB4wHjQeOB48HkAeRB5IHkweUB5UHlgeXB5gHmQeaB5sHnAedB54HnwegB6EHogejB6QHpQemB6cHqAepB6oHqwesB60HrgevB7AHsQeyB7MHtAe1B7YHtwe4B7kHuge7B7wHvQe+B78HwAfBB8IHwwfEB8UHxgfHB8gHyQfKB8sHzAfNB84HzwfQB9EH0gfTB9QH1QfWB9cH2AfZB9oH2wfcB90H3gffB+AH4QfiB+MH5Ac=",
          "dtype": "i2"
         },
         "xaxis": "x",
         "y": {
          "bdata": "huY6jbRUyj+kU9Ja58/OPwcvyOl6Hc0/iIDKjagbzj9C+sCQ52vOPzsNlG5Jvs0/rTdIEMePxT+FmknX4W/GP6V8FEBBNc4/9Rj1EupTzD9q3GPsWxzNPxXdO5xvws0/4Uama97Cyj8wVbglalLLPyDsjLWyWc0/fiK53RZYzD8ErrG5guzMP00E8gKoWc4/S+w1mOGazj871WvE3erQP17s0MPj1ck/OsnYmpk/yz9NIcDTdJ7OPxoa8zcUkM4/uJwB5Dr8yT8qSTpTGPzKP5M1bQtxpsw/mS1cUOsezD+xt96A4LvKP5nWS/hKxcs/nGlnPSHgyz/7269MCdLNP2U/VQnIYcw/Q4x8Azjiyz/70jZZ/lfMP0UoW8kzVMc/hxEbEU5kxz/RJXcz/ljKP4zOShRPjsg/4lybWEebyj/Opia7pb3KPygmeDG418k/z1obdFMUyj9HwrYaRc7LP7iCH58UX8s/Ytv9hXnqyz89W3Nm/W/IP3uUAOsn0ss/+4/xzdt9yj9zB/vAnyvLP46f1+lRgss/fWb/8n99yj8Xvr7WpcbJP2y7ZHfcy8o/JWE6CJWTyz+2UVOBSeDPP5r8YCpHksw/UZQ6t7/pyz8cRwd/GlLLP7EleEudFMo/f5tq0hLQzD9UO8PUlrrJP1FYmHRKdsk/JrSbz29OyT86ffPRmH/JP03kOKbdHss/1zzbq7rbyT+cmGkeKZbKP178I8J1e8k/9UgoImhxyD+F+NgX/iTIP9Xo1QClock/48RXO4rzyD9xXvex3ZjIP1Aj4wedxsk/NOVUfI1uyT96g3nZwGfJPzbB3JMszMg/MoK3VU1oyj+XaKm4xk3JPwe/37508Mc/rv8pCxXSyD/MXRAChTbJPx1YFdir4ck/qm/ZPphUyD9hfUz63BnIPxtDWd2sGsk/vZkHSTNmyT+P+zINtUXKP7WrSm3Kj8k/h6wnCQYGyj+JLIzTK0nIPxYzPbGAjck/TMLDLJyNyD8hQA6XcizIP0xuczmTMMc/vF562gmKyD+ktgfL1ZHGP1jKe3hLGMY/r9BJpD/axj8=",
          "dtype": "f8"
         },
         "yaxis": "y"
        },
        {
         "hovertemplate": "variable=valence<br>year=%{x}<br>value=%{y}<extra></extra>",
         "legendgroup": "valence",
         "line": {
          "color": "rgb(255,255,51)",
          "dash": "solid"
         },
         "marker": {
          "symbol": "circle"
         },
         "mode": "lines+markers",
         "name": "valence",
         "orientation": "v",
         "showlegend": true,
         "type": "scatter",
         "x": {
          "bdata": "gQeCB4MHhAeFB4YHhweIB4kHigeLB4wHjQeOB48HkAeRB5IHkweUB5UHlgeXB5gHmQeaB5sHnAedB54HnwegB6EHogejB6QHpQemB6cHqAepB6oHqwesB60HrgevB7AHsQeyB7MHtAe1B7YHtwe4B7kHuge7B7wHvQe+B78HwAfBB8IHwwfEB8UHxgfHB8gHyQfKB8sHzAfNB84HzwfQB9EH0gfTB9QH1QfWB9cH2AfZB9oH2wfcB90H3gffB+AH4QfiB+MH5Ac=",
          "dtype": "i2"
         },
         "xaxis": "x",
         "y": {
          "bdata": "sWD1WuNG2D8o79dGOCPhP1ArprQIBOQ/QgyOGT095T/YCLIt1+bjP/7FOEdX9ts/zt6IMkQc5T93MSm2wbnfP2OMYs9zXuQ/iLFk+je44z9bPxqDdGvgP55vNtY00uI/TKqX2V0u4z+2BoBVuuHhPx9X6ZJfdeE/iPoS/s4M4j88GeGdyb7iP8kY2dwmeuA/DOq2n+fq4T9gEpl/FbzjPxT9tGRor94/mn6F4t2N3j/3vhnShrXfP2fJxppgTeE/oC0x4HZy3z/ZQgWg/XzZPyydxPRGQ+A/zbidlb2T3T8N4gM7/ovbP4wki0Udp+E/xtxaywk/3D9MA26+UlzcP6IQ5jgQd9s/7NkY4Cfz3D8656c4DjzeP9YKiWoAReA/XC5W9zFa4D+InL6er9nfP3dmBqNcnt4/ObKLXAzE4D/PlR3xRmngP4X24TKDh+E/Xlz0XzFU4T8Qpi7OE9XhPwOHPdoll+I/AHymTYuQ4j8kaBLoFaDhPybMD7eeHOI/J+0VL3nA4T9mE7sRcU7iP7Ev2XiwZeI/+KtbmOAP4z9F0U2snfLiP5EQQMXMmeI/FxrjHqY44j+yZI7lXZXiPzgZC/lWuuI/mdpSB3nd4j+B90SN+ITjP3a1a6NKI+M/+5Bco4qn4j/mvXuRGsTiP1uBfGTOTuI/SgtVOQan4T93eu+5XRniP3bqgNpeoeE/4uWIbJFT4T/WGJbtznzhP09EGnDxi+E/ougm1k7Z4D+a3B1qlY7hP2z5Nx4i5OE/qA9ufDfH4T8Z63ZRT9rgP0f7ae3H9+A/fnA+dazy4T8Ec/T4vY3hP6AF/HUCNeE/62Y3MnbO4T+Mh4QUOefhP3HoIP7LU+E/BjKWRFFb4T9D7kcL5PngP7gPGDmcyOA/oytXSn4K4T/FC9FnEqTgP4YngD+TieA/JUP9iJ/h4D+IkNXeuzrgPxyB7FIsq+A/GYPBWq483j9OSXFDBp3dP8Iwc896Gt0/j7KMV5ei3T/bGajqf6fbP/SiIaQ4nts/KccWQoyn2j8YgCb+varcP7O0cJ5EXd0/7bWSaZUI4D8=",
          "dtype": "f8"
         },
         "yaxis": "y"
        }
       ],
       "layout": {
        "height": 600,
        "legend": {
         "title": {
          "text": "Característica"
         },
         "tracegroupgap": 0
        },
        "margin": {
         "t": 60
        },
        "template": {
         "data": {
          "bar": [
           {
            "error_x": {
             "color": "#2a3f5f"
            },
            "error_y": {
             "color": "#2a3f5f"
            },
            "marker": {
             "line": {
              "color": "white",
              "width": 0.5
             },
             "pattern": {
              "fillmode": "overlay",
              "size": 10,
              "solidity": 0.2
             }
            },
            "type": "bar"
           }
          ],
          "barpolar": [
           {
            "marker": {
             "line": {
              "color": "white",
              "width": 0.5
             },
             "pattern": {
              "fillmode": "overlay",
              "size": 10,
              "solidity": 0.2
             }
            },
            "type": "barpolar"
           }
          ],
          "carpet": [
           {
            "aaxis": {
             "endlinecolor": "#2a3f5f",
             "gridcolor": "#C8D4E3",
             "linecolor": "#C8D4E3",
             "minorgridcolor": "#C8D4E3",
             "startlinecolor": "#2a3f5f"
            },
            "baxis": {
             "endlinecolor": "#2a3f5f",
             "gridcolor": "#C8D4E3",
             "linecolor": "#C8D4E3",
             "minorgridcolor": "#C8D4E3",
             "startlinecolor": "#2a3f5f"
            },
            "type": "carpet"
           }
          ],
          "choropleth": [
           {
            "colorbar": {
             "outlinewidth": 0,
             "ticks": ""
            },
            "type": "choropleth"
           }
          ],
          "contour": [
           {
            "colorbar": {
             "outlinewidth": 0,
             "ticks": ""
            },
            "colorscale": [
             [
              0,
              "#0d0887"
             ],
             [
              0.1111111111111111,
              "#46039f"
             ],
             [
              0.2222222222222222,
              "#7201a8"
             ],
             [
              0.3333333333333333,
              "#9c179e"
             ],
             [
              0.4444444444444444,
              "#bd3786"
             ],
             [
              0.5555555555555556,
              "#d8576b"
             ],
             [
              0.6666666666666666,
              "#ed7953"
             ],
             [
              0.7777777777777778,
              "#fb9f3a"
             ],
             [
              0.8888888888888888,
              "#fdca26"
             ],
             [
              1,
              "#f0f921"
             ]
            ],
            "type": "contour"
           }
          ],
          "contourcarpet": [
           {
            "colorbar": {
             "outlinewidth": 0,
             "ticks": ""
            },
            "type": "contourcarpet"
           }
          ],
          "heatmap": [
           {
            "colorbar": {
             "outlinewidth": 0,
             "ticks": ""
            },
            "colorscale": [
             [
              0,
              "#0d0887"
             ],
             [
              0.1111111111111111,
              "#46039f"
             ],
             [
              0.2222222222222222,
              "#7201a8"
             ],
             [
              0.3333333333333333,
              "#9c179e"
             ],
             [
              0.4444444444444444,
              "#bd3786"
             ],
             [
              0.5555555555555556,
              "#d8576b"
             ],
             [
              0.6666666666666666,
              "#ed7953"
             ],
             [
              0.7777777777777778,
              "#fb9f3a"
             ],
             [
              0.8888888888888888,
              "#fdca26"
             ],
             [
              1,
              "#f0f921"
             ]
            ],
            "type": "heatmap"
           }
          ],
          "histogram": [
           {
            "marker": {
             "pattern": {
              "fillmode": "overlay",
              "size": 10,
              "solidity": 0.2
             }
            },
            "type": "histogram"
           }
          ],
          "histogram2d": [
           {
            "colorbar": {
             "outlinewidth": 0,
             "ticks": ""
            },
            "colorscale": [
             [
              0,
              "#0d0887"
             ],
             [
              0.1111111111111111,
              "#46039f"
             ],
             [
              0.2222222222222222,
              "#7201a8"
             ],
             [
              0.3333333333333333,
              "#9c179e"
             ],
             [
              0.4444444444444444,
              "#bd3786"
             ],
             [
              0.5555555555555556,
              "#d8576b"
             ],
             [
              0.6666666666666666,
              "#ed7953"
             ],
             [
              0.7777777777777778,
              "#fb9f3a"
             ],
             [
              0.8888888888888888,
              "#fdca26"
             ],
             [
              1,
              "#f0f921"
             ]
            ],
            "type": "histogram2d"
           }
          ],
          "histogram2dcontour": [
           {
            "colorbar": {
             "outlinewidth": 0,
             "ticks": ""
            },
            "colorscale": [
             [
              0,
              "#0d0887"
             ],
             [
              0.1111111111111111,
              "#46039f"
             ],
             [
              0.2222222222222222,
              "#7201a8"
             ],
             [
              0.3333333333333333,
              "#9c179e"
             ],
             [
              0.4444444444444444,
              "#bd3786"
             ],
             [
              0.5555555555555556,
              "#d8576b"
             ],
             [
              0.6666666666666666,
              "#ed7953"
             ],
             [
              0.7777777777777778,
              "#fb9f3a"
             ],
             [
              0.8888888888888888,
              "#fdca26"
             ],
             [
              1,
              "#f0f921"
             ]
            ],
            "type": "histogram2dcontour"
           }
          ],
          "mesh3d": [
           {
            "colorbar": {
             "outlinewidth": 0,
             "ticks": ""
            },
            "type": "mesh3d"
           }
          ],
          "parcoords": [
           {
            "line": {
             "colorbar": {
              "outlinewidth": 0,
              "ticks": ""
             }
            },
            "type": "parcoords"
           }
          ],
          "pie": [
           {
            "automargin": true,
            "type": "pie"
           }
          ],
          "scatter": [
           {
            "fillpattern": {
             "fillmode": "overlay",
             "size": 10,
             "solidity": 0.2
            },
            "type": "scatter"
           }
          ],
          "scatter3d": [
           {
            "line": {
             "colorbar": {
              "outlinewidth": 0,
              "ticks": ""
             }
            },
            "marker": {
             "colorbar": {
              "outlinewidth": 0,
              "ticks": ""
             }
            },
            "type": "scatter3d"
           }
          ],
          "scattercarpet": [
           {
            "marker": {
             "colorbar": {
              "outlinewidth": 0,
              "ticks": ""
             }
            },
            "type": "scattercarpet"
           }
          ],
          "scattergeo": [
           {
            "marker": {
             "colorbar": {
              "outlinewidth": 0,
              "ticks": ""
             }
            },
            "type": "scattergeo"
           }
          ],
          "scattergl": [
           {
            "marker": {
             "colorbar": {
              "outlinewidth": 0,
              "ticks": ""
             }
            },
            "type": "scattergl"
           }
          ],
          "scattermap": [
           {
            "marker": {
             "colorbar": {
              "outlinewidth": 0,
              "ticks": ""
             }
            },
            "type": "scattermap"
           }
          ],
          "scattermapbox": [
           {
            "marker": {
             "colorbar": {
              "outlinewidth": 0,
              "ticks": ""
             }
            },
            "type": "scattermapbox"
           }
          ],
          "scatterpolar": [
           {
            "marker": {
             "colorbar": {
              "outlinewidth": 0,
              "ticks": ""
             }
            },
            "type": "scatterpolar"
           }
          ],
          "scatterpolargl": [
           {
            "marker": {
             "colorbar": {
              "outlinewidth": 0,
              "ticks": ""
             }
            },
            "type": "scatterpolargl"
           }
          ],
          "scatterternary": [
           {
            "marker": {
             "colorbar": {
              "outlinewidth": 0,
              "ticks": ""
             }
            },
            "type": "scatterternary"
           }
          ],
          "surface": [
           {
            "colorbar": {
             "outlinewidth": 0,
             "ticks": ""
            },
            "colorscale": [
             [
              0,
              "#0d0887"
             ],
             [
              0.1111111111111111,
              "#46039f"
             ],
             [
              0.2222222222222222,
              "#7201a8"
             ],
             [
              0.3333333333333333,
              "#9c179e"
             ],
             [
              0.4444444444444444,
              "#bd3786"
             ],
             [
              0.5555555555555556,
              "#d8576b"
             ],
             [
              0.6666666666666666,
              "#ed7953"
             ],
             [
              0.7777777777777778,
              "#fb9f3a"
             ],
             [
              0.8888888888888888,
              "#fdca26"
             ],
             [
              1,
              "#f0f921"
             ]
            ],
            "type": "surface"
           }
          ],
          "table": [
           {
            "cells": {
             "fill": {
              "color": "#EBF0F8"
             },
             "line": {
              "color": "white"
             }
            },
            "header": {
             "fill": {
              "color": "#C8D4E3"
             },
             "line": {
              "color": "white"
             }
            },
            "type": "table"
           }
          ]
         },
         "layout": {
          "annotationdefaults": {
           "arrowcolor": "#2a3f5f",
           "arrowhead": 0,
           "arrowwidth": 1
          },
          "autotypenumbers": "strict",
          "coloraxis": {
           "colorbar": {
            "outlinewidth": 0,
            "ticks": ""
           }
          },
          "colorscale": {
           "diverging": [
            [
             0,
             "#8e0152"
            ],
            [
             0.1,
             "#c51b7d"
            ],
            [
             0.2,
             "#de77ae"
            ],
            [
             0.3,
             "#f1b6da"
            ],
            [
             0.4,
             "#fde0ef"
            ],
            [
             0.5,
             "#f7f7f7"
            ],
            [
             0.6,
             "#e6f5d0"
            ],
            [
             0.7,
             "#b8e186"
            ],
            [
             0.8,
             "#7fbc41"
            ],
            [
             0.9,
             "#4d9221"
            ],
            [
             1,
             "#276419"
            ]
           ],
           "sequential": [
            [
             0,
             "#0d0887"
            ],
            [
             0.1111111111111111,
             "#46039f"
            ],
            [
             0.2222222222222222,
             "#7201a8"
            ],
            [
             0.3333333333333333,
             "#9c179e"
            ],
            [
             0.4444444444444444,
             "#bd3786"
            ],
            [
             0.5555555555555556,
             "#d8576b"
            ],
            [
             0.6666666666666666,
             "#ed7953"
            ],
            [
             0.7777777777777778,
             "#fb9f3a"
            ],
            [
             0.8888888888888888,
             "#fdca26"
            ],
            [
             1,
             "#f0f921"
            ]
           ],
           "sequentialminus": [
            [
             0,
             "#0d0887"
            ],
            [
             0.1111111111111111,
             "#46039f"
            ],
            [
             0.2222222222222222,
             "#7201a8"
            ],
            [
             0.3333333333333333,
             "#9c179e"
            ],
            [
             0.4444444444444444,
             "#bd3786"
            ],
            [
             0.5555555555555556,
             "#d8576b"
            ],
            [
             0.6666666666666666,
             "#ed7953"
            ],
            [
             0.7777777777777778,
             "#fb9f3a"
            ],
            [
             0.8888888888888888,
             "#fdca26"
            ],
            [
             1,
             "#f0f921"
            ]
           ]
          },
          "colorway": [
           "#636efa",
           "#EF553B",
           "#00cc96",
           "#ab63fa",
           "#FFA15A",
           "#19d3f3",
           "#FF6692",
           "#B6E880",
           "#FF97FF",
           "#FECB52"
          ],
          "font": {
           "color": "#2a3f5f"
          },
          "geo": {
           "bgcolor": "white",
           "lakecolor": "white",
           "landcolor": "white",
           "showlakes": true,
           "showland": true,
           "subunitcolor": "#C8D4E3"
          },
          "hoverlabel": {
           "align": "left"
          },
          "hovermode": "closest",
          "mapbox": {
           "style": "light"
          },
          "paper_bgcolor": "white",
          "plot_bgcolor": "white",
          "polar": {
           "angularaxis": {
            "gridcolor": "#EBF0F8",
            "linecolor": "#EBF0F8",
            "ticks": ""
           },
           "bgcolor": "white",
           "radialaxis": {
            "gridcolor": "#EBF0F8",
            "linecolor": "#EBF0F8",
            "ticks": ""
           }
          },
          "scene": {
           "xaxis": {
            "backgroundcolor": "white",
            "gridcolor": "#DFE8F3",
            "gridwidth": 2,
            "linecolor": "#EBF0F8",
            "showbackground": true,
            "ticks": "",
            "zerolinecolor": "#EBF0F8"
           },
           "yaxis": {
            "backgroundcolor": "white",
            "gridcolor": "#DFE8F3",
            "gridwidth": 2,
            "linecolor": "#EBF0F8",
            "showbackground": true,
            "ticks": "",
            "zerolinecolor": "#EBF0F8"
           },
           "zaxis": {
            "backgroundcolor": "white",
            "gridcolor": "#DFE8F3",
            "gridwidth": 2,
            "linecolor": "#EBF0F8",
            "showbackground": true,
            "ticks": "",
            "zerolinecolor": "#EBF0F8"
           }
          },
          "shapedefaults": {
           "line": {
            "color": "#2a3f5f"
           }
          },
          "ternary": {
           "aaxis": {
            "gridcolor": "#DFE8F3",
            "linecolor": "#A2B1C6",
            "ticks": ""
           },
           "baxis": {
            "gridcolor": "#DFE8F3",
            "linecolor": "#A2B1C6",
            "ticks": ""
           },
           "bgcolor": "white",
           "caxis": {
            "gridcolor": "#DFE8F3",
            "linecolor": "#A2B1C6",
            "ticks": ""
           }
          },
          "title": {
           "x": 0.05
          },
          "xaxis": {
           "automargin": true,
           "gridcolor": "#EBF0F8",
           "linecolor": "#EBF0F8",
           "ticks": "",
           "title": {
            "standoff": 15
           },
           "zerolinecolor": "#EBF0F8",
           "zerolinewidth": 2
          },
          "yaxis": {
           "automargin": true,
           "gridcolor": "#EBF0F8",
           "linecolor": "#EBF0F8",
           "ticks": "",
           "title": {
            "standoff": 15
           },
           "zerolinecolor": "#EBF0F8",
           "zerolinewidth": 2
          }
         }
        },
        "title": {
         "text": "Promedio de características de sonido por año"
        },
        "width": 1000,
        "xaxis": {
         "anchor": "y",
         "domain": [
          0,
          1
         ],
         "title": {
          "text": "Año"
         }
        },
        "yaxis": {
         "anchor": "x",
         "domain": [
          0,
          1
         ],
         "title": {
          "text": "Valor promedio"
         }
        }
       }
      }
     },
     "metadata": {},
     "output_type": "display_data"
    }
   ],
   "source": [
    "# Graficar el promedio de varias características de sonido por año\n",
    "import plotly.express as px\n",
    "sound_features = ['acousticness', 'danceability', 'energy', 'instrumentalness', 'liveness', 'valence']\n",
    "if 'year' in data.columns:\n",
    "    df_avg = data.groupby('year')[sound_features].mean().reset_index()\n",
    "    fig = px.line(\n",
    "        df_avg,\n",
    "        x='year',\n",
    "        y=sound_features,\n",
    "        markers=True,\n",
    "        width=1000,\n",
    "        height=600,\n",
    "        color_discrete_sequence=px.colors.qualitative.Set1\n",
    "    )\n",
    "    fig.update_layout(\n",
    "        title='Promedio de características de sonido por año',\n",
    "        xaxis_title='Año',\n",
    "        yaxis_title='Valor promedio',\n",
    "        legend_title='Característica',\n",
    "        template='plotly_white'\n",
    "    )\n",
    "    fig.show()\n",
    "else:\n",
    "    print(\"No existe una columna 'year' en el DataFrame.\")"
   ]
  },
  {
   "cell_type": "code",
   "execution_count": 12,
   "id": "b6a8cfe9",
   "metadata": {},
   "outputs": [
    {
     "data": {
      "application/vnd.plotly.v1+json": {
       "config": {
        "plotlyServerURL": "https://plot.ly"
       },
       "data": [
        {
         "alignmentgroup": "True",
         "hovertemplate": "variable=valence<br>genres=%{x}<br>value=%{y}<extra></extra>",
         "legendgroup": "valence",
         "marker": {
          "color": "#636efa",
          "pattern": {
           "shape": ""
          }
         },
         "name": "valence",
         "offsetgroup": "valence",
         "orientation": "v",
         "showlegend": true,
         "textposition": "auto",
         "type": "bar",
         "x": [
          "basshall",
          "south african house",
          "trap venezolano",
          "turkish edm",
          "alberta hip hop",
          "chinese electropop",
          "afroswing",
          "afro soul",
          "circuit",
          "guaracha"
         ],
         "xaxis": "x",
         "y": {
          "bdata": "cIQyelvW4j+AI5TR27LqP2Q730+Nl+Y/sp3vp8ZL1z+WQ4ts5/vtP0a28/3UeMk/9P3UeOmm5T8tsp3vp8bnP5huEoPAyuE/mG4Sg8DK4T8=",
          "dtype": "f8"
         },
         "yaxis": "y"
        },
        {
         "alignmentgroup": "True",
         "hovertemplate": "variable=energy<br>genres=%{x}<br>value=%{y}<extra></extra>",
         "legendgroup": "energy",
         "marker": {
          "color": "#EF553B",
          "pattern": {
           "shape": ""
          }
         },
         "name": "energy",
         "offsetgroup": "energy",
         "orientation": "v",
         "showlegend": true,
         "textposition": "auto",
         "type": "bar",
         "x": [
          "basshall",
          "south african house",
          "trap venezolano",
          "turkish edm",
          "alberta hip hop",
          "chinese electropop",
          "afroswing",
          "afro soul",
          "circuit",
          "guaracha"
         ],
         "xaxis": "x",
         "y": {
          "bdata": "+JoLSVMq5D8xwYN5ov7hP3e+nxov3eg/Nl66SQwC5z/sUbgehevlP8l2vp8aL+k/N4lBYOWQ4j9WDi2yne/rP7TIdr6fGu8/tMh2vp8a7z8=",
          "dtype": "f8"
         },
         "yaxis": "y"
        },
        {
         "alignmentgroup": "True",
         "hovertemplate": "variable=danceability<br>genres=%{x}<br>value=%{y}<extra></extra>",
         "legendgroup": "danceability",
         "marker": {
          "color": "#00cc96",
          "pattern": {
           "shape": ""
          }
         },
         "name": "danceability",
         "offsetgroup": "danceability",
         "orientation": "v",
         "showlegend": true,
         "textposition": "auto",
         "type": "bar",
         "x": [
          "basshall",
          "south african house",
          "trap venezolano",
          "turkish edm",
          "alberta hip hop",
          "chinese electropop",
          "afroswing",
          "afro soul",
          "circuit",
          "guaracha"
         ],
         "xaxis": "x",
         "y": {
          "bdata": "lBgEVg4t6j+0yHa+nxrrP6rx0k1iEOw/vHSTGARW5j9SuB6F61HsPx+F61G4HuU/LbKd76fG5j9PjZduEoPoP9ejcD0K1+c/16NwPQrX5z8=",
          "dtype": "f8"
         },
         "yaxis": "y"
        },
        {
         "alignmentgroup": "True",
         "hovertemplate": "variable=acousticness<br>genres=%{x}<br>value=%{y}<extra></extra>",
         "legendgroup": "acousticness",
         "marker": {
          "color": "#ab63fa",
          "pattern": {
           "shape": ""
          }
         },
         "name": "acousticness",
         "offsetgroup": "acousticness",
         "orientation": "v",
         "showlegend": true,
         "textposition": "auto",
         "type": "bar",
         "x": [
          "basshall",
          "south african house",
          "trap venezolano",
          "turkish edm",
          "alberta hip hop",
          "chinese electropop",
          "afroswing",
          "afro soul",
          "circuit",
          "guaracha"
         ],
         "xaxis": "x",
         "y": {
          "bdata": "EyD3mgtJyz/TXEiaUnGmP4SezarP1aY/tRoS91j6gD8fhetRuB7VP1lMbD6uDWU/GlHaG3xh1D8DfSJPkq55P8qJdhVSfoI/yol2FVJ+gj8=",
          "dtype": "f8"
         },
         "yaxis": "y"
        }
       ],
       "layout": {
        "barmode": "group",
        "legend": {
         "title": {
          "text": "Característica"
         },
         "tracegroupgap": 0
        },
        "template": {
         "data": {
          "bar": [
           {
            "error_x": {
             "color": "#2a3f5f"
            },
            "error_y": {
             "color": "#2a3f5f"
            },
            "marker": {
             "line": {
              "color": "white",
              "width": 0.5
             },
             "pattern": {
              "fillmode": "overlay",
              "size": 10,
              "solidity": 0.2
             }
            },
            "type": "bar"
           }
          ],
          "barpolar": [
           {
            "marker": {
             "line": {
              "color": "white",
              "width": 0.5
             },
             "pattern": {
              "fillmode": "overlay",
              "size": 10,
              "solidity": 0.2
             }
            },
            "type": "barpolar"
           }
          ],
          "carpet": [
           {
            "aaxis": {
             "endlinecolor": "#2a3f5f",
             "gridcolor": "#C8D4E3",
             "linecolor": "#C8D4E3",
             "minorgridcolor": "#C8D4E3",
             "startlinecolor": "#2a3f5f"
            },
            "baxis": {
             "endlinecolor": "#2a3f5f",
             "gridcolor": "#C8D4E3",
             "linecolor": "#C8D4E3",
             "minorgridcolor": "#C8D4E3",
             "startlinecolor": "#2a3f5f"
            },
            "type": "carpet"
           }
          ],
          "choropleth": [
           {
            "colorbar": {
             "outlinewidth": 0,
             "ticks": ""
            },
            "type": "choropleth"
           }
          ],
          "contour": [
           {
            "colorbar": {
             "outlinewidth": 0,
             "ticks": ""
            },
            "colorscale": [
             [
              0,
              "#0d0887"
             ],
             [
              0.1111111111111111,
              "#46039f"
             ],
             [
              0.2222222222222222,
              "#7201a8"
             ],
             [
              0.3333333333333333,
              "#9c179e"
             ],
             [
              0.4444444444444444,
              "#bd3786"
             ],
             [
              0.5555555555555556,
              "#d8576b"
             ],
             [
              0.6666666666666666,
              "#ed7953"
             ],
             [
              0.7777777777777778,
              "#fb9f3a"
             ],
             [
              0.8888888888888888,
              "#fdca26"
             ],
             [
              1,
              "#f0f921"
             ]
            ],
            "type": "contour"
           }
          ],
          "contourcarpet": [
           {
            "colorbar": {
             "outlinewidth": 0,
             "ticks": ""
            },
            "type": "contourcarpet"
           }
          ],
          "heatmap": [
           {
            "colorbar": {
             "outlinewidth": 0,
             "ticks": ""
            },
            "colorscale": [
             [
              0,
              "#0d0887"
             ],
             [
              0.1111111111111111,
              "#46039f"
             ],
             [
              0.2222222222222222,
              "#7201a8"
             ],
             [
              0.3333333333333333,
              "#9c179e"
             ],
             [
              0.4444444444444444,
              "#bd3786"
             ],
             [
              0.5555555555555556,
              "#d8576b"
             ],
             [
              0.6666666666666666,
              "#ed7953"
             ],
             [
              0.7777777777777778,
              "#fb9f3a"
             ],
             [
              0.8888888888888888,
              "#fdca26"
             ],
             [
              1,
              "#f0f921"
             ]
            ],
            "type": "heatmap"
           }
          ],
          "histogram": [
           {
            "marker": {
             "pattern": {
              "fillmode": "overlay",
              "size": 10,
              "solidity": 0.2
             }
            },
            "type": "histogram"
           }
          ],
          "histogram2d": [
           {
            "colorbar": {
             "outlinewidth": 0,
             "ticks": ""
            },
            "colorscale": [
             [
              0,
              "#0d0887"
             ],
             [
              0.1111111111111111,
              "#46039f"
             ],
             [
              0.2222222222222222,
              "#7201a8"
             ],
             [
              0.3333333333333333,
              "#9c179e"
             ],
             [
              0.4444444444444444,
              "#bd3786"
             ],
             [
              0.5555555555555556,
              "#d8576b"
             ],
             [
              0.6666666666666666,
              "#ed7953"
             ],
             [
              0.7777777777777778,
              "#fb9f3a"
             ],
             [
              0.8888888888888888,
              "#fdca26"
             ],
             [
              1,
              "#f0f921"
             ]
            ],
            "type": "histogram2d"
           }
          ],
          "histogram2dcontour": [
           {
            "colorbar": {
             "outlinewidth": 0,
             "ticks": ""
            },
            "colorscale": [
             [
              0,
              "#0d0887"
             ],
             [
              0.1111111111111111,
              "#46039f"
             ],
             [
              0.2222222222222222,
              "#7201a8"
             ],
             [
              0.3333333333333333,
              "#9c179e"
             ],
             [
              0.4444444444444444,
              "#bd3786"
             ],
             [
              0.5555555555555556,
              "#d8576b"
             ],
             [
              0.6666666666666666,
              "#ed7953"
             ],
             [
              0.7777777777777778,
              "#fb9f3a"
             ],
             [
              0.8888888888888888,
              "#fdca26"
             ],
             [
              1,
              "#f0f921"
             ]
            ],
            "type": "histogram2dcontour"
           }
          ],
          "mesh3d": [
           {
            "colorbar": {
             "outlinewidth": 0,
             "ticks": ""
            },
            "type": "mesh3d"
           }
          ],
          "parcoords": [
           {
            "line": {
             "colorbar": {
              "outlinewidth": 0,
              "ticks": ""
             }
            },
            "type": "parcoords"
           }
          ],
          "pie": [
           {
            "automargin": true,
            "type": "pie"
           }
          ],
          "scatter": [
           {
            "fillpattern": {
             "fillmode": "overlay",
             "size": 10,
             "solidity": 0.2
            },
            "type": "scatter"
           }
          ],
          "scatter3d": [
           {
            "line": {
             "colorbar": {
              "outlinewidth": 0,
              "ticks": ""
             }
            },
            "marker": {
             "colorbar": {
              "outlinewidth": 0,
              "ticks": ""
             }
            },
            "type": "scatter3d"
           }
          ],
          "scattercarpet": [
           {
            "marker": {
             "colorbar": {
              "outlinewidth": 0,
              "ticks": ""
             }
            },
            "type": "scattercarpet"
           }
          ],
          "scattergeo": [
           {
            "marker": {
             "colorbar": {
              "outlinewidth": 0,
              "ticks": ""
             }
            },
            "type": "scattergeo"
           }
          ],
          "scattergl": [
           {
            "marker": {
             "colorbar": {
              "outlinewidth": 0,
              "ticks": ""
             }
            },
            "type": "scattergl"
           }
          ],
          "scattermap": [
           {
            "marker": {
             "colorbar": {
              "outlinewidth": 0,
              "ticks": ""
             }
            },
            "type": "scattermap"
           }
          ],
          "scattermapbox": [
           {
            "marker": {
             "colorbar": {
              "outlinewidth": 0,
              "ticks": ""
             }
            },
            "type": "scattermapbox"
           }
          ],
          "scatterpolar": [
           {
            "marker": {
             "colorbar": {
              "outlinewidth": 0,
              "ticks": ""
             }
            },
            "type": "scatterpolar"
           }
          ],
          "scatterpolargl": [
           {
            "marker": {
             "colorbar": {
              "outlinewidth": 0,
              "ticks": ""
             }
            },
            "type": "scatterpolargl"
           }
          ],
          "scatterternary": [
           {
            "marker": {
             "colorbar": {
              "outlinewidth": 0,
              "ticks": ""
             }
            },
            "type": "scatterternary"
           }
          ],
          "surface": [
           {
            "colorbar": {
             "outlinewidth": 0,
             "ticks": ""
            },
            "colorscale": [
             [
              0,
              "#0d0887"
             ],
             [
              0.1111111111111111,
              "#46039f"
             ],
             [
              0.2222222222222222,
              "#7201a8"
             ],
             [
              0.3333333333333333,
              "#9c179e"
             ],
             [
              0.4444444444444444,
              "#bd3786"
             ],
             [
              0.5555555555555556,
              "#d8576b"
             ],
             [
              0.6666666666666666,
              "#ed7953"
             ],
             [
              0.7777777777777778,
              "#fb9f3a"
             ],
             [
              0.8888888888888888,
              "#fdca26"
             ],
             [
              1,
              "#f0f921"
             ]
            ],
            "type": "surface"
           }
          ],
          "table": [
           {
            "cells": {
             "fill": {
              "color": "#EBF0F8"
             },
             "line": {
              "color": "white"
             }
            },
            "header": {
             "fill": {
              "color": "#C8D4E3"
             },
             "line": {
              "color": "white"
             }
            },
            "type": "table"
           }
          ]
         },
         "layout": {
          "annotationdefaults": {
           "arrowcolor": "#2a3f5f",
           "arrowhead": 0,
           "arrowwidth": 1
          },
          "autotypenumbers": "strict",
          "coloraxis": {
           "colorbar": {
            "outlinewidth": 0,
            "ticks": ""
           }
          },
          "colorscale": {
           "diverging": [
            [
             0,
             "#8e0152"
            ],
            [
             0.1,
             "#c51b7d"
            ],
            [
             0.2,
             "#de77ae"
            ],
            [
             0.3,
             "#f1b6da"
            ],
            [
             0.4,
             "#fde0ef"
            ],
            [
             0.5,
             "#f7f7f7"
            ],
            [
             0.6,
             "#e6f5d0"
            ],
            [
             0.7,
             "#b8e186"
            ],
            [
             0.8,
             "#7fbc41"
            ],
            [
             0.9,
             "#4d9221"
            ],
            [
             1,
             "#276419"
            ]
           ],
           "sequential": [
            [
             0,
             "#0d0887"
            ],
            [
             0.1111111111111111,
             "#46039f"
            ],
            [
             0.2222222222222222,
             "#7201a8"
            ],
            [
             0.3333333333333333,
             "#9c179e"
            ],
            [
             0.4444444444444444,
             "#bd3786"
            ],
            [
             0.5555555555555556,
             "#d8576b"
            ],
            [
             0.6666666666666666,
             "#ed7953"
            ],
            [
             0.7777777777777778,
             "#fb9f3a"
            ],
            [
             0.8888888888888888,
             "#fdca26"
            ],
            [
             1,
             "#f0f921"
            ]
           ],
           "sequentialminus": [
            [
             0,
             "#0d0887"
            ],
            [
             0.1111111111111111,
             "#46039f"
            ],
            [
             0.2222222222222222,
             "#7201a8"
            ],
            [
             0.3333333333333333,
             "#9c179e"
            ],
            [
             0.4444444444444444,
             "#bd3786"
            ],
            [
             0.5555555555555556,
             "#d8576b"
            ],
            [
             0.6666666666666666,
             "#ed7953"
            ],
            [
             0.7777777777777778,
             "#fb9f3a"
            ],
            [
             0.8888888888888888,
             "#fdca26"
            ],
            [
             1,
             "#f0f921"
            ]
           ]
          },
          "colorway": [
           "#636efa",
           "#EF553B",
           "#00cc96",
           "#ab63fa",
           "#FFA15A",
           "#19d3f3",
           "#FF6692",
           "#B6E880",
           "#FF97FF",
           "#FECB52"
          ],
          "font": {
           "color": "#2a3f5f"
          },
          "geo": {
           "bgcolor": "white",
           "lakecolor": "white",
           "landcolor": "white",
           "showlakes": true,
           "showland": true,
           "subunitcolor": "#C8D4E3"
          },
          "hoverlabel": {
           "align": "left"
          },
          "hovermode": "closest",
          "mapbox": {
           "style": "light"
          },
          "paper_bgcolor": "white",
          "plot_bgcolor": "white",
          "polar": {
           "angularaxis": {
            "gridcolor": "#EBF0F8",
            "linecolor": "#EBF0F8",
            "ticks": ""
           },
           "bgcolor": "white",
           "radialaxis": {
            "gridcolor": "#EBF0F8",
            "linecolor": "#EBF0F8",
            "ticks": ""
           }
          },
          "scene": {
           "xaxis": {
            "backgroundcolor": "white",
            "gridcolor": "#DFE8F3",
            "gridwidth": 2,
            "linecolor": "#EBF0F8",
            "showbackground": true,
            "ticks": "",
            "zerolinecolor": "#EBF0F8"
           },
           "yaxis": {
            "backgroundcolor": "white",
            "gridcolor": "#DFE8F3",
            "gridwidth": 2,
            "linecolor": "#EBF0F8",
            "showbackground": true,
            "ticks": "",
            "zerolinecolor": "#EBF0F8"
           },
           "zaxis": {
            "backgroundcolor": "white",
            "gridcolor": "#DFE8F3",
            "gridwidth": 2,
            "linecolor": "#EBF0F8",
            "showbackground": true,
            "ticks": "",
            "zerolinecolor": "#EBF0F8"
           }
          },
          "shapedefaults": {
           "line": {
            "color": "#2a3f5f"
           }
          },
          "ternary": {
           "aaxis": {
            "gridcolor": "#DFE8F3",
            "linecolor": "#A2B1C6",
            "ticks": ""
           },
           "baxis": {
            "gridcolor": "#DFE8F3",
            "linecolor": "#A2B1C6",
            "ticks": ""
           },
           "bgcolor": "white",
           "caxis": {
            "gridcolor": "#DFE8F3",
            "linecolor": "#A2B1C6",
            "ticks": ""
           }
          },
          "title": {
           "x": 0.05
          },
          "xaxis": {
           "automargin": true,
           "gridcolor": "#EBF0F8",
           "linecolor": "#EBF0F8",
           "ticks": "",
           "title": {
            "standoff": 15
           },
           "zerolinecolor": "#EBF0F8",
           "zerolinewidth": 2
          },
          "yaxis": {
           "automargin": true,
           "gridcolor": "#EBF0F8",
           "linecolor": "#EBF0F8",
           "ticks": "",
           "title": {
            "standoff": 15
           },
           "zerolinecolor": "#EBF0F8",
           "zerolinewidth": 2
          }
         }
        },
        "title": {
         "text": "Top 10 géneros más populares y sus características promedio"
        },
        "xaxis": {
         "anchor": "y",
         "domain": [
          0,
          1
         ],
         "title": {
          "text": "Género"
         }
        },
        "yaxis": {
         "anchor": "x",
         "domain": [
          0,
          1
         ],
         "title": {
          "text": "Valor promedio"
         }
        }
       }
      }
     },
     "metadata": {},
     "output_type": "display_data"
    }
   ],
   "source": [
    "# Mostrar los 10 géneros más populares y sus características promedio\n",
    "# Mostrar los 10 géneros más populares y sus características promedio\n",
    "import plotly.express as px\n",
    "\n",
    "data_by_genres = pd.read_csv(\"data_by_genres.csv\")\n",
    "\n",
    "if 'genres' in data_by_genres.columns:\n",
    "    # Agrupar por género y calcular el promedio de las características relevantes\n",
    "    genre_data = data_by_genres.groupby('genres')[['popularity', 'valence', 'energy', 'danceability', 'acousticness']].mean().reset_index()\n",
    "    # Seleccionar los 10 géneros con mayor popularidad promedio\n",
    "    top10_genres = genre_data.nlargest(10, 'popularity')\n",
    "    # Graficar las características promedio de los 10 géneros más populares\n",
    "    fig = px.bar(\n",
    "        top10_genres,\n",
    "        x='genres',\n",
    "        y=['valence', 'energy', 'danceability', 'acousticness'],\n",
    "        barmode='group',\n",
    "        title='Top 10 géneros más populares y sus características promedio'\n",
    "    )\n",
    "    fig.update_layout(\n",
    "        xaxis_title='Género',\n",
    "        yaxis_title='Valor promedio',\n",
    "        legend_title='Característica',\n",
    "        template='plotly_white'\n",
    "    )\n",
    "    fig.show()\n",
    "else:\n",
    "    print(\"No existe una columna 'genres'\")"
   ]
  }
 ],
 "metadata": {
  "kernelspec": {
   "display_name": "Python 3",
   "language": "python",
   "name": "python3"
  },
  "language_info": {
   "codemirror_mode": {
    "name": "ipython",
    "version": 3
   },
   "file_extension": ".py",
   "mimetype": "text/x-python",
   "name": "python",
   "nbconvert_exporter": "python",
   "pygments_lexer": "ipython3",
   "version": "3.11.0"
  }
 },
 "nbformat": 4,
 "nbformat_minor": 5
}

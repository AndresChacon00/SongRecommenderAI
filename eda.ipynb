{
 "cells": [
  {
   "cell_type": "markdown",
   "id": "e9b9c76d",
   "metadata": {},
   "source": [
    "# Análisis Exploratorio de Datos\n"
   ]
  },
  {
   "cell_type": "markdown",
   "id": "2f964d3f",
   "metadata": {},
   "source": [
    "## Importacion de librerias\n"
   ]
  },
  {
   "cell_type": "code",
   "execution_count": 2,
   "id": "3adabbdf",
   "metadata": {},
   "outputs": [],
   "source": [
    "import os\n",
    "import numpy as np\n",
    "import pandas as pd\n"
   ]
  },
  {
   "cell_type": "markdown",
   "id": "9eb93f97",
   "metadata": {},
   "source": [
    "## Cargar datos\n"
   ]
  },
  {
   "cell_type": "code",
   "execution_count": 3,
   "id": "c480a4e5",
   "metadata": {},
   "outputs": [
    {
     "name": "stdout",
     "output_type": "stream",
     "text": [
      "<class 'pandas.core.frame.DataFrame'>\n",
      "RangeIndex: 62125 entries, 0 to 62124\n",
      "Data columns (total 19 columns):\n",
      " #   Column            Non-Null Count  Dtype  \n",
      "---  ------            --------------  -----  \n",
      " 0   genre             62125 non-null  object \n",
      " 1   artist_name       62125 non-null  object \n",
      " 2   track_name        62125 non-null  object \n",
      " 3   track_id          62125 non-null  object \n",
      " 4   popularity        62125 non-null  int64  \n",
      " 5   acousticness      62125 non-null  float64\n",
      " 6   danceability      62125 non-null  float64\n",
      " 7   duration_ms       62125 non-null  int64  \n",
      " 8   energy            62125 non-null  float64\n",
      " 9   instrumentalness  62125 non-null  float64\n",
      " 10  key               62125 non-null  object \n",
      " 11  liveness          62125 non-null  float64\n",
      " 12  loudness          62125 non-null  float64\n",
      " 13  mode              62125 non-null  object \n",
      " 14  speechiness       62125 non-null  float64\n",
      " 15  tempo             62125 non-null  float64\n",
      " 16  time_signature    62125 non-null  object \n",
      " 17  valence           62125 non-null  float64\n",
      " 18  release_year      62125 non-null  int64  \n",
      "dtypes: float64(9), int64(3), object(7)\n",
      "memory usage: 9.0+ MB\n",
      "None\n",
      "  genre    artist_name                                  track_name  \\\n",
      "0   R&B  Mary J. Blige                  Be Without You - Kendu Mix   \n",
      "1   R&B      Yung Bleu  Ice On My Baby (feat. Kevin Gates) - Remix   \n",
      "2   R&B       Surfaces                   Heaven Falls / Fall on Me   \n",
      "3   R&B    Frank Ocean                                   Seigfried   \n",
      "4   R&B  Layton Greene                               Roll In Peace   \n",
      "\n",
      "                 track_id  popularity  acousticness  danceability  \\\n",
      "0  2YegxR5As7BeQuVp2U6pek          65        0.0830         0.724   \n",
      "1  6muW8cSjJ3rusKJ0vH5olw          62        0.0675         0.762   \n",
      "2  7yHqOZfsXYlicyoMt62yC6          61        0.3600         0.563   \n",
      "3  1BViPjTT585XAhkUUrkts0          66        0.9750         0.377   \n",
      "4  33YFwLJbAdgePluIuEVa9p          60        0.7200         0.523   \n",
      "\n",
      "   duration_ms  energy  instrumentalness key  liveness  loudness   mode  \\\n",
      "0       246333   0.689          0.000000   D    0.3040    -5.922  Minor   \n",
      "1       199520   0.520          0.000004   F    0.1140    -5.237  Minor   \n",
      "2       240597   0.366          0.002430   B    0.0955    -6.896  Minor   \n",
      "3       334570   0.255          0.000208   E    0.1020   -11.165  Minor   \n",
      "4       170343   0.507          0.000000   G    0.0774    -6.448  Minor   \n",
      "\n",
      "   speechiness    tempo time_signature  valence  release_year  \n",
      "0       0.1350  146.496            4/4   0.6930          2005  \n",
      "1       0.0959   75.047            4/4   0.0862          2018  \n",
      "2       0.1210   85.352            4/4   0.7680          2018  \n",
      "3       0.0387  125.004            5/4   0.3700          2016  \n",
      "4       0.2250  140.368            4/4   0.7000          2018  \n"
     ]
    }
   ],
   "source": [
    "data = pd.read_csv(\"merged_songs.csv\")\n",
    "print(data.info())\n",
    "\n",
    "print(data.head())"
   ]
  },
  {
   "cell_type": "markdown",
   "id": "4a8ccd4e",
   "metadata": {},
   "source": [
    "- genre: Género musical de la canción.\n",
    "- artist_name: Nombre del artista.\n",
    "- track_name: Nombre de la canción.\n",
    "- track_id: Identificador único de la canción.\n",
    "- popularity: Popularidad de la canción (valor numérico).\n",
    "- acousticness: Medida de cuán acústica es la canción.\n",
    "- danceability: Facilidad para bailar la canción.\n",
    "- duration_ms: Duración de la canción en milisegundos.\n",
    "- energy: Nivel de energía de la canción.\n",
    "- instrumentalness: Probabilidad de que la canción sea instrumental.\n",
    "- key: Tono musical de la canción.\n",
    "- liveness: Presencia de público en la grabación.\n",
    "- loudness: Volumen general de la canción (en decibelios).\n",
    "- mode: Modo musical (mayor o menor).\n",
    "- speechiness: Presencia de palabras habladas en la canción.\n",
    "- tempo: Tempo de la canción (en BPM).\n",
    "- time_signature: Compás de la canción.\n",
    "- valence: Medida de positividad o felicidad transmitida por la canción.\n"
   ]
  },
  {
   "cell_type": "markdown",
   "id": "36fee4a3",
   "metadata": {},
   "source": [
    "## Limpieza de datos\n"
   ]
  },
  {
   "cell_type": "code",
   "execution_count": 4,
   "id": "8fb113d5",
   "metadata": {},
   "outputs": [
    {
     "name": "stdout",
     "output_type": "stream",
     "text": [
      "<class 'pandas.core.frame.DataFrame'>\n",
      "RangeIndex: 62125 entries, 0 to 62124\n",
      "Data columns (total 19 columns):\n",
      " #   Column            Non-Null Count  Dtype  \n",
      "---  ------            --------------  -----  \n",
      " 0   genre             62125 non-null  object \n",
      " 1   artist_name       62125 non-null  object \n",
      " 2   track_name        62125 non-null  object \n",
      " 3   track_id          62125 non-null  object \n",
      " 4   popularity        62125 non-null  int64  \n",
      " 5   acousticness      62125 non-null  float64\n",
      " 6   danceability      62125 non-null  float64\n",
      " 7   duration_ms       62125 non-null  int64  \n",
      " 8   energy            62125 non-null  float64\n",
      " 9   instrumentalness  62125 non-null  float64\n",
      " 10  key               62125 non-null  object \n",
      " 11  liveness          62125 non-null  float64\n",
      " 12  loudness          62125 non-null  float64\n",
      " 13  mode              62125 non-null  object \n",
      " 14  speechiness       62125 non-null  float64\n",
      " 15  tempo             62125 non-null  float64\n",
      " 16  time_signature    62125 non-null  object \n",
      " 17  valence           62125 non-null  float64\n",
      " 18  release_year      62125 non-null  int64  \n",
      "dtypes: float64(9), int64(3), object(7)\n",
      "memory usage: 9.0+ MB\n",
      "None\n"
     ]
    }
   ],
   "source": [
    "# Eliminar filas con valores nulos en el DataFrame\n",
    "data = data.dropna()\n",
    "print(data.info())"
   ]
  },
  {
   "cell_type": "markdown",
   "id": "5bd7d2bc",
   "metadata": {},
   "source": [
    "\n"
   ]
  },
  {
   "cell_type": "markdown",
   "id": "8a5279ea",
   "metadata": {},
   "source": [
    "### Estadisticas\n"
   ]
  },
  {
   "cell_type": "code",
   "execution_count": 5,
   "id": "083c748c",
   "metadata": {},
   "outputs": [
    {
     "data": {
      "text/html": [
       "<div>\n",
       "<style scoped>\n",
       "    .dataframe tbody tr th:only-of-type {\n",
       "        vertical-align: middle;\n",
       "    }\n",
       "\n",
       "    .dataframe tbody tr th {\n",
       "        vertical-align: top;\n",
       "    }\n",
       "\n",
       "    .dataframe thead th {\n",
       "        text-align: right;\n",
       "    }\n",
       "</style>\n",
       "<table border=\"1\" class=\"dataframe\">\n",
       "  <thead>\n",
       "    <tr style=\"text-align: right;\">\n",
       "      <th></th>\n",
       "      <th>popularity</th>\n",
       "      <th>acousticness</th>\n",
       "      <th>danceability</th>\n",
       "      <th>duration_ms</th>\n",
       "      <th>energy</th>\n",
       "      <th>instrumentalness</th>\n",
       "      <th>liveness</th>\n",
       "      <th>loudness</th>\n",
       "      <th>speechiness</th>\n",
       "      <th>tempo</th>\n",
       "      <th>valence</th>\n",
       "      <th>release_year</th>\n",
       "    </tr>\n",
       "  </thead>\n",
       "  <tbody>\n",
       "    <tr>\n",
       "      <th>count</th>\n",
       "      <td>62125.000000</td>\n",
       "      <td>62125.000000</td>\n",
       "      <td>62125.000000</td>\n",
       "      <td>6.212500e+04</td>\n",
       "      <td>62125.000000</td>\n",
       "      <td>62125.000000</td>\n",
       "      <td>62125.000000</td>\n",
       "      <td>62125.000000</td>\n",
       "      <td>62125.000000</td>\n",
       "      <td>62125.000000</td>\n",
       "      <td>62125.000000</td>\n",
       "      <td>62125.000000</td>\n",
       "    </tr>\n",
       "    <tr>\n",
       "      <th>mean</th>\n",
       "      <td>55.062374</td>\n",
       "      <td>0.270324</td>\n",
       "      <td>0.578539</td>\n",
       "      <td>2.409130e+05</td>\n",
       "      <td>0.616877</td>\n",
       "      <td>0.080170</td>\n",
       "      <td>0.190730</td>\n",
       "      <td>-8.365366</td>\n",
       "      <td>0.088992</td>\n",
       "      <td>119.632683</td>\n",
       "      <td>0.503805</td>\n",
       "      <td>2000.633433</td>\n",
       "    </tr>\n",
       "    <tr>\n",
       "      <th>std</th>\n",
       "      <td>12.151074</td>\n",
       "      <td>0.301149</td>\n",
       "      <td>0.164998</td>\n",
       "      <td>8.236760e+04</td>\n",
       "      <td>0.231308</td>\n",
       "      <td>0.221281</td>\n",
       "      <td>0.158646</td>\n",
       "      <td>4.652784</td>\n",
       "      <td>0.100767</td>\n",
       "      <td>29.742396</td>\n",
       "      <td>0.243814</td>\n",
       "      <td>15.959245</td>\n",
       "    </tr>\n",
       "    <tr>\n",
       "      <th>min</th>\n",
       "      <td>0.000000</td>\n",
       "      <td>0.000001</td>\n",
       "      <td>0.059400</td>\n",
       "      <td>3.008000e+04</td>\n",
       "      <td>0.000707</td>\n",
       "      <td>0.000000</td>\n",
       "      <td>0.009670</td>\n",
       "      <td>-47.046000</td>\n",
       "      <td>0.022400</td>\n",
       "      <td>31.988000</td>\n",
       "      <td>0.022200</td>\n",
       "      <td>1923.000000</td>\n",
       "    </tr>\n",
       "    <tr>\n",
       "      <th>25%</th>\n",
       "      <td>47.000000</td>\n",
       "      <td>0.022400</td>\n",
       "      <td>0.472000</td>\n",
       "      <td>1.968670e+05</td>\n",
       "      <td>0.464000</td>\n",
       "      <td>0.000000</td>\n",
       "      <td>0.095000</td>\n",
       "      <td>-10.244000</td>\n",
       "      <td>0.034600</td>\n",
       "      <td>95.731000</td>\n",
       "      <td>0.311000</td>\n",
       "      <td>1993.000000</td>\n",
       "    </tr>\n",
       "    <tr>\n",
       "      <th>50%</th>\n",
       "      <td>56.000000</td>\n",
       "      <td>0.137000</td>\n",
       "      <td>0.587000</td>\n",
       "      <td>2.291330e+05</td>\n",
       "      <td>0.645000</td>\n",
       "      <td>0.000018</td>\n",
       "      <td>0.126000</td>\n",
       "      <td>-7.207000</td>\n",
       "      <td>0.047000</td>\n",
       "      <td>118.005000</td>\n",
       "      <td>0.504000</td>\n",
       "      <td>2006.000000</td>\n",
       "    </tr>\n",
       "    <tr>\n",
       "      <th>75%</th>\n",
       "      <td>63.000000</td>\n",
       "      <td>0.453000</td>\n",
       "      <td>0.697000</td>\n",
       "      <td>2.690000e+05</td>\n",
       "      <td>0.803000</td>\n",
       "      <td>0.004310</td>\n",
       "      <td>0.239000</td>\n",
       "      <td>-5.234000</td>\n",
       "      <td>0.091600</td>\n",
       "      <td>139.698000</td>\n",
       "      <td>0.697000</td>\n",
       "      <td>2013.000000</td>\n",
       "    </tr>\n",
       "    <tr>\n",
       "      <th>max</th>\n",
       "      <td>99.000000</td>\n",
       "      <td>0.996000</td>\n",
       "      <td>0.986000</td>\n",
       "      <td>3.650688e+06</td>\n",
       "      <td>0.998000</td>\n",
       "      <td>0.999000</td>\n",
       "      <td>1.000000</td>\n",
       "      <td>3.744000</td>\n",
       "      <td>0.960000</td>\n",
       "      <td>242.903000</td>\n",
       "      <td>0.991000</td>\n",
       "      <td>2019.000000</td>\n",
       "    </tr>\n",
       "  </tbody>\n",
       "</table>\n",
       "</div>"
      ],
      "text/plain": [
       "         popularity  acousticness  danceability   duration_ms        energy  \\\n",
       "count  62125.000000  62125.000000  62125.000000  6.212500e+04  62125.000000   \n",
       "mean      55.062374      0.270324      0.578539  2.409130e+05      0.616877   \n",
       "std       12.151074      0.301149      0.164998  8.236760e+04      0.231308   \n",
       "min        0.000000      0.000001      0.059400  3.008000e+04      0.000707   \n",
       "25%       47.000000      0.022400      0.472000  1.968670e+05      0.464000   \n",
       "50%       56.000000      0.137000      0.587000  2.291330e+05      0.645000   \n",
       "75%       63.000000      0.453000      0.697000  2.690000e+05      0.803000   \n",
       "max       99.000000      0.996000      0.986000  3.650688e+06      0.998000   \n",
       "\n",
       "       instrumentalness      liveness      loudness   speechiness  \\\n",
       "count      62125.000000  62125.000000  62125.000000  62125.000000   \n",
       "mean           0.080170      0.190730     -8.365366      0.088992   \n",
       "std            0.221281      0.158646      4.652784      0.100767   \n",
       "min            0.000000      0.009670    -47.046000      0.022400   \n",
       "25%            0.000000      0.095000    -10.244000      0.034600   \n",
       "50%            0.000018      0.126000     -7.207000      0.047000   \n",
       "75%            0.004310      0.239000     -5.234000      0.091600   \n",
       "max            0.999000      1.000000      3.744000      0.960000   \n",
       "\n",
       "              tempo       valence  release_year  \n",
       "count  62125.000000  62125.000000  62125.000000  \n",
       "mean     119.632683      0.503805   2000.633433  \n",
       "std       29.742396      0.243814     15.959245  \n",
       "min       31.988000      0.022200   1923.000000  \n",
       "25%       95.731000      0.311000   1993.000000  \n",
       "50%      118.005000      0.504000   2006.000000  \n",
       "75%      139.698000      0.697000   2013.000000  \n",
       "max      242.903000      0.991000   2019.000000  "
      ]
     },
     "metadata": {},
     "output_type": "display_data"
    },
    {
     "data": {
      "text/html": [
       "<div>\n",
       "<style scoped>\n",
       "    .dataframe tbody tr th:only-of-type {\n",
       "        vertical-align: middle;\n",
       "    }\n",
       "\n",
       "    .dataframe tbody tr th {\n",
       "        vertical-align: top;\n",
       "    }\n",
       "\n",
       "    .dataframe thead th {\n",
       "        text-align: right;\n",
       "    }\n",
       "</style>\n",
       "<table border=\"1\" class=\"dataframe\">\n",
       "  <thead>\n",
       "    <tr style=\"text-align: right;\">\n",
       "      <th></th>\n",
       "      <th>genre</th>\n",
       "      <th>artist_name</th>\n",
       "      <th>track_name</th>\n",
       "      <th>track_id</th>\n",
       "      <th>key</th>\n",
       "      <th>mode</th>\n",
       "      <th>time_signature</th>\n",
       "    </tr>\n",
       "  </thead>\n",
       "  <tbody>\n",
       "    <tr>\n",
       "      <th>count</th>\n",
       "      <td>62125</td>\n",
       "      <td>62125</td>\n",
       "      <td>62125</td>\n",
       "      <td>62125</td>\n",
       "      <td>62125</td>\n",
       "      <td>62125</td>\n",
       "      <td>62125</td>\n",
       "    </tr>\n",
       "    <tr>\n",
       "      <th>unique</th>\n",
       "      <td>26</td>\n",
       "      <td>6259</td>\n",
       "      <td>31302</td>\n",
       "      <td>34530</td>\n",
       "      <td>12</td>\n",
       "      <td>2</td>\n",
       "      <td>5</td>\n",
       "    </tr>\n",
       "    <tr>\n",
       "      <th>top</th>\n",
       "      <td>Rock</td>\n",
       "      <td>Drake</td>\n",
       "      <td>Home</td>\n",
       "      <td>6AIte2Iej1QKlaofpjCzW1</td>\n",
       "      <td>C</td>\n",
       "      <td>Major</td>\n",
       "      <td>4/4</td>\n",
       "    </tr>\n",
       "    <tr>\n",
       "      <th>freq</th>\n",
       "      <td>6532</td>\n",
       "      <td>396</td>\n",
       "      <td>39</td>\n",
       "      <td>8</td>\n",
       "      <td>7320</td>\n",
       "      <td>41444</td>\n",
       "      <td>56848</td>\n",
       "    </tr>\n",
       "  </tbody>\n",
       "</table>\n",
       "</div>"
      ],
      "text/plain": [
       "        genre artist_name track_name                track_id    key   mode  \\\n",
       "count   62125       62125      62125                   62125  62125  62125   \n",
       "unique     26        6259      31302                   34530     12      2   \n",
       "top      Rock       Drake       Home  6AIte2Iej1QKlaofpjCzW1      C  Major   \n",
       "freq     6532         396         39                       8   7320  41444   \n",
       "\n",
       "       time_signature  \n",
       "count           62125  \n",
       "unique              5  \n",
       "top               4/4  \n",
       "freq            56848  "
      ]
     },
     "metadata": {},
     "output_type": "display_data"
    }
   ],
   "source": [
    "# Mostrar estadísticas descriptivas para las variables numéricas\n",
    "display(data.describe())\n",
    "\n",
    "# Mostrar estadísticas para variables categóricas\n",
    "display(data.describe(include=['object']))"
   ]
  },
  {
   "cell_type": "markdown",
   "id": "acb8bf2a",
   "metadata": {},
   "source": [
    "## Visualización\n"
   ]
  },
  {
   "cell_type": "markdown",
   "id": "5853e033",
   "metadata": {},
   "source": [
    "### Correlación\n",
    "\n",
    "Gráfico de la correlación de Pearson de cada variable respecto a la popularidad\n"
   ]
  },
  {
   "cell_type": "code",
   "execution_count": 6,
   "id": "f237f94d",
   "metadata": {},
   "outputs": [
    {
     "data": {
      "image/png": "[encoded data removed]",
      "text/plain": [
       "<Figure size 600x600 with 1 Axes>"
      ]
     },
     "metadata": {},
     "output_type": "display_data"
    }
   ],
   "source": [
    "import matplotlib.pyplot as plt\n",
    "\n",
    "# Calcular la correlación de Pearson de cada variable numérica respecto a 'popularity'\n",
    "correlations = data.corr(numeric_only=True)['popularity'].sort_values(ascending=False)\n",
    "\n",
    "# Excluir la autocorrelación\n",
    "correlations = correlations.drop('popularity')\n",
    "\n",
    "# Graficar las correlaciones\n",
    "plt.figure(figsize=(6, 6))\n",
    "correlations.plot(kind='barh')\n",
    "plt.title('Correlación de Pearson respecto a la Popularidad')\n",
    "plt.ylabel('Coeficiente de correlación')\n",
    "plt.xlabel('Variable')\n",
    "plt.grid(axis='y', linestyle='--', alpha=0.7)\n",
    "plt.tight_layout()\n",
    "plt.show()"
   ]
  },
  {
   "cell_type": "markdown",
   "id": "f28be540",
   "metadata": {},
   "source": [
    "### Cantidad de canciones por década\n"
   ]
  },
  {
   "cell_type": "code",
   "execution_count": 7,
   "id": "8fbc341d",
   "metadata": {},
   "outputs": [
    {
     "data": {
      "image/png": "[encoded data removed]",
      "text/plain": [
       "<Figure size 1000x500 with 1 Axes>"
      ]
     },
     "metadata": {},
     "output_type": "display_data"
    }
   ],
   "source": [
    "# Extraer el año desde el track_id si está codificado, pero normalmente no lo está.\n",
    "# Si hay una columna de año, úsala. Si no, intentemos extraer el año del nombre de la canción o artista (no recomendado).\n",
    "# Supongamos que hay una columna 'release_year' (si no, esto dará error y se debe ajustar según los datos reales).\n",
    "\n",
    "if 'release_year' in data.columns:\n",
    "    canciones_por_anio = data['release_year'].value_counts().sort_index()\n",
    "    \n",
    "    # Agrupar la cantidad de canciones por década\n",
    "    decadas = (canciones_por_anio.index // 10) * 10\n",
    "    canciones_por_decada = canciones_por_anio.groupby(decadas).sum()\n",
    "\n",
    "    plt.figure(figsize=(10, 5))\n",
    "    canciones_por_decada.plot(kind='bar')\n",
    "    plt.title('Cantidad de canciones por década')\n",
    "    plt.xlabel('Década')\n",
    "    plt.ylabel('Cantidad de canciones')\n",
    "    plt.grid(axis='y', linestyle='--', alpha=0.7)\n",
    "    plt.tight_layout()\n",
    "    plt.show()\n",
    "else:\n",
    "    print(\"No existe una columna 'release_year' en el DataFrame.\")"
   ]
  },
  {
   "cell_type": "code",
   "execution_count": 8,
   "id": "9893ac78",
   "metadata": {},
   "outputs": [
    {
     "data": {
      "application/vnd.plotly.v1+json": {
       "config": {
        "plotlyServerURL": "https://plot.ly"
       },
       "data": [
        {
         "hovertemplate": "variable=acousticness<br>release_year=%{x}<br>value=%{y}<extra></extra>",
         "legendgroup": "acousticness",
         "line": {
          "color": "rgb(228,26,28)",
          "dash": "solid"
         },
         "marker": {
          "symbol": "circle"
         },
         "mode": "lines+markers",
         "name": "acousticness",
         "orientation": "v",
         "showlegend": true,
         "type": "scatter",
         "x": {
          "bdata": "gweFB4YHhweIB4kHigeNB44HjweQB5EHkgeTB5UHlgeZB5oHmwecB50HngefB6AHoQeiB6MHpAelB6YHpweoB6kHqgerB6wHrQeuB68HsAexB7IHswe0B7UHtge3B7gHuQe6B7sHvAe9B74HvwfAB8EHwgfDB8QHxQfGB8cHyAfJB8oHywfMB80HzgfPB9AH0QfSB9MH1AfVB9YH1wfYB9kH2gfbB9wH3QfeB98H4AfhB+IH4wc=",
          "dtype": "i2"
         },
         "xaxis": "x",
         "y": {
          "bdata": "QKTfvg6c7z+e76fGSzfvPzMzMzMzM+c/2/l+arx07z+R7Xw/NV7vP42XbhKDwOI/S8XZh8+w7z9oRGlv8IXtPxKDwMqhRe4/dZMYBFYO7T9whDJ6W9buPwjzRP0bIe4/2/l+arx07T+vALnXXEjuP/LSTWIQWO8/MFcC6HWH7z8hsHJoke3tP3gwT9S/Ee4/rgTQ6w6n4z/14wEUae3tP4PF4cyv5uw/Zyg5U18A7j9bHRM8mCfuP8fRWadMbuk/HxmYAr8z7z8luApOO1XsP+C+Dpwzou4/FrdLSrDq6j+8mnhWNFLpPyW8iwcBvuk/XC3X3ZXK6D89QOUIsVzpP6e7wPlX8+g/X1OL/ZsA6T+9G1UGB7/mP0z3Y9Uft+U/oEKD7KtS4j8UQaFnngrgP6cKU5nxdd4/wXT0f7sG3D8ey51ASTrbP6PR0SKRhto/OutSN8Du2j+E0sAQ9ODaPwbz58z6zNc/4UVZbH/X2j/8aEV703vZP/b1G5TAKNQ/DztAgmkg1T8W611sLIDRP6zpXrLQuNI/tf0WMMAn1T9XVLIXPyLYP+lzRCvNXNM/YYNNcCR51D/77lSJPlXXP09P+ftOWNM/G1Lah1LI1D8ZQQpN04PTP13as3yAEs8/YJpL47EW1j+qaN7D987WP+tKnQdVHtI/oNhtEHQb0T+agUiX/y/RP0juTB+hA9A/yydWyDNT0D/t+nhvD73QP2F8xOqL2tA/1lodkBQd0D++Z1P0mVDNPxKeaYrlrMw/Mb4GPGE9zj+7N+hyqefOP/jpl6D51s0/o3Oot2LMzT9yjHduAyzLP5afeStXmcw/w6SEGrGuyz9Yde4foXXJPzr/5V42g8s/+Sox7jdJxz9AdS6BmRvIP3TotnIzy8c/ALis40WPzD9o7PHHEXnKP6t0cWcUO8s/MRYvyNdc0D8ttg1quYPOP2gbsVBBUs8/DEvsnafqzj8=",
          "dtype": "f8"
         },
         "yaxis": "y"
        },
        {
         "hovertemplate": "variable=danceability<br>release_year=%{x}<br>value=%{y}<extra></extra>",
         "legendgroup": "danceability",
         "line": {
          "color": "rgb(55,126,184)",
          "dash": "solid"
         },
         "marker": {
          "symbol": "circle"
         },
         "mode": "lines+markers",
         "name": "danceability",
         "orientation": "v",
         "showlegend": true,
         "type": "scatter",
         "x": {
          "bdata": "gweFB4YHhweIB4kHigeNB44HjweQB5EHkgeTB5UHlgeZB5oHmwecB50HngefB6AHoQeiB6MHpAelB6YHpweoB6kHqgerB6wHrQeuB68HsAexB7IHswe0B7UHtge3B7gHuQe6B7sHvAe9B74HvwfAB8EHwgfDB8QHxQfGB8cHyAfJB8oHywfMB80HzgfPB9AH0QfSB9MH1AfVB9YH1wfYB9kH2gfbB9wH3QfeB98H4AfhB+IH4wc=",
          "dtype": "i2"
         },
         "xaxis": "x",
         "y": {
          "bdata": "mbuWkA965j8bL90kBoHlP6JFtvP91OQ/w64Auddc6D8tsp3vp8bhP/Cnxks3ieU/2/l+arx00z+6SQwCK4fiP5zEILByaNk//tR46SYx4D8X2c73U+PkP1sdEzyYp+U/HoXrUbge4T8IOm2g0wbaPzIIrBxaZN8/jhFM9Hey0j/fT42XbhLhPw102kCnDdw/D6ePf+SZ4j/jd19yOlXTPyQtlbcjnNY/oBov3SQG2T9jEFg5tMjhP9X+C0U8FuA/fWRgCvzO1D/dXkUYofXZP2Z+NQcI5tg/PnwEdke/3j+BAlFsVInhPwHTVpsLh94/FZLUj9JQ4D8FBXmV0e7cPyoO+wlfTN0/gdo6rEm43z8EW6B0OKreP+rA3J73hOA/jIyzcEU94D+cNxkqZvrfP/Fg/PUnG+A/1zyjCXDW4D976i+AusngP89YJtrDquA/7XeqOLJ24D9L+ZzAB27hPxSJcuUuneE/W6+p39Zn4T+wYFJssSfhP/gvUBULIeI/ApM5/eCy4T/3rc7QAGziP655rGoO3uI/jY8hcU214T+4x78OE03hPyqv2V+yc+E/83/P+nrg4D/Tg4JStHLfPyIid/cgYuE/UaxladbI4T9GcaPtMnXhP2fl4TTqNeI/xzVajcZJ4T+IpHhU7BXgP5cGbTHo0OE/0rsqpG1z4T8EPSfKYpviP/UvbHk59+E/vA/vf1Lc4T9MP/vZmy/jPwCkP4P3iuI/hff4v3B64j9uSvGxqCPjP7+iMs60M+M/LJYXLoQC4j9pQlDbATjiP4ciTQDGauI/zFdBQkCW4j+DCwlVsUriP6LmqR2PBOI/2RkfRvoP4j8NUHRQP6ziP3ASkLFqNOI/+F2OgKB/4j8+oUDX1hjiP19Ov3WOreI/TIEg7Z+Y4j8knWgrYe7iP6PyzvRBaeM/jdnNRfjS4z9ODPFjQsjkP16TlhzZheU/twxitwxi5T8=",
          "dtype": "f8"
         },
         "yaxis": "y"
        },
        {
         "hovertemplate": "variable=energy<br>release_year=%{x}<br>value=%{y}<extra></extra>",
         "legendgroup": "energy",
         "line": {
          "color": "rgb(77,175,74)",
          "dash": "solid"
         },
         "marker": {
          "symbol": "circle"
         },
         "mode": "lines+markers",
         "name": "energy",
         "orientation": "v",
         "showlegend": true,
         "type": "scatter",
         "x": {
          "bdata": "gweFB4YHhweIB4kHigeNB44HjweQB5EHkgeTB5UHlgeZB5oHmwecB50HngefB6AHoQeiB6MHpAelB6YHpweoB6kHqgerB6wHrQeuB68HsAexB7IHswe0B7UHtge3B7gHuQe6B7sHvAe9B74HvwfAB8EHwgfDB8QHxQfGB8cHyAfJB8oHywfMB80HzgfPB9AH0QfSB9MH1AfVB9YH1wfYB9kH2gfbB9wH3QfeB98H4AfhB+IH4wc=",
          "dtype": "i2"
         },
         "xaxis": "x",
         "y": {
          "bdata": "2gOtwJDVvT8nMQisHFrQP+AtkKD4MbY/r7mQNKXi1D+yLm6jAbzFP1TjpZvEINg/qOhILv8hvT8kK78MxojMP6AaL90kBsE/CtejcD0Kxz913W5c2RjEP9EA3gIJisY/SOF6FK5HzT/dJAaBlUPLP39qvHSTGMQ/iFgB/xahuT9JnYAmwoa3Pz0Hqe6kmM4/Chq1/0IR1z9W0fzIOY7GP/PHtDaN7cU/4UK0dSXWwz8f8T6hsQnPPy4se9GcuNM/unaPWeNZvz98JY1EOp7MP2GHMenvpcQ/kkqHPnxS0z/mQRgDnPzTPxVIuRlgmtM/8FPzwWy61D9A8lk7fgTVP4Z4WSRV69M/1wbYs7mI1T+768CLiwfYP9vDeYmkttk/f/s6cM6I3j/s548EjYvePzyAH+Fl/t0/babHnfWb3T9b5XlDQzreP/KwaeqDTOA/OLMrpJP13z9NngZAMxLgPzvZwW1cneE/y2HX7A0D4D+PeftDcEDhP6JLu43z9uE/HUhhUZrc4T8/G8Kao/jhP6Cqf8blSeI/ZSwGbE9/4j/xvt2QzkThPxqhOBLwzuE/5VJhsHRx4j+TFkRfodvgPznbr+VNCuM/Pk8PSlVc4z/JZWK1MVnjP9dl4ZQAOeM/XKUunE/+4T/kq+KGlMLgP2ntlMUWmuI/StsmTVUO4z83pD1id/PhP9h8dBvUH+M/YC9lmt7W4j+dVnvUSQTjP8unn1VRD+M/fXjAn69Z5D9F0sj3DOfkP3QbJJGDIOU/SMrwNbiP5D+svJG8ItXkP92Pm+btMuU/PmpOi0xq5T8/Gcf5V43lP3IMmOVF0OU/PYsc81/s5T8MXML18CPmP7CD/1fbHeY/1aH8c3Sk5j9ahMlsWonmP7swZTptL+Y/uMskv5IN5T84inxBDSPlPxjCDa5eZeQ/yTRfbKVc4z/ZC2ZXun/jP4j5bWozPeM/pZIPT4Ti4z8=",
          "dtype": "f8"
         },
         "yaxis": "y"
        },
        {
         "hovertemplate": "variable=instrumentalness<br>release_year=%{x}<br>value=%{y}<extra></extra>",
         "legendgroup": "instrumentalness",
         "line": {
          "color": "rgb(152,78,163)",
          "dash": "solid"
         },
         "marker": {
          "symbol": "circle"
         },
         "mode": "lines+markers",
         "name": "instrumentalness",
         "orientation": "v",
         "showlegend": true,
         "type": "scatter",
         "x": {
          "bdata": "gweFB4YHhweIB4kHigeNB44HjweQB5EHkgeTB5UHlgeZB5oHmwecB50HngefB6AHoQeiB6MHpAelB6YHpweoB6kHqgerB6wHrQeuB68HsAexB7IHswe0B7UHtge3B7gHuQe6B7sHvAe9B74HvwfAB8EHwgfDB8QHxQfGB8cHyAfJB8oHywfMB80HzgfPB9AH0QfSB9MH1AfVB9YH1wfYB9kH2gfbB9wH3QfeB98H4AfhB+IH4wc=",
          "dtype": "i2"
         },
         "xaxis": "x",
         "y": {
          "bdata": "6xotB3qoxz8hH/RsVn3XP/OB03HrJBE/ne+nxks34T9tgIjDiNPJPwAAAAAAAAAAAXKvuZA07T9T8IpbImK7P8P1KFyPwsU/uZCiKZa2wz7tmawivj9bPy1Rau2FG1M/umsJ+aBn1j9Mu6sx+0+BPxfbIGoNa6w/7dhQjyrc1j85+Wfl4phaPxVnHz7Druw/rtsp/X6EwD9U6OnLDQ6rP8qtYS+htcc/S0xSXRo4xD+71eFWrwDlPz5fG1Vw4Mw/dTHgP/AL3j/OyxqWaVfEP16Qx+iNzsI/1hBLobmJsj/fyqZeJ5vCPwBxiVRn17Y/3lMOg4lIxT8sQku0vHfGP9bl2JCpHNY/1h5TX0gQxT/4dDTnZj7DP5YYqt8mbL4/iT572iRtsz8xdPRtan/AP5XQd292DsE/SmSUK+LWvT8RHiYpKKvCP3h643yitr8/0VfXkQBbuj/Hzp+42527PyhZf2Pt/LY/T5l7qGwyuj9X+Baj/CnBP7ofeAdJar4/DtfkHfZDwj9ITVC2Lku8PxEDAnbF6LU/6AoBJV31xT9T18LYLgrMP0+j04vMIMI/yL4JUp5BzD8bJvuzJ1zMP769n3sMDcM/Kdv4TWwawT+iTVHeOTO1P2Tb9yRZvLk/8gfZUgGGxD/ezEceA67FPybQiKpyV7o/BFYdGmW3wT/ceDQ9CbnAPya//tNkm7w/i/PIIiG5wT9OJKZyxGe1P2Rpk6U/wr0/RP1xNWM8wD9g4n9FEyW2P4+xcyZNQ7g/NuQdPh+vwD+dYu95h7a3P+C2z0/dALs/zHAeXJ7VsT+5cSXoZES0PwuJ7vU9jLA/V8aIRLe+sD98/9+A/MypP8OlSI4gvqk/gc7l+qAFsD/Mb6USNlKsP3Sf7R4ZkaU/Srpxkh2+sD8/k5Jl+ZWjP2TGCStnApo/vX69X83smz/+OTs2ZyCXP9jFFP3IPJI/Al23MkBvhT8=",
          "dtype": "f8"
         },
         "yaxis": "y"
        },
        {
         "hovertemplate": "variable=liveness<br>release_year=%{x}<br>value=%{y}<extra></extra>",
         "legendgroup": "liveness",
         "line": {
          "color": "rgb(255,127,0)",
          "dash": "solid"
         },
         "marker": {
          "symbol": "circle"
         },
         "mode": "lines+markers",
         "name": "liveness",
         "orientation": "v",
         "showlegend": true,
         "type": "scatter",
         "x": {
          "bdata": "gweFB4YHhweIB4kHigeNB44HjweQB5EHkgeTB5UHlgeZB5oHmwecB50HngefB6AHoQeiB6MHpAelB6YHpweoB6kHqgerB6wHrQeuB68HsAexB7IHswe0B7UHtge3B7gHuQe6B7sHvAe9B74HvwfAB8EHwgfDB8QHxQfGB8cHyAfJB8oHywfMB80HzgfPB9AH0QfSB9MH1AfVB9YH1wfYB9kH2gfbB9wH3QfeB98H4AfhB+IH4wc=",
          "dtype": "i2"
         },
         "xaxis": "x",
         "y": {
          "bdata": "h4Va07zjxD84+MJkqmDAP28Sg8DKocU/oSCLR7xPuD8qOpLLf0jFP3Noke18P9U/xyYM3f/a1D9mZmZmZmbGP5HtfD81Xro/xf6ye/KwsD+BJsKGp1fEP/AWSFD8GMU/6Pup8dJN0j9zr7mQNKXaP9NNYhBYOcQ/yGtiwurMvj9ZhjjWxW3GP/UDMeOAcLg/iiq/y4qkzD9pPZ9qaCbJPz90QX3LnM4/uU/Z3A/iwz8FfmeOv8e/P3cBsak05Mw/4r9T22C7xj+reJbyvHHDPxzRPesaLcc/bm31siA9wz/MgAJRbNTCP6uoHCyfycU/JYXffFsmzD/DnR0A2cLJPzRFOU/hPMw/L33HPv+Dxz+PRrzpcR/IP8RUqhuta8g/OV++E07jyj/Sv3M1IivHP0+IOPCtZsc/SE8cfDsnzD+3KzziX8rFP1drSJaZW8k/d2Qxatl4yT8vYWjXhtLHP/ZCOf3iy8U/OgN+yRFKxj83fj4du5vKP7A6SAOQdco/N6t4B6AXxz89XCKiPuPKP4oIW96pYsg/VHdSTMs1yj/dAyt1STvKP6YUlQILx8k/ZGY8Fh/4yT8m7aHYZVPJP//qf7a//sY/WeHgKA9eyD99dii+71XHP9dN/qxgyck/gjPgtxlaxz9QTyY2W0XIP1ZQxyVy7sY/g20Jcv/6yT9l3yiuQOXIPw7f/OJ6Pcg/S9507t+wyD/3SldQiHbKP+JYHMHiccg/c4jvI14yyj9JlzG2S63IP+DoNSWfKco/p2pWr/SExz8PLLM2j17IP2RQCO/bP8k/oJMDcgGeyD/sLg8Zr4jJPyuI8XQooMg/yWaAMWXJxz+vSNZoQmvIP6AQtt9SBco/+zvTvTkpyT9wMt7UWN/KP1rFjeiiBsk/rZTeBNv8yD9/Y3qg1IDHP2JI8lkRB8c/V5XWeXDQxz/1SoAQsHPGP24WlFDs3sU/GTcDFwx8xD8=",
          "dtype": "f8"
         },
         "yaxis": "y"
        },
        {
         "hovertemplate": "variable=valence<br>release_year=%{x}<br>value=%{y}<extra></extra>",
         "legendgroup": "valence",
         "line": {
          "color": "rgb(255,255,51)",
          "dash": "solid"
         },
         "marker": {
          "symbol": "circle"
         },
         "mode": "lines+markers",
         "name": "valence",
         "orientation": "v",
         "showlegend": true,
         "type": "scatter",
         "x": {
          "bdata": "gweFB4YHhweIB4kHigeNB44HjweQB5EHkgeTB5UHlgeZB5oHmwecB50HngefB6AHoQeiB6MHpAelB6YHpweoB6kHqgerB6wHrQeuB68HsAexB7IHswe0B7UHtge3B7gHuQe6B7sHvAe9B74HvwfAB8EHwgfDB8QHxQfGB8cHyAfJB8oHywfMB80HzgfPB9AH0QfSB9MH1AfVB9YH1wfYB9kH2gfbB9wH3QfeB98H4AfhB+IH4wc=",
          "dtype": "i2"
         },
         "xaxis": "x",
         "y": {
          "bdata": "MlUwKqkT4D/hehSuR+HmP0jhehSuR+E/NKXi7MNn7D9qvHSTGATcPzeJQWDl0OY/xB2CvZzsuT+IvyZr1EPgP83MzMzMzNQ/SOF6FK5H5T/e3d3d3d3iP39qvHSTGN0/RpT2Bl8Y4j8Bcq+5kDThP3npJjEIrNQ/PgrXo3A90j8zMzMzMzPVP2MyVTAqqcs/VRpy7rML5D+XFq+nbujLP0zl7QinBdM/kaE3nmU10j9j6yyNckPcPwIrhxbZzt8/Y0D2evfHwz/M3p0D33bUP8HlsWZkkM8/rJdIxDAr3j8BAy61yyThP3IYOKKcPt0/nW9JYVdW4D/VJ6//5lPeP9ORtrT2lds/ixqxPnpO4D8ZqIK41ynhP9mnDZMGh+I/ZpNq4AOz4j8GbwpjFQHiP8rPddh6n+E/0kM6HFA84z96p+cB6WbiPxgaKMRb+uI/94hWpTcT4j9TY2jzWYnjP3hyPa1JBeQ/ApM77eF14z9v1kUSI8XiPwqvUt2UzOM/zkJXn5Nu4z89JKZygmDkPyuIQDe00OQ/qBhbzkLQ4j/zkhzToxfjPxJU+1O1pOI/R6WUfk9b4j8/lr0kTTvgP37Qt1kDuuE/L0aF3/3s4T8GFRN5QrvhPxAb1pc6a+I/H22rW8LK4T9VawPATrbdP5bCiV4IHeE/fq+p9afC4D+Hinj3IyDhPxLVAagmuOA/dtD3Avmk3z/8n7DNzbPhP9nChe6heOA/83F2o9/y4D8RfzCJCI7hP7hRsg9oquE/0jEpQ2dU4D+LAJvTEFLgPxuSJQHsmeA/xs/E9rUE4T/I4h8n+LngP9UpfwHZ7t8/67YH0nrL3z/Ll0lQoD7gPyUPsv3i8N8/3zrhzUBL4D9AMrC8G+XePxwElkoF5N0//sFtY39x3T/cE2UL7BfcP908jlp6ZNs/IxUrinuR2z+sqY54rrnbPySEDq1Udtw/x1ygK5h/3T8=",
          "dtype": "f8"
         },
         "yaxis": "y"
        }
       ],
       "layout": {
        "height": 600,
        "legend": {
         "title": {
          "text": "Característica"
         },
         "tracegroupgap": 0
        },
        "margin": {
         "t": 60
        },
        "template": {
         "data": {
          "bar": [
           {
            "error_x": {
             "color": "#2a3f5f"
            },
            "error_y": {
             "color": "#2a3f5f"
            },
            "marker": {
             "line": {
              "color": "white",
              "width": 0.5
             },
             "pattern": {
              "fillmode": "overlay",
              "size": 10,
              "solidity": 0.2
             }
            },
            "type": "bar"
           }
          ],
          "barpolar": [
           {
            "marker": {
             "line": {
              "color": "white",
              "width": 0.5
             },
             "pattern": {
              "fillmode": "overlay",
              "size": 10,
              "solidity": 0.2
             }
            },
            "type": "barpolar"
           }
          ],
          "carpet": [
           {
            "aaxis": {
             "endlinecolor": "#2a3f5f",
             "gridcolor": "#C8D4E3",
             "linecolor": "#C8D4E3",
             "minorgridcolor": "#C8D4E3",
             "startlinecolor": "#2a3f5f"
            },
            "baxis": {
             "endlinecolor": "#2a3f5f",
             "gridcolor": "#C8D4E3",
             "linecolor": "#C8D4E3",
             "minorgridcolor": "#C8D4E3",
             "startlinecolor": "#2a3f5f"
            },
            "type": "carpet"
           }
          ],
          "choropleth": [
           {
            "colorbar": {
             "outlinewidth": 0,
             "ticks": ""
            },
            "type": "choropleth"
           }
          ],
          "contour": [
           {
            "colorbar": {
             "outlinewidth": 0,
             "ticks": ""
            },
            "colorscale": [
             [
              0,
              "#0d0887"
             ],
             [
              0.1111111111111111,
              "#46039f"
             ],
             [
              0.2222222222222222,
              "#7201a8"
             ],
             [
              0.3333333333333333,
              "#9c179e"
             ],
             [
              0.4444444444444444,
              "#bd3786"
             ],
             [
              0.5555555555555556,
              "#d8576b"
             ],
             [
              0.6666666666666666,
              "#ed7953"
             ],
             [
              0.7777777777777778,
              "#fb9f3a"
             ],
             [
              0.8888888888888888,
              "#fdca26"
             ],
             [
              1,
              "#f0f921"
             ]
            ],
            "type": "contour"
           }
          ],
          "contourcarpet": [
           {
            "colorbar": {
             "outlinewidth": 0,
             "ticks": ""
            },
            "type": "contourcarpet"
           }
          ],
          "heatmap": [
           {
            "colorbar": {
             "outlinewidth": 0,
             "ticks": ""
            },
            "colorscale": [
             [
              0,
              "#0d0887"
             ],
             [
              0.1111111111111111,
              "#46039f"
             ],
             [
              0.2222222222222222,
              "#7201a8"
             ],
             [
              0.3333333333333333,
              "#9c179e"
             ],
             [
              0.4444444444444444,
              "#bd3786"
             ],
             [
              0.5555555555555556,
              "#d8576b"
             ],
             [
              0.6666666666666666,
              "#ed7953"
             ],
             [
              0.7777777777777778,
              "#fb9f3a"
             ],
             [
              0.8888888888888888,
              "#fdca26"
             ],
             [
              1,
              "#f0f921"
             ]
            ],
            "type": "heatmap"
           }
          ],
          "histogram": [
           {
            "marker": {
             "pattern": {
              "fillmode": "overlay",
              "size": 10,
              "solidity": 0.2
             }
            },
            "type": "histogram"
           }
          ],
          "histogram2d": [
           {
            "colorbar": {
             "outlinewidth": 0,
             "ticks": ""
            },
            "colorscale": [
             [
              0,
              "#0d0887"
             ],
             [
              0.1111111111111111,
              "#46039f"
             ],
             [
              0.2222222222222222,
              "#7201a8"
             ],
             [
              0.3333333333333333,
              "#9c179e"
             ],
             [
              0.4444444444444444,
              "#bd3786"
             ],
             [
              0.5555555555555556,
              "#d8576b"
             ],
             [
              0.6666666666666666,
              "#ed7953"
             ],
             [
              0.7777777777777778,
              "#fb9f3a"
             ],
             [
              0.8888888888888888,
              "#fdca26"
             ],
             [
              1,
              "#f0f921"
             ]
            ],
            "type": "histogram2d"
           }
          ],
          "histogram2dcontour": [
           {
            "colorbar": {
             "outlinewidth": 0,
             "ticks": ""
            },
            "colorscale": [
             [
              0,
              "#0d0887"
             ],
             [
              0.1111111111111111,
              "#46039f"
             ],
             [
              0.2222222222222222,
              "#7201a8"
             ],
             [
              0.3333333333333333,
              "#9c179e"
             ],
             [
              0.4444444444444444,
              "#bd3786"
             ],
             [
              0.5555555555555556,
              "#d8576b"
             ],
             [
              0.6666666666666666,
              "#ed7953"
             ],
             [
              0.7777777777777778,
              "#fb9f3a"
             ],
             [
              0.8888888888888888,
              "#fdca26"
             ],
             [
              1,
              "#f0f921"
             ]
            ],
            "type": "histogram2dcontour"
           }
          ],
          "mesh3d": [
           {
            "colorbar": {
             "outlinewidth": 0,
             "ticks": ""
            },
            "type": "mesh3d"
           }
          ],
          "parcoords": [
           {
            "line": {
             "colorbar": {
              "outlinewidth": 0,
              "ticks": ""
             }
            },
            "type": "parcoords"
           }
          ],
          "pie": [
           {
            "automargin": true,
            "type": "pie"
           }
          ],
          "scatter": [
           {
            "fillpattern": {
             "fillmode": "overlay",
             "size": 10,
             "solidity": 0.2
            },
            "type": "scatter"
           }
          ],
          "scatter3d": [
           {
            "line": {
             "colorbar": {
              "outlinewidth": 0,
              "ticks": ""
             }
            },
            "marker": {
             "colorbar": {
              "outlinewidth": 0,
              "ticks": ""
             }
            },
            "type": "scatter3d"
           }
          ],
          "scattercarpet": [
           {
            "marker": {
             "colorbar": {
              "outlinewidth": 0,
              "ticks": ""
             }
            },
            "type": "scattercarpet"
           }
          ],
          "scattergeo": [
           {
            "marker": {
             "colorbar": {
              "outlinewidth": 0,
              "ticks": ""
             }
            },
            "type": "scattergeo"
           }
          ],
          "scattergl": [
           {
            "marker": {
             "colorbar": {
              "outlinewidth": 0,
              "ticks": ""
             }
            },
            "type": "scattergl"
           }
          ],
          "scattermap": [
           {
            "marker": {
             "colorbar": {
              "outlinewidth": 0,
              "ticks": ""
             }
            },
            "type": "scattermap"
           }
          ],
          "scattermapbox": [
           {
            "marker": {
             "colorbar": {
              "outlinewidth": 0,
              "ticks": ""
             }
            },
            "type": "scattermapbox"
           }
          ],
          "scatterpolar": [
           {
            "marker": {
             "colorbar": {
              "outlinewidth": 0,
              "ticks": ""
             }
            },
            "type": "scatterpolar"
           }
          ],
          "scatterpolargl": [
           {
            "marker": {
             "colorbar": {
              "outlinewidth": 0,
              "ticks": ""
             }
            },
            "type": "scatterpolargl"
           }
          ],
          "scatterternary": [
           {
            "marker": {
             "colorbar": {
              "outlinewidth": 0,
              "ticks": ""
             }
            },
            "type": "scatterternary"
           }
          ],
          "surface": [
           {
            "colorbar": {
             "outlinewidth": 0,
             "ticks": ""
            },
            "colorscale": [
             [
              0,
              "#0d0887"
             ],
             [
              0.1111111111111111,
              "#46039f"
             ],
             [
              0.2222222222222222,
              "#7201a8"
             ],
             [
              0.3333333333333333,
              "#9c179e"
             ],
             [
              0.4444444444444444,
              "#bd3786"
             ],
             [
              0.5555555555555556,
              "#d8576b"
             ],
             [
              0.6666666666666666,
              "#ed7953"
             ],
             [
              0.7777777777777778,
              "#fb9f3a"
             ],
             [
              0.8888888888888888,
              "#fdca26"
             ],
             [
              1,
              "#f0f921"
             ]
            ],
            "type": "surface"
           }
          ],
          "table": [
           {
            "cells": {
             "fill": {
              "color": "#EBF0F8"
             },
             "line": {
              "color": "white"
             }
            },
            "header": {
             "fill": {
              "color": "#C8D4E3"
             },
             "line": {
              "color": "white"
             }
            },
            "type": "table"
           }
          ]
         },
         "layout": {
          "annotationdefaults": {
           "arrowcolor": "#2a3f5f",
           "arrowhead": 0,
           "arrowwidth": 1
          },
          "autotypenumbers": "strict",
          "coloraxis": {
           "colorbar": {
            "outlinewidth": 0,
            "ticks": ""
           }
          },
          "colorscale": {
           "diverging": [
            [
             0,
             "#8e0152"
            ],
            [
             0.1,
             "#c51b7d"
            ],
            [
             0.2,
             "#de77ae"
            ],
            [
             0.3,
             "#f1b6da"
            ],
            [
             0.4,
             "#fde0ef"
            ],
            [
             0.5,
             "#f7f7f7"
            ],
            [
             0.6,
             "#e6f5d0"
            ],
            [
             0.7,
             "#b8e186"
            ],
            [
             0.8,
             "#7fbc41"
            ],
            [
             0.9,
             "#4d9221"
            ],
            [
             1,
             "#276419"
            ]
           ],
           "sequential": [
            [
             0,
             "#0d0887"
            ],
            [
             0.1111111111111111,
             "#46039f"
            ],
            [
             0.2222222222222222,
             "#7201a8"
            ],
            [
             0.3333333333333333,
             "#9c179e"
            ],
            [
             0.4444444444444444,
             "#bd3786"
            ],
            [
             0.5555555555555556,
             "#d8576b"
            ],
            [
             0.6666666666666666,
             "#ed7953"
            ],
            [
             0.7777777777777778,
             "#fb9f3a"
            ],
            [
             0.8888888888888888,
             "#fdca26"
            ],
            [
             1,
             "#f0f921"
            ]
           ],
           "sequentialminus": [
            [
             0,
             "#0d0887"
            ],
            [
             0.1111111111111111,
             "#46039f"
            ],
            [
             0.2222222222222222,
             "#7201a8"
            ],
            [
             0.3333333333333333,
             "#9c179e"
            ],
            [
             0.4444444444444444,
             "#bd3786"
            ],
            [
             0.5555555555555556,
             "#d8576b"
            ],
            [
             0.6666666666666666,
             "#ed7953"
            ],
            [
             0.7777777777777778,
             "#fb9f3a"
            ],
            [
             0.8888888888888888,
             "#fdca26"
            ],
            [
             1,
             "#f0f921"
            ]
           ]
          },
          "colorway": [
           "#636efa",
           "#EF553B",
           "#00cc96",
           "#ab63fa",
           "#FFA15A",
           "#19d3f3",
           "#FF6692",
           "#B6E880",
           "#FF97FF",
           "#FECB52"
          ],
          "font": {
           "color": "#2a3f5f"
          },
          "geo": {
           "bgcolor": "white",
           "lakecolor": "white",
           "landcolor": "white",
           "showlakes": true,
           "showland": true,
           "subunitcolor": "#C8D4E3"
          },
          "hoverlabel": {
           "align": "left"
          },
          "hovermode": "closest",
          "mapbox": {
           "style": "light"
          },
          "paper_bgcolor": "white",
          "plot_bgcolor": "white",
          "polar": {
           "angularaxis": {
            "gridcolor": "#EBF0F8",
            "linecolor": "#EBF0F8",
            "ticks": ""
           },
           "bgcolor": "white",
           "radialaxis": {
            "gridcolor": "#EBF0F8",
            "linecolor": "#EBF0F8",
            "ticks": ""
           }
          },
          "scene": {
           "xaxis": {
            "backgroundcolor": "white",
            "gridcolor": "#DFE8F3",
            "gridwidth": 2,
            "linecolor": "#EBF0F8",
            "showbackground": true,
            "ticks": "",
            "zerolinecolor": "#EBF0F8"
           },
           "yaxis": {
            "backgroundcolor": "white",
            "gridcolor": "#DFE8F3",
            "gridwidth": 2,
            "linecolor": "#EBF0F8",
            "showbackground": true,
            "ticks": "",
            "zerolinecolor": "#EBF0F8"
           },
           "zaxis": {
            "backgroundcolor": "white",
            "gridcolor": "#DFE8F3",
            "gridwidth": 2,
            "linecolor": "#EBF0F8",
            "showbackground": true,
            "ticks": "",
            "zerolinecolor": "#EBF0F8"
           }
          },
          "shapedefaults": {
           "line": {
            "color": "#2a3f5f"
           }
          },
          "ternary": {
           "aaxis": {
            "gridcolor": "#DFE8F3",
            "linecolor": "#A2B1C6",
            "ticks": ""
           },
           "baxis": {
            "gridcolor": "#DFE8F3",
            "linecolor": "#A2B1C6",
            "ticks": ""
           },
           "bgcolor": "white",
           "caxis": {
            "gridcolor": "#DFE8F3",
            "linecolor": "#A2B1C6",
            "ticks": ""
           }
          },
          "title": {
           "x": 0.05
          },
          "xaxis": {
           "automargin": true,
           "gridcolor": "#EBF0F8",
           "linecolor": "#EBF0F8",
           "ticks": "",
           "title": {
            "standoff": 15
           },
           "zerolinecolor": "#EBF0F8",
           "zerolinewidth": 2
          },
          "yaxis": {
           "automargin": true,
           "gridcolor": "#EBF0F8",
           "linecolor": "#EBF0F8",
           "ticks": "",
           "title": {
            "standoff": 15
           },
           "zerolinecolor": "#EBF0F8",
           "zerolinewidth": 2
          }
         }
        },
        "title": {
         "text": "Promedio de características de sonido por año"
        },
        "width": 1000,
        "xaxis": {
         "anchor": "y",
         "domain": [
          0,
          1
         ],
         "title": {
          "text": "Año"
         }
        },
        "yaxis": {
         "anchor": "x",
         "domain": [
          0,
          1
         ],
         "title": {
          "text": "Valor promedio"
         }
        }
       }
      }
     },
     "metadata": {},
     "output_type": "display_data"
    }
   ],
   "source": [
    "# Graficar el promedio de varias características de sonido por año\n",
    "import plotly.express as px\n",
    "sound_features = ['acousticness', 'danceability', 'energy', 'instrumentalness', 'liveness', 'valence']\n",
    "if 'release_year' in data.columns:\n",
    "    df_avg = data.groupby('release_year')[sound_features].mean().reset_index()\n",
    "    fig = px.line(\n",
    "        df_avg,\n",
    "        x='release_year',\n",
    "        y=sound_features,\n",
    "        markers=True,\n",
    "        width=1000,\n",
    "        height=600,\n",
    "        color_discrete_sequence=px.colors.qualitative.Set1\n",
    "    )\n",
    "    fig.update_layout(\n",
    "        title='Promedio de características de sonido por año',\n",
    "        xaxis_title='Año',\n",
    "        yaxis_title='Valor promedio',\n",
    "        legend_title='Característica',\n",
    "        template='plotly_white'\n",
    "    )\n",
    "    fig.show()\n",
    "else:\n",
    "    print(\"No existe una columna 'year' en el DataFrame.\")"
   ]
  },
  {
   "cell_type": "code",
   "execution_count": 9,
   "id": "b6a8cfe9",
   "metadata": {},
   "outputs": [
    {
     "data": {
      "application/vnd.plotly.v1+json": {
       "config": {
        "plotlyServerURL": "https://plot.ly"
       },
       "data": [
        {
         "alignmentgroup": "True",
         "hovertemplate": "variable=valence<br>genre=%{x}<br>value=%{y}<extra></extra>",
         "legendgroup": "valence",
         "marker": {
          "color": "#636efa",
          "pattern": {
           "shape": ""
          }
         },
         "name": "valence",
         "offsetgroup": "valence",
         "orientation": "v",
         "showlegend": true,
         "textposition": "auto",
         "type": "bar",
         "x": [
          "Pop",
          "Rap",
          "Hip-Hop",
          "Reggaeton",
          "Rock",
          "Dance",
          "Indie",
          "R&B",
          "Children’s Music",
          "Folk"
         ],
         "xaxis": "x",
         "y": {
          "bdata": "snb5fc8r3z91jEQQAzveP96b/dGVReA/quRvv4my5T9K008nF/vgP7/Ps6K2m+E/v+cJnae43D/pf4YsZKrfPza78QC+5N0/ZX4IDVhv4D8=",
          "dtype": "f8"
         },
         "yaxis": "y"
        },
        {
         "alignmentgroup": "True",
         "hovertemplate": "variable=energy<br>genre=%{x}<br>value=%{y}<extra></extra>",
         "legendgroup": "energy",
         "marker": {
          "color": "#EF553B",
          "pattern": {
           "shape": ""
          }
         },
         "name": "energy",
         "offsetgroup": "energy",
         "orientation": "v",
         "showlegend": true,
         "textposition": "auto",
         "type": "bar",
         "x": [
          "Pop",
          "Rap",
          "Hip-Hop",
          "Reggaeton",
          "Rock",
          "Dance",
          "Indie",
          "R&B",
          "Children’s Music",
          "Folk"
         ],
         "xaxis": "x",
         "y": {
          "bdata": "DiPDU4Cx5D+RKvKE5X/lP4DNvReNCOU/ewdLuQgd6D+7zDsf/+XlP7puGli0geY/BWaLX2ZS4z9ev31sOMriP+zwfkh6sec/LtfBYUE94D8=",
          "dtype": "f8"
         },
         "yaxis": "y"
        },
        {
         "alignmentgroup": "True",
         "hovertemplate": "variable=danceability<br>genre=%{x}<br>value=%{y}<extra></extra>",
         "legendgroup": "danceability",
         "marker": {
          "color": "#00cc96",
          "pattern": {
           "shape": ""
          }
         },
         "name": "danceability",
         "offsetgroup": "danceability",
         "orientation": "v",
         "showlegend": true,
         "textposition": "auto",
         "type": "bar",
         "x": [
          "Pop",
          "Rap",
          "Hip-Hop",
          "Reggaeton",
          "Rock",
          "Dance",
          "Indie",
          "R&B",
          "Children’s Music",
          "Folk"
         ],
         "xaxis": "x",
         "y": {
          "bdata": "UVFALPpG5D80AhS9DMzlP8z+imK/zeY/FNYYjYoL6D/h46iqSyvhP/3HsJZ7WeQ/2rKn7JiP4T+MVzDOsefkP2TZLanNzeA/qm8212g94T8=",
          "dtype": "f8"
         },
         "yaxis": "y"
        },
        {
         "alignmentgroup": "True",
         "hovertemplate": "variable=acousticness<br>genre=%{x}<br>value=%{y}<extra></extra>",
         "legendgroup": "acousticness",
         "marker": {
          "color": "#ab63fa",
          "pattern": {
           "shape": ""
          }
         },
         "name": "acousticness",
         "offsetgroup": "acousticness",
         "orientation": "v",
         "showlegend": true,
         "textposition": "auto",
         "type": "bar",
         "x": [
          "Pop",
          "Rap",
          "Hip-Hop",
          "Reggaeton",
          "Rock",
          "Dance",
          "Indie",
          "R&B",
          "Children’s Music",
          "Folk"
         ],
         "xaxis": "x",
         "y": {
          "bdata": "EyL3V/DRyz9Qq9Qo3t/DP+O555/NZcU/hcrb8HxZyj/pqF1XSqvIP4GaqoJdQsM/oWJZIyN70z/gUS7BD+TOP1yfnvegiL8/7Lh0Qm3m2z8=",
          "dtype": "f8"
         },
         "yaxis": "y"
        }
       ],
       "layout": {
        "barmode": "group",
        "legend": {
         "title": {
          "text": "Característica"
         },
         "tracegroupgap": 0
        },
        "template": {
         "data": {
          "bar": [
           {
            "error_x": {
             "color": "#2a3f5f"
            },
            "error_y": {
             "color": "#2a3f5f"
            },
            "marker": {
             "line": {
              "color": "white",
              "width": 0.5
             },
             "pattern": {
              "fillmode": "overlay",
              "size": 10,
              "solidity": 0.2
             }
            },
            "type": "bar"
           }
          ],
          "barpolar": [
           {
            "marker": {
             "line": {
              "color": "white",
              "width": 0.5
             },
             "pattern": {
              "fillmode": "overlay",
              "size": 10,
              "solidity": 0.2
             }
            },
            "type": "barpolar"
           }
          ],
          "carpet": [
           {
            "aaxis": {
             "endlinecolor": "#2a3f5f",
             "gridcolor": "#C8D4E3",
             "linecolor": "#C8D4E3",
             "minorgridcolor": "#C8D4E3",
             "startlinecolor": "#2a3f5f"
            },
            "baxis": {
             "endlinecolor": "#2a3f5f",
             "gridcolor": "#C8D4E3",
             "linecolor": "#C8D4E3",
             "minorgridcolor": "#C8D4E3",
             "startlinecolor": "#2a3f5f"
            },
            "type": "carpet"
           }
          ],
          "choropleth": [
           {
            "colorbar": {
             "outlinewidth": 0,
             "ticks": ""
            },
            "type": "choropleth"
           }
          ],
          "contour": [
           {
            "colorbar": {
             "outlinewidth": 0,
             "ticks": ""
            },
            "colorscale": [
             [
              0,
              "#0d0887"
             ],
             [
              0.1111111111111111,
              "#46039f"
             ],
             [
              0.2222222222222222,
              "#7201a8"
             ],
             [
              0.3333333333333333,
              "#9c179e"
             ],
             [
              0.4444444444444444,
              "#bd3786"
             ],
             [
              0.5555555555555556,
              "#d8576b"
             ],
             [
              0.6666666666666666,
              "#ed7953"
             ],
             [
              0.7777777777777778,
              "#fb9f3a"
             ],
             [
              0.8888888888888888,
              "#fdca26"
             ],
             [
              1,
              "#f0f921"
             ]
            ],
            "type": "contour"
           }
          ],
          "contourcarpet": [
           {
            "colorbar": {
             "outlinewidth": 0,
             "ticks": ""
            },
            "type": "contourcarpet"
           }
          ],
          "heatmap": [
           {
            "colorbar": {
             "outlinewidth": 0,
             "ticks": ""
            },
            "colorscale": [
             [
              0,
              "#0d0887"
             ],
             [
              0.1111111111111111,
              "#46039f"
             ],
             [
              0.2222222222222222,
              "#7201a8"
             ],
             [
              0.3333333333333333,
              "#9c179e"
             ],
             [
              0.4444444444444444,
              "#bd3786"
             ],
             [
              0.5555555555555556,
              "#d8576b"
             ],
             [
              0.6666666666666666,
              "#ed7953"
             ],
             [
              0.7777777777777778,
              "#fb9f3a"
             ],
             [
              0.8888888888888888,
              "#fdca26"
             ],
             [
              1,
              "#f0f921"
             ]
            ],
            "type": "heatmap"
           }
          ],
          "histogram": [
           {
            "marker": {
             "pattern": {
              "fillmode": "overlay",
              "size": 10,
              "solidity": 0.2
             }
            },
            "type": "histogram"
           }
          ],
          "histogram2d": [
           {
            "colorbar": {
             "outlinewidth": 0,
             "ticks": ""
            },
            "colorscale": [
             [
              0,
              "#0d0887"
             ],
             [
              0.1111111111111111,
              "#46039f"
             ],
             [
              0.2222222222222222,
              "#7201a8"
             ],
             [
              0.3333333333333333,
              "#9c179e"
             ],
             [
              0.4444444444444444,
              "#bd3786"
             ],
             [
              0.5555555555555556,
              "#d8576b"
             ],
             [
              0.6666666666666666,
              "#ed7953"
             ],
             [
              0.7777777777777778,
              "#fb9f3a"
             ],
             [
              0.8888888888888888,
              "#fdca26"
             ],
             [
              1,
              "#f0f921"
             ]
            ],
            "type": "histogram2d"
           }
          ],
          "histogram2dcontour": [
           {
            "colorbar": {
             "outlinewidth": 0,
             "ticks": ""
            },
            "colorscale": [
             [
              0,
              "#0d0887"
             ],
             [
              0.1111111111111111,
              "#46039f"
             ],
             [
              0.2222222222222222,
              "#7201a8"
             ],
             [
              0.3333333333333333,
              "#9c179e"
             ],
             [
              0.4444444444444444,
              "#bd3786"
             ],
             [
              0.5555555555555556,
              "#d8576b"
             ],
             [
              0.6666666666666666,
              "#ed7953"
             ],
             [
              0.7777777777777778,
              "#fb9f3a"
             ],
             [
              0.8888888888888888,
              "#fdca26"
             ],
             [
              1,
              "#f0f921"
             ]
            ],
            "type": "histogram2dcontour"
           }
          ],
          "mesh3d": [
           {
            "colorbar": {
             "outlinewidth": 0,
             "ticks": ""
            },
            "type": "mesh3d"
           }
          ],
          "parcoords": [
           {
            "line": {
             "colorbar": {
              "outlinewidth": 0,
              "ticks": ""
             }
            },
            "type": "parcoords"
           }
          ],
          "pie": [
           {
            "automargin": true,
            "type": "pie"
           }
          ],
          "scatter": [
           {
            "fillpattern": {
             "fillmode": "overlay",
             "size": 10,
             "solidity": 0.2
            },
            "type": "scatter"
           }
          ],
          "scatter3d": [
           {
            "line": {
             "colorbar": {
              "outlinewidth": 0,
              "ticks": ""
             }
            },
            "marker": {
             "colorbar": {
              "outlinewidth": 0,
              "ticks": ""
             }
            },
            "type": "scatter3d"
           }
          ],
          "scattercarpet": [
           {
            "marker": {
             "colorbar": {
              "outlinewidth": 0,
              "ticks": ""
             }
            },
            "type": "scattercarpet"
           }
          ],
          "scattergeo": [
           {
            "marker": {
             "colorbar": {
              "outlinewidth": 0,
              "ticks": ""
             }
            },
            "type": "scattergeo"
           }
          ],
          "scattergl": [
           {
            "marker": {
             "colorbar": {
              "outlinewidth": 0,
              "ticks": ""
             }
            },
            "type": "scattergl"
           }
          ],
          "scattermap": [
           {
            "marker": {
             "colorbar": {
              "outlinewidth": 0,
              "ticks": ""
             }
            },
            "type": "scattermap"
           }
          ],
          "scattermapbox": [
           {
            "marker": {
             "colorbar": {
              "outlinewidth": 0,
              "ticks": ""
             }
            },
            "type": "scattermapbox"
           }
          ],
          "scatterpolar": [
           {
            "marker": {
             "colorbar": {
              "outlinewidth": 0,
              "ticks": ""
             }
            },
            "type": "scatterpolar"
           }
          ],
          "scatterpolargl": [
           {
            "marker": {
             "colorbar": {
              "outlinewidth": 0,
              "ticks": ""
             }
            },
            "type": "scatterpolargl"
           }
          ],
          "scatterternary": [
           {
            "marker": {
             "colorbar": {
              "outlinewidth": 0,
              "ticks": ""
             }
            },
            "type": "scatterternary"
           }
          ],
          "surface": [
           {
            "colorbar": {
             "outlinewidth": 0,
             "ticks": ""
            },
            "colorscale": [
             [
              0,
              "#0d0887"
             ],
             [
              0.1111111111111111,
              "#46039f"
             ],
             [
              0.2222222222222222,
              "#7201a8"
             ],
             [
              0.3333333333333333,
              "#9c179e"
             ],
             [
              0.4444444444444444,
              "#bd3786"
             ],
             [
              0.5555555555555556,
              "#d8576b"
             ],
             [
              0.6666666666666666,
              "#ed7953"
             ],
             [
              0.7777777777777778,
              "#fb9f3a"
             ],
             [
              0.8888888888888888,
              "#fdca26"
             ],
             [
              1,
              "#f0f921"
             ]
            ],
            "type": "surface"
           }
          ],
          "table": [
           {
            "cells": {
             "fill": {
              "color": "#EBF0F8"
             },
             "line": {
              "color": "white"
             }
            },
            "header": {
             "fill": {
              "color": "#C8D4E3"
             },
             "line": {
              "color": "white"
             }
            },
            "type": "table"
           }
          ]
         },
         "layout": {
          "annotationdefaults": {
           "arrowcolor": "#2a3f5f",
           "arrowhead": 0,
           "arrowwidth": 1
          },
          "autotypenumbers": "strict",
          "coloraxis": {
           "colorbar": {
            "outlinewidth": 0,
            "ticks": ""
           }
          },
          "colorscale": {
           "diverging": [
            [
             0,
             "#8e0152"
            ],
            [
             0.1,
             "#c51b7d"
            ],
            [
             0.2,
             "#de77ae"
            ],
            [
             0.3,
             "#f1b6da"
            ],
            [
             0.4,
             "#fde0ef"
            ],
            [
             0.5,
             "#f7f7f7"
            ],
            [
             0.6,
             "#e6f5d0"
            ],
            [
             0.7,
             "#b8e186"
            ],
            [
             0.8,
             "#7fbc41"
            ],
            [
             0.9,
             "#4d9221"
            ],
            [
             1,
             "#276419"
            ]
           ],
           "sequential": [
            [
             0,
             "#0d0887"
            ],
            [
             0.1111111111111111,
             "#46039f"
            ],
            [
             0.2222222222222222,
             "#7201a8"
            ],
            [
             0.3333333333333333,
             "#9c179e"
            ],
            [
             0.4444444444444444,
             "#bd3786"
            ],
            [
             0.5555555555555556,
             "#d8576b"
            ],
            [
             0.6666666666666666,
             "#ed7953"
            ],
            [
             0.7777777777777778,
             "#fb9f3a"
            ],
            [
             0.8888888888888888,
             "#fdca26"
            ],
            [
             1,
             "#f0f921"
            ]
           ],
           "sequentialminus": [
            [
             0,
             "#0d0887"
            ],
            [
             0.1111111111111111,
             "#46039f"
            ],
            [
             0.2222222222222222,
             "#7201a8"
            ],
            [
             0.3333333333333333,
             "#9c179e"
            ],
            [
             0.4444444444444444,
             "#bd3786"
            ],
            [
             0.5555555555555556,
             "#d8576b"
            ],
            [
             0.6666666666666666,
             "#ed7953"
            ],
            [
             0.7777777777777778,
             "#fb9f3a"
            ],
            [
             0.8888888888888888,
             "#fdca26"
            ],
            [
             1,
             "#f0f921"
            ]
           ]
          },
          "colorway": [
           "#636efa",
           "#EF553B",
           "#00cc96",
           "#ab63fa",
           "#FFA15A",
           "#19d3f3",
           "#FF6692",
           "#B6E880",
           "#FF97FF",
           "#FECB52"
          ],
          "font": {
           "color": "#2a3f5f"
          },
          "geo": {
           "bgcolor": "white",
           "lakecolor": "white",
           "landcolor": "white",
           "showlakes": true,
           "showland": true,
           "subunitcolor": "#C8D4E3"
          },
          "hoverlabel": {
           "align": "left"
          },
          "hovermode": "closest",
          "mapbox": {
           "style": "light"
          },
          "paper_bgcolor": "white",
          "plot_bgcolor": "white",
          "polar": {
           "angularaxis": {
            "gridcolor": "#EBF0F8",
            "linecolor": "#EBF0F8",
            "ticks": ""
           },
           "bgcolor": "white",
           "radialaxis": {
            "gridcolor": "#EBF0F8",
            "linecolor": "#EBF0F8",
            "ticks": ""
           }
          },
          "scene": {
           "xaxis": {
            "backgroundcolor": "white",
            "gridcolor": "#DFE8F3",
            "gridwidth": 2,
            "linecolor": "#EBF0F8",
            "showbackground": true,
            "ticks": "",
            "zerolinecolor": "#EBF0F8"
           },
           "yaxis": {
            "backgroundcolor": "white",
            "gridcolor": "#DFE8F3",
            "gridwidth": 2,
            "linecolor": "#EBF0F8",
            "showbackground": true,
            "ticks": "",
            "zerolinecolor": "#EBF0F8"
           },
           "zaxis": {
            "backgroundcolor": "white",
            "gridcolor": "#DFE8F3",
            "gridwidth": 2,
            "linecolor": "#EBF0F8",
            "showbackground": true,
            "ticks": "",
            "zerolinecolor": "#EBF0F8"
           }
          },
          "shapedefaults": {
           "line": {
            "color": "#2a3f5f"
           }
          },
          "ternary": {
           "aaxis": {
            "gridcolor": "#DFE8F3",
            "linecolor": "#A2B1C6",
            "ticks": ""
           },
           "baxis": {
            "gridcolor": "#DFE8F3",
            "linecolor": "#A2B1C6",
            "ticks": ""
           },
           "bgcolor": "white",
           "caxis": {
            "gridcolor": "#DFE8F3",
            "linecolor": "#A2B1C6",
            "ticks": ""
           }
          },
          "title": {
           "x": 0.05
          },
          "xaxis": {
           "automargin": true,
           "gridcolor": "#EBF0F8",
           "linecolor": "#EBF0F8",
           "ticks": "",
           "title": {
            "standoff": 15
           },
           "zerolinecolor": "#EBF0F8",
           "zerolinewidth": 2
          },
          "yaxis": {
           "automargin": true,
           "gridcolor": "#EBF0F8",
           "linecolor": "#EBF0F8",
           "ticks": "",
           "title": {
            "standoff": 15
           },
           "zerolinecolor": "#EBF0F8",
           "zerolinewidth": 2
          }
         }
        },
        "title": {
         "text": "Top 10 géneros más populares y sus características promedio"
        },
        "xaxis": {
         "anchor": "y",
         "domain": [
          0,
          1
         ],
         "title": {
          "text": "Género"
         }
        },
        "yaxis": {
         "anchor": "x",
         "domain": [
          0,
          1
         ],
         "title": {
          "text": "Valor promedio"
         }
        }
       }
      }
     },
     "metadata": {},
     "output_type": "display_data"
    }
   ],
   "source": [
    "# Mostrar los 10 géneros más populares y sus características promedio\n",
    "# Mostrar los 10 géneros más populares y sus características promedio\n",
    "import plotly.express as px\n",
    "\n",
    "data_by_genres = pd.read_csv(\"merged_songs.csv\")\n",
    "\n",
    "if 'genre' in data_by_genres.columns:\n",
    "    # Agrupar por género y calcular el promedio de las características relevantes\n",
    "    genre_data = data_by_genres.groupby('genre')[['popularity', 'valence', 'energy', 'danceability', 'acousticness']].mean().reset_index()\n",
    "    # Seleccionar los 10 géneros con mayor popularidad promedio\n",
    "    top10_genres = genre_data.nlargest(10, 'popularity')\n",
    "    # Graficar las características promedio de los 10 géneros más populares\n",
    "    fig = px.bar(\n",
    "        top10_genres,\n",
    "        x='genre',\n",
    "        y=['valence', 'energy', 'danceability', 'acousticness'],\n",
    "        barmode='group',\n",
    "        title='Top 10 géneros más populares y sus características promedio'\n",
    "    )\n",
    "    fig.update_layout(\n",
    "        xaxis_title='Género',\n",
    "        yaxis_title='Valor promedio',\n",
    "        legend_title='Característica',\n",
    "        template='plotly_white'\n",
    "    )\n",
    "    fig.show()\n",
    "else:\n",
    "    print(\"No existe una columna 'genres'\")"
   ]
  },
  {
   "cell_type": "markdown",
   "id": "0f9d8c8b",
   "metadata": {},
   "source": [
    "# Creacion del modelo\n"
   ]
  },
  {
   "cell_type": "markdown",
   "id": "eedf56a0",
   "metadata": {},
   "source": [
    "## Similitud por K neighbors\n"
   ]
  },
  {
   "cell_type": "code",
   "execution_count": 10,
   "id": "c1d04df1",
   "metadata": {},
   "outputs": [
    {
     "data": {
      "text/html": [
       "<style>#sk-container-id-1 {\n",
       "  /* Definition of color scheme common for light and dark mode */\n",
       "  --sklearn-color-text: #000;\n",
       "  --sklearn-color-text-muted: #666;\n",
       "  --sklearn-color-line: gray;\n",
       "  /* Definition of color scheme for unfitted estimators */\n",
       "  --sklearn-color-unfitted-level-0: #fff5e6;\n",
       "  --sklearn-color-unfitted-level-1: #f6e4d2;\n",
       "  --sklearn-color-unfitted-level-2: #ffe0b3;\n",
       "  --sklearn-color-unfitted-level-3: chocolate;\n",
       "  /* Definition of color scheme for fitted estimators */\n",
       "  --sklearn-color-fitted-level-0: #f0f8ff;\n",
       "  --sklearn-color-fitted-level-1: #d4ebff;\n",
       "  --sklearn-color-fitted-level-2: #b3dbfd;\n",
       "  --sklearn-color-fitted-level-3: cornflowerblue;\n",
       "\n",
       "  /* Specific color for light theme */\n",
       "  --sklearn-color-text-on-default-background: var(--sg-text-color, var(--theme-code-foreground, var(--jp-content-font-color1, black)));\n",
       "  --sklearn-color-background: var(--sg-background-color, var(--theme-background, var(--jp-layout-color0, white)));\n",
       "  --sklearn-color-border-box: var(--sg-text-color, var(--theme-code-foreground, var(--jp-content-font-color1, black)));\n",
       "  --sklearn-color-icon: #696969;\n",
       "\n",
       "  @media (prefers-color-scheme: dark) {\n",
       "    /* Redefinition of color scheme for dark theme */\n",
       "    --sklearn-color-text-on-default-background: var(--sg-text-color, var(--theme-code-foreground, var(--jp-content-font-color1, white)));\n",
       "    --sklearn-color-background: var(--sg-background-color, var(--theme-background, var(--jp-layout-color0, #111)));\n",
       "    --sklearn-color-border-box: var(--sg-text-color, var(--theme-code-foreground, var(--jp-content-font-color1, white)));\n",
       "    --sklearn-color-icon: #878787;\n",
       "  }\n",
       "}\n",
       "\n",
       "#sk-container-id-1 {\n",
       "  color: var(--sklearn-color-text);\n",
       "}\n",
       "\n",
       "#sk-container-id-1 pre {\n",
       "  padding: 0;\n",
       "}\n",
       "\n",
       "#sk-container-id-1 input.sk-hidden--visually {\n",
       "  border: 0;\n",
       "  clip: rect(1px 1px 1px 1px);\n",
       "  clip: rect(1px, 1px, 1px, 1px);\n",
       "  height: 1px;\n",
       "  margin: -1px;\n",
       "  overflow: hidden;\n",
       "  padding: 0;\n",
       "  position: absolute;\n",
       "  width: 1px;\n",
       "}\n",
       "\n",
       "#sk-container-id-1 div.sk-dashed-wrapped {\n",
       "  border: 1px dashed var(--sklearn-color-line);\n",
       "  margin: 0 0.4em 0.5em 0.4em;\n",
       "  box-sizing: border-box;\n",
       "  padding-bottom: 0.4em;\n",
       "  background-color: var(--sklearn-color-background);\n",
       "}\n",
       "\n",
       "#sk-container-id-1 div.sk-container {\n",
       "  /* jupyter's `normalize.less` sets `[hidden] { display: none; }`\n",
       "     but bootstrap.min.css set `[hidden] { display: none !important; }`\n",
       "     so we also need the `!important` here to be able to override the\n",
       "     default hidden behavior on the sphinx rendered scikit-learn.org.\n",
       "     See: https://github.com/scikit-learn/scikit-learn/issues/21755 */\n",
       "  display: inline-block !important;\n",
       "  position: relative;\n",
       "}\n",
       "\n",
       "#sk-container-id-1 div.sk-text-repr-fallback {\n",
       "  display: none;\n",
       "}\n",
       "\n",
       "div.sk-parallel-item,\n",
       "div.sk-serial,\n",
       "div.sk-item {\n",
       "  /* draw centered vertical line to link estimators */\n",
       "  background-image: linear-gradient(var(--sklearn-color-text-on-default-background), var(--sklearn-color-text-on-default-background));\n",
       "  background-size: 2px 100%;\n",
       "  background-repeat: no-repeat;\n",
       "  background-position: center center;\n",
       "}\n",
       "\n",
       "/* Parallel-specific style estimator block */\n",
       "\n",
       "#sk-container-id-1 div.sk-parallel-item::after {\n",
       "  content: \"\";\n",
       "  width: 100%;\n",
       "  border-bottom: 2px solid var(--sklearn-color-text-on-default-background);\n",
       "  flex-grow: 1;\n",
       "}\n",
       "\n",
       "#sk-container-id-1 div.sk-parallel {\n",
       "  display: flex;\n",
       "  align-items: stretch;\n",
       "  justify-content: center;\n",
       "  background-color: var(--sklearn-color-background);\n",
       "  position: relative;\n",
       "}\n",
       "\n",
       "#sk-container-id-1 div.sk-parallel-item {\n",
       "  display: flex;\n",
       "  flex-direction: column;\n",
       "}\n",
       "\n",
       "#sk-container-id-1 div.sk-parallel-item:first-child::after {\n",
       "  align-self: flex-end;\n",
       "  width: 50%;\n",
       "}\n",
       "\n",
       "#sk-container-id-1 div.sk-parallel-item:last-child::after {\n",
       "  align-self: flex-start;\n",
       "  width: 50%;\n",
       "}\n",
       "\n",
       "#sk-container-id-1 div.sk-parallel-item:only-child::after {\n",
       "  width: 0;\n",
       "}\n",
       "\n",
       "/* Serial-specific style estimator block */\n",
       "\n",
       "#sk-container-id-1 div.sk-serial {\n",
       "  display: flex;\n",
       "  flex-direction: column;\n",
       "  align-items: center;\n",
       "  background-color: var(--sklearn-color-background);\n",
       "  padding-right: 1em;\n",
       "  padding-left: 1em;\n",
       "}\n",
       "\n",
       "\n",
       "/* Toggleable style: style used for estimator/Pipeline/ColumnTransformer box that is\n",
       "clickable and can be expanded/collapsed.\n",
       "- Pipeline and ColumnTransformer use this feature and define the default style\n",
       "- Estimators will overwrite some part of the style using the `sk-estimator` class\n",
       "*/\n",
       "\n",
       "/* Pipeline and ColumnTransformer style (default) */\n",
       "\n",
       "#sk-container-id-1 div.sk-toggleable {\n",
       "  /* Default theme specific background. It is overwritten whether we have a\n",
       "  specific estimator or a Pipeline/ColumnTransformer */\n",
       "  background-color: var(--sklearn-color-background);\n",
       "}\n",
       "\n",
       "/* Toggleable label */\n",
       "#sk-container-id-1 label.sk-toggleable__label {\n",
       "  cursor: pointer;\n",
       "  display: flex;\n",
       "  width: 100%;\n",
       "  margin-bottom: 0;\n",
       "  padding: 0.5em;\n",
       "  box-sizing: border-box;\n",
       "  text-align: center;\n",
       "  align-items: start;\n",
       "  justify-content: space-between;\n",
       "  gap: 0.5em;\n",
       "}\n",
       "\n",
       "#sk-container-id-1 label.sk-toggleable__label .caption {\n",
       "  font-size: 0.6rem;\n",
       "  font-weight: lighter;\n",
       "  color: var(--sklearn-color-text-muted);\n",
       "}\n",
       "\n",
       "#sk-container-id-1 label.sk-toggleable__label-arrow:before {\n",
       "  /* Arrow on the left of the label */\n",
       "  content: \"▸\";\n",
       "  float: left;\n",
       "  margin-right: 0.25em;\n",
       "  color: var(--sklearn-color-icon);\n",
       "}\n",
       "\n",
       "#sk-container-id-1 label.sk-toggleable__label-arrow:hover:before {\n",
       "  color: var(--sklearn-color-text);\n",
       "}\n",
       "\n",
       "/* Toggleable content - dropdown */\n",
       "\n",
       "#sk-container-id-1 div.sk-toggleable__content {\n",
       "  display: none;\n",
       "  text-align: left;\n",
       "  /* unfitted */\n",
       "  background-color: var(--sklearn-color-unfitted-level-0);\n",
       "}\n",
       "\n",
       "#sk-container-id-1 div.sk-toggleable__content.fitted {\n",
       "  /* fitted */\n",
       "  background-color: var(--sklearn-color-fitted-level-0);\n",
       "}\n",
       "\n",
       "#sk-container-id-1 div.sk-toggleable__content pre {\n",
       "  margin: 0.2em;\n",
       "  border-radius: 0.25em;\n",
       "  color: var(--sklearn-color-text);\n",
       "  /* unfitted */\n",
       "  background-color: var(--sklearn-color-unfitted-level-0);\n",
       "}\n",
       "\n",
       "#sk-container-id-1 div.sk-toggleable__content.fitted pre {\n",
       "  /* unfitted */\n",
       "  background-color: var(--sklearn-color-fitted-level-0);\n",
       "}\n",
       "\n",
       "#sk-container-id-1 input.sk-toggleable__control:checked~div.sk-toggleable__content {\n",
       "  /* Expand drop-down */\n",
       "  display: block;\n",
       "  width: 100%;\n",
       "  overflow: visible;\n",
       "}\n",
       "\n",
       "#sk-container-id-1 input.sk-toggleable__control:checked~label.sk-toggleable__label-arrow:before {\n",
       "  content: \"▾\";\n",
       "}\n",
       "\n",
       "/* Pipeline/ColumnTransformer-specific style */\n",
       "\n",
       "#sk-container-id-1 div.sk-label input.sk-toggleable__control:checked~label.sk-toggleable__label {\n",
       "  color: var(--sklearn-color-text);\n",
       "  background-color: var(--sklearn-color-unfitted-level-2);\n",
       "}\n",
       "\n",
       "#sk-container-id-1 div.sk-label.fitted input.sk-toggleable__control:checked~label.sk-toggleable__label {\n",
       "  background-color: var(--sklearn-color-fitted-level-2);\n",
       "}\n",
       "\n",
       "/* Estimator-specific style */\n",
       "\n",
       "/* Colorize estimator box */\n",
       "#sk-container-id-1 div.sk-estimator input.sk-toggleable__control:checked~label.sk-toggleable__label {\n",
       "  /* unfitted */\n",
       "  background-color: var(--sklearn-color-unfitted-level-2);\n",
       "}\n",
       "\n",
       "#sk-container-id-1 div.sk-estimator.fitted input.sk-toggleable__control:checked~label.sk-toggleable__label {\n",
       "  /* fitted */\n",
       "  background-color: var(--sklearn-color-fitted-level-2);\n",
       "}\n",
       "\n",
       "#sk-container-id-1 div.sk-label label.sk-toggleable__label,\n",
       "#sk-container-id-1 div.sk-label label {\n",
       "  /* The background is the default theme color */\n",
       "  color: var(--sklearn-color-text-on-default-background);\n",
       "}\n",
       "\n",
       "/* On hover, darken the color of the background */\n",
       "#sk-container-id-1 div.sk-label:hover label.sk-toggleable__label {\n",
       "  color: var(--sklearn-color-text);\n",
       "  background-color: var(--sklearn-color-unfitted-level-2);\n",
       "}\n",
       "\n",
       "/* Label box, darken color on hover, fitted */\n",
       "#sk-container-id-1 div.sk-label.fitted:hover label.sk-toggleable__label.fitted {\n",
       "  color: var(--sklearn-color-text);\n",
       "  background-color: var(--sklearn-color-fitted-level-2);\n",
       "}\n",
       "\n",
       "/* Estimator label */\n",
       "\n",
       "#sk-container-id-1 div.sk-label label {\n",
       "  font-family: monospace;\n",
       "  font-weight: bold;\n",
       "  display: inline-block;\n",
       "  line-height: 1.2em;\n",
       "}\n",
       "\n",
       "#sk-container-id-1 div.sk-label-container {\n",
       "  text-align: center;\n",
       "}\n",
       "\n",
       "/* Estimator-specific */\n",
       "#sk-container-id-1 div.sk-estimator {\n",
       "  font-family: monospace;\n",
       "  border: 1px dotted var(--sklearn-color-border-box);\n",
       "  border-radius: 0.25em;\n",
       "  box-sizing: border-box;\n",
       "  margin-bottom: 0.5em;\n",
       "  /* unfitted */\n",
       "  background-color: var(--sklearn-color-unfitted-level-0);\n",
       "}\n",
       "\n",
       "#sk-container-id-1 div.sk-estimator.fitted {\n",
       "  /* fitted */\n",
       "  background-color: var(--sklearn-color-fitted-level-0);\n",
       "}\n",
       "\n",
       "/* on hover */\n",
       "#sk-container-id-1 div.sk-estimator:hover {\n",
       "  /* unfitted */\n",
       "  background-color: var(--sklearn-color-unfitted-level-2);\n",
       "}\n",
       "\n",
       "#sk-container-id-1 div.sk-estimator.fitted:hover {\n",
       "  /* fitted */\n",
       "  background-color: var(--sklearn-color-fitted-level-2);\n",
       "}\n",
       "\n",
       "/* Specification for estimator info (e.g. \"i\" and \"?\") */\n",
       "\n",
       "/* Common style for \"i\" and \"?\" */\n",
       "\n",
       ".sk-estimator-doc-link,\n",
       "a:link.sk-estimator-doc-link,\n",
       "a:visited.sk-estimator-doc-link {\n",
       "  float: right;\n",
       "  font-size: smaller;\n",
       "  line-height: 1em;\n",
       "  font-family: monospace;\n",
       "  background-color: var(--sklearn-color-background);\n",
       "  border-radius: 1em;\n",
       "  height: 1em;\n",
       "  width: 1em;\n",
       "  text-decoration: none !important;\n",
       "  margin-left: 0.5em;\n",
       "  text-align: center;\n",
       "  /* unfitted */\n",
       "  border: var(--sklearn-color-unfitted-level-1) 1pt solid;\n",
       "  color: var(--sklearn-color-unfitted-level-1);\n",
       "}\n",
       "\n",
       ".sk-estimator-doc-link.fitted,\n",
       "a:link.sk-estimator-doc-link.fitted,\n",
       "a:visited.sk-estimator-doc-link.fitted {\n",
       "  /* fitted */\n",
       "  border: var(--sklearn-color-fitted-level-1) 1pt solid;\n",
       "  color: var(--sklearn-color-fitted-level-1);\n",
       "}\n",
       "\n",
       "/* On hover */\n",
       "div.sk-estimator:hover .sk-estimator-doc-link:hover,\n",
       ".sk-estimator-doc-link:hover,\n",
       "div.sk-label-container:hover .sk-estimator-doc-link:hover,\n",
       ".sk-estimator-doc-link:hover {\n",
       "  /* unfitted */\n",
       "  background-color: var(--sklearn-color-unfitted-level-3);\n",
       "  color: var(--sklearn-color-background);\n",
       "  text-decoration: none;\n",
       "}\n",
       "\n",
       "div.sk-estimator.fitted:hover .sk-estimator-doc-link.fitted:hover,\n",
       ".sk-estimator-doc-link.fitted:hover,\n",
       "div.sk-label-container:hover .sk-estimator-doc-link.fitted:hover,\n",
       ".sk-estimator-doc-link.fitted:hover {\n",
       "  /* fitted */\n",
       "  background-color: var(--sklearn-color-fitted-level-3);\n",
       "  color: var(--sklearn-color-background);\n",
       "  text-decoration: none;\n",
       "}\n",
       "\n",
       "/* Span, style for the box shown on hovering the info icon */\n",
       ".sk-estimator-doc-link span {\n",
       "  display: none;\n",
       "  z-index: 9999;\n",
       "  position: relative;\n",
       "  font-weight: normal;\n",
       "  right: .2ex;\n",
       "  padding: .5ex;\n",
       "  margin: .5ex;\n",
       "  width: min-content;\n",
       "  min-width: 20ex;\n",
       "  max-width: 50ex;\n",
       "  color: var(--sklearn-color-text);\n",
       "  box-shadow: 2pt 2pt 4pt #999;\n",
       "  /* unfitted */\n",
       "  background: var(--sklearn-color-unfitted-level-0);\n",
       "  border: .5pt solid var(--sklearn-color-unfitted-level-3);\n",
       "}\n",
       "\n",
       ".sk-estimator-doc-link.fitted span {\n",
       "  /* fitted */\n",
       "  background: var(--sklearn-color-fitted-level-0);\n",
       "  border: var(--sklearn-color-fitted-level-3);\n",
       "}\n",
       "\n",
       ".sk-estimator-doc-link:hover span {\n",
       "  display: block;\n",
       "}\n",
       "\n",
       "/* \"?\"-specific style due to the `<a>` HTML tag */\n",
       "\n",
       "#sk-container-id-1 a.estimator_doc_link {\n",
       "  float: right;\n",
       "  font-size: 1rem;\n",
       "  line-height: 1em;\n",
       "  font-family: monospace;\n",
       "  background-color: var(--sklearn-color-background);\n",
       "  border-radius: 1rem;\n",
       "  height: 1rem;\n",
       "  width: 1rem;\n",
       "  text-decoration: none;\n",
       "  /* unfitted */\n",
       "  color: var(--sklearn-color-unfitted-level-1);\n",
       "  border: var(--sklearn-color-unfitted-level-1) 1pt solid;\n",
       "}\n",
       "\n",
       "#sk-container-id-1 a.estimator_doc_link.fitted {\n",
       "  /* fitted */\n",
       "  border: var(--sklearn-color-fitted-level-1) 1pt solid;\n",
       "  color: var(--sklearn-color-fitted-level-1);\n",
       "}\n",
       "\n",
       "/* On hover */\n",
       "#sk-container-id-1 a.estimator_doc_link:hover {\n",
       "  /* unfitted */\n",
       "  background-color: var(--sklearn-color-unfitted-level-3);\n",
       "  color: var(--sklearn-color-background);\n",
       "  text-decoration: none;\n",
       "}\n",
       "\n",
       "#sk-container-id-1 a.estimator_doc_link.fitted:hover {\n",
       "  /* fitted */\n",
       "  background-color: var(--sklearn-color-fitted-level-3);\n",
       "}\n",
       "\n",
       ".estimator-table summary {\n",
       "    padding: .5rem;\n",
       "    font-family: monospace;\n",
       "    cursor: pointer;\n",
       "}\n",
       "\n",
       ".estimator-table details[open] {\n",
       "    padding-left: 0.1rem;\n",
       "    padding-right: 0.1rem;\n",
       "    padding-bottom: 0.3rem;\n",
       "}\n",
       "\n",
       ".estimator-table .parameters-table {\n",
       "    margin-left: auto !important;\n",
       "    margin-right: auto !important;\n",
       "}\n",
       "\n",
       ".estimator-table .parameters-table tr:nth-child(odd) {\n",
       "    background-color: #fff;\n",
       "}\n",
       "\n",
       ".estimator-table .parameters-table tr:nth-child(even) {\n",
       "    background-color: #f6f6f6;\n",
       "}\n",
       "\n",
       ".estimator-table .parameters-table tr:hover {\n",
       "    background-color: #e0e0e0;\n",
       "}\n",
       "\n",
       ".estimator-table table td {\n",
       "    border: 1px solid rgba(106, 105, 104, 0.232);\n",
       "}\n",
       "\n",
       ".user-set td {\n",
       "    color:rgb(255, 94, 0);\n",
       "    text-align: left;\n",
       "}\n",
       "\n",
       ".user-set td.value pre {\n",
       "    color:rgb(255, 94, 0) !important;\n",
       "    background-color: transparent !important;\n",
       "}\n",
       "\n",
       ".default td {\n",
       "    color: black;\n",
       "    text-align: left;\n",
       "}\n",
       "\n",
       ".user-set td i,\n",
       ".default td i {\n",
       "    color: black;\n",
       "}\n",
       "\n",
       ".copy-paste-icon {\n",
       "    background-image: url(data:image/svg+xml;base64,PHN2ZyB4bWxucz0iaHR0cDovL3d3dy53My5vcmcvMjAwMC9zdmciIHZpZXdCb3g9IjAgMCA0NDggNTEyIj48IS0tIUZvbnQgQXdlc29tZSBGcmVlIDYuNy4yIGJ5IEBmb250YXdlc29tZSAtIGh0dHBzOi8vZm9udGF3ZXNvbWUuY29tIExpY2Vuc2UgLSBodHRwczovL2ZvbnRhd2Vzb21lLmNvbS9saWNlbnNlL2ZyZWUgQ29weXJpZ2h0IDIwMjUgRm9udGljb25zLCBJbmMuLS0+PHBhdGggZD0iTTIwOCAwTDMzMi4xIDBjMTIuNyAwIDI0LjkgNS4xIDMzLjkgMTQuMWw2Ny45IDY3LjljOSA5IDE0LjEgMjEuMiAxNC4xIDMzLjlMNDQ4IDMzNmMwIDI2LjUtMjEuNSA0OC00OCA0OGwtMTkyIDBjLTI2LjUgMC00OC0yMS41LTQ4LTQ4bDAtMjg4YzAtMjYuNSAyMS41LTQ4IDQ4LTQ4ek00OCAxMjhsODAgMCAwIDY0LTY0IDAgMCAyNTYgMTkyIDAgMC0zMiA2NCAwIDAgNDhjMCAyNi41LTIxLjUgNDgtNDggNDhMNDggNTEyYy0yNi41IDAtNDgtMjEuNS00OC00OEwwIDE3NmMwLTI2LjUgMjEuNS00OCA0OC00OHoiLz48L3N2Zz4=);\n",
       "    background-repeat: no-repeat;\n",
       "    background-size: 14px 14px;\n",
       "    background-position: 0;\n",
       "    display: inline-block;\n",
       "    width: 14px;\n",
       "    height: 14px;\n",
       "    cursor: pointer;\n",
       "}\n",
       "</style><body><div id=\"sk-container-id-1\" class=\"sk-top-container\"><div class=\"sk-text-repr-fallback\"><pre>NearestNeighbors(metric=&#x27;euclidean&#x27;)</pre><b>In a Jupyter environment, please rerun this cell to show the HTML representation or trust the notebook. <br />On GitHub, the HTML representation is unable to render, please try loading this page with nbviewer.org.</b></div><div class=\"sk-container\" hidden><div class=\"sk-item\"><div class=\"sk-estimator fitted sk-toggleable\"><input class=\"sk-toggleable__control sk-hidden--visually\" id=\"sk-estimator-id-1\" type=\"checkbox\" checked><label for=\"sk-estimator-id-1\" class=\"sk-toggleable__label fitted sk-toggleable__label-arrow\"><div><div>NearestNeighbors</div></div><div><a class=\"sk-estimator-doc-link fitted\" rel=\"noreferrer\" target=\"_blank\" href=\"https://scikit-learn.org/1.7/modules/generated/sklearn.neighbors.NearestNeighbors.html\">?<span>Documentation for NearestNeighbors</span></a><span class=\"sk-estimator-doc-link fitted\">i<span>Fitted</span></span></div></label><div class=\"sk-toggleable__content fitted\" data-param-prefix=\"\">\n",
       "        <div class=\"estimator-table\">\n",
       "            <details>\n",
       "                <summary>Parameters</summary>\n",
       "                <table class=\"parameters-table\">\n",
       "                  <tbody>\n",
       "                    \n",
       "        <tr class=\"default\">\n",
       "            <td><i class=\"copy-paste-icon\"\n",
       "                 onclick=\"copyToClipboard('n_neighbors',\n",
       "                          this.parentElement.nextElementSibling)\"\n",
       "            ></i></td>\n",
       "            <td class=\"param\">n_neighbors&nbsp;</td>\n",
       "            <td class=\"value\">5</td>\n",
       "        </tr>\n",
       "    \n",
       "\n",
       "        <tr class=\"default\">\n",
       "            <td><i class=\"copy-paste-icon\"\n",
       "                 onclick=\"copyToClipboard('radius',\n",
       "                          this.parentElement.nextElementSibling)\"\n",
       "            ></i></td>\n",
       "            <td class=\"param\">radius&nbsp;</td>\n",
       "            <td class=\"value\">1.0</td>\n",
       "        </tr>\n",
       "    \n",
       "\n",
       "        <tr class=\"default\">\n",
       "            <td><i class=\"copy-paste-icon\"\n",
       "                 onclick=\"copyToClipboard('algorithm',\n",
       "                          this.parentElement.nextElementSibling)\"\n",
       "            ></i></td>\n",
       "            <td class=\"param\">algorithm&nbsp;</td>\n",
       "            <td class=\"value\">&#x27;auto&#x27;</td>\n",
       "        </tr>\n",
       "    \n",
       "\n",
       "        <tr class=\"default\">\n",
       "            <td><i class=\"copy-paste-icon\"\n",
       "                 onclick=\"copyToClipboard('leaf_size',\n",
       "                          this.parentElement.nextElementSibling)\"\n",
       "            ></i></td>\n",
       "            <td class=\"param\">leaf_size&nbsp;</td>\n",
       "            <td class=\"value\">30</td>\n",
       "        </tr>\n",
       "    \n",
       "\n",
       "        <tr class=\"user-set\">\n",
       "            <td><i class=\"copy-paste-icon\"\n",
       "                 onclick=\"copyToClipboard('metric',\n",
       "                          this.parentElement.nextElementSibling)\"\n",
       "            ></i></td>\n",
       "            <td class=\"param\">metric&nbsp;</td>\n",
       "            <td class=\"value\">&#x27;euclidean&#x27;</td>\n",
       "        </tr>\n",
       "    \n",
       "\n",
       "        <tr class=\"default\">\n",
       "            <td><i class=\"copy-paste-icon\"\n",
       "                 onclick=\"copyToClipboard('p',\n",
       "                          this.parentElement.nextElementSibling)\"\n",
       "            ></i></td>\n",
       "            <td class=\"param\">p&nbsp;</td>\n",
       "            <td class=\"value\">2</td>\n",
       "        </tr>\n",
       "    \n",
       "\n",
       "        <tr class=\"default\">\n",
       "            <td><i class=\"copy-paste-icon\"\n",
       "                 onclick=\"copyToClipboard('metric_params',\n",
       "                          this.parentElement.nextElementSibling)\"\n",
       "            ></i></td>\n",
       "            <td class=\"param\">metric_params&nbsp;</td>\n",
       "            <td class=\"value\">None</td>\n",
       "        </tr>\n",
       "    \n",
       "\n",
       "        <tr class=\"default\">\n",
       "            <td><i class=\"copy-paste-icon\"\n",
       "                 onclick=\"copyToClipboard('n_jobs',\n",
       "                          this.parentElement.nextElementSibling)\"\n",
       "            ></i></td>\n",
       "            <td class=\"param\">n_jobs&nbsp;</td>\n",
       "            <td class=\"value\">None</td>\n",
       "        </tr>\n",
       "    \n",
       "                  </tbody>\n",
       "                </table>\n",
       "            </details>\n",
       "        </div>\n",
       "    </div></div></div></div></div><script>function copyToClipboard(text, element) {\n",
       "    // Get the parameter prefix from the closest toggleable content\n",
       "    const toggleableContent = element.closest('.sk-toggleable__content');\n",
       "    const paramPrefix = toggleableContent ? toggleableContent.dataset.paramPrefix : '';\n",
       "    const fullParamName = paramPrefix ? `${paramPrefix}${text}` : text;\n",
       "\n",
       "    const originalStyle = element.style;\n",
       "    const computedStyle = window.getComputedStyle(element);\n",
       "    const originalWidth = computedStyle.width;\n",
       "    const originalHTML = element.innerHTML.replace('Copied!', '');\n",
       "\n",
       "    navigator.clipboard.writeText(fullParamName)\n",
       "        .then(() => {\n",
       "            element.style.width = originalWidth;\n",
       "            element.style.color = 'green';\n",
       "            element.innerHTML = \"Copied!\";\n",
       "\n",
       "            setTimeout(() => {\n",
       "                element.innerHTML = originalHTML;\n",
       "                element.style = originalStyle;\n",
       "            }, 2000);\n",
       "        })\n",
       "        .catch(err => {\n",
       "            console.error('Failed to copy:', err);\n",
       "            element.style.color = 'red';\n",
       "            element.innerHTML = \"Failed!\";\n",
       "            setTimeout(() => {\n",
       "                element.innerHTML = originalHTML;\n",
       "                element.style = originalStyle;\n",
       "            }, 2000);\n",
       "        });\n",
       "    return false;\n",
       "}\n",
       "\n",
       "document.querySelectorAll('.fa-regular.fa-copy').forEach(function(element) {\n",
       "    const toggleableContent = element.closest('.sk-toggleable__content');\n",
       "    const paramPrefix = toggleableContent ? toggleableContent.dataset.paramPrefix : '';\n",
       "    const paramName = element.parentElement.nextElementSibling.textContent.trim();\n",
       "    const fullParamName = paramPrefix ? `${paramPrefix}${paramName}` : paramName;\n",
       "\n",
       "    element.setAttribute('title', fullParamName);\n",
       "});\n",
       "</script></body>"
      ],
      "text/plain": [
       "NearestNeighbors(metric='euclidean')"
      ]
     },
     "execution_count": 10,
     "metadata": {},
     "output_type": "execute_result"
    }
   ],
   "source": [
    "from sklearn.preprocessing import StandardScaler\n",
    "from sklearn.neighbors import NearestNeighbors\n",
    "from sklearn.model_selection import train_test_split\n",
    "from sklearn.metrics import pairwise_distances\n",
    "\n",
    "# Seleccionar características numéricas relevantes\n",
    "features = [\n",
    "    'acousticness', 'danceability', 'energy', 'instrumentalness',\n",
    "    'liveness', 'loudness', 'speechiness', 'valence', 'tempo'\n",
    "]\n",
    "\n",
    "# Separar datos en train y test para evaluación\n",
    "train_data, test_data = train_test_split(data, test_size=0.2, random_state=42)\n",
    "\n",
    "# Escalar características\n",
    "scaler = StandardScaler()\n",
    "X_train = scaler.fit_transform(train_data[features])\n",
    "X_test = scaler.transform(test_data[features])\n",
    "\n",
    "# Crear y ajustar el modelo KNN\n",
    "knn = NearestNeighbors(n_neighbors=5, metric='euclidean')\n",
    "knn.fit(X_train)"
   ]
  },
  {
   "cell_type": "code",
   "execution_count": 11,
   "id": "b5d1ca14",
   "metadata": {},
   "outputs": [
    {
     "name": "stdout",
     "output_type": "stream",
     "text": [
      "Distancia euclidiana promedio entre test y recomendación: 0.2339\n"
     ]
    }
   ],
   "source": [
    "# Evaluar el modelo usando solo la distancia euclidiana promedio entre cada canción de test y su recomendada\n",
    "distancias = []\n",
    "\n",
    "for i, row in test_data.iterrows():\n",
    "    # Obtener el vector de la canción de test como DataFrame para mantener los nombres de columnas\n",
    "    test_vector = scaler.transform(pd.DataFrame([row[features]], columns=features))\n",
    "    distances_knn, indices = knn.kneighbors(test_vector)\n",
    "    similar_idx = indices[0][0]  # El más cercano en train_data\n",
    "    # Guardar la distancia euclidiana\n",
    "    distancias.append(distances_knn[0][0])\n",
    "\n",
    "distancia_media = np.mean(distancias) if distancias else 0\n",
    "print(f\"Distancia euclidiana promedio entre test y recomendación: {distancia_media:.4f}\")"
   ]
  },
  {
   "cell_type": "code",
   "execution_count": 13,
   "id": "533b1d77",
   "metadata": {},
   "outputs": [
    {
     "name": "stdout",
     "output_type": "stream",
     "text": [
      "Precisión@10: 0.9731\n",
      "Recall@10: 0.9731\n",
      "MAP: 0.9991\n",
      "NDCG@10: 0.9998\n"
     ]
    }
   ],
   "source": [
    "from sklearn.metrics import ndcg_score\n",
    "\n",
    "k = 10\n",
    "precisiones = []\n",
    "recalls = []\n",
    "average_precisions = []\n",
    "ndcgs = []\n",
    "\n",
    "for i, row in test_data.iterrows():\n",
    "    test_vector = scaler.transform(pd.DataFrame([row[features]], columns=features))\n",
    "    # Calcular distancias a todo el set de entrenamiento\n",
    "    dists = np.linalg.norm(X_train - test_vector, axis=1)\n",
    "    # Ordenar índices por distancia (de menor a mayor)\n",
    "    sorted_idx = np.argsort(dists)\n",
    "    # Definir las k canciones más cercanas como relevantes\n",
    "    relevancias = np.zeros(len(train_data))\n",
    "    relevancias[sorted_idx[:k]] = 1\n",
    "    # Obtener las k recomendaciones del modelo\n",
    "    distances_knn, indices = knn.kneighbors(test_vector, n_neighbors=k)\n",
    "    recommended_idx = indices[0]\n",
    "    # Relevancia de las recomendaciones\n",
    "    recommended_relevancias = relevancias[recommended_idx]\n",
    "    num_relevantes = k  # Por definición, hay k relevantes\n",
    "    # Precisión@k\n",
    "    precision = np.sum(recommended_relevancias) / k\n",
    "    precisiones.append(precision)\n",
    "    # Recall@k\n",
    "    recall = np.sum(recommended_relevancias) / num_relevantes if num_relevantes > 0 else 0\n",
    "    recalls.append(recall)\n",
    "    # MAP\n",
    "    if np.sum(recommended_relevancias) > 0:\n",
    "        ap = 0\n",
    "        hits = 0\n",
    "        for idx, rel in enumerate(recommended_relevancias, 1):\n",
    "            if rel:\n",
    "                hits += 1\n",
    "                ap += hits / idx\n",
    "        ap /= np.sum(recommended_relevancias)\n",
    "    else:\n",
    "        ap = 0\n",
    "    average_precisions.append(ap)\n",
    "    # NDCG\n",
    "    ndcg = ndcg_score([relevancias[recommended_idx]], [1 - distances_knn[0]])\n",
    "    ndcgs.append(ndcg)\n",
    "\n",
    "print(f\"Precisión@{k}: {np.mean(precisiones):.4f}\")\n",
    "print(f\"Recall@{k}: {np.mean(recalls):.4f}\")\n",
    "print(f\"MAP: {np.mean(average_precisions):.4f}\")\n",
    "print(f\"NDCG@{k}: {np.mean(ndcgs):.4f}\")"
   ]
  },
  {
   "cell_type": "markdown",
   "id": "21c5aa29",
   "metadata": {},
   "source": [
    "# Similitud con Clustering Kmeans\n"
   ]
  },
  {
   "cell_type": "markdown",
   "id": "5ecd428b",
   "metadata": {},
   "source": []
  }
 ],
 "metadata": {
  "kernelspec": {
   "display_name": "Python 3",
   "language": "python",
   "name": "python3"
  },
  "language_info": {
   "codemirror_mode": {
    "name": "ipython",
    "version": 3
   },
   "file_extension": ".py",
   "mimetype": "text/x-python",
   "name": "python",
   "nbconvert_exporter": "python",
   "pygments_lexer": "ipython3",
   "version": "3.11.0"
  }
 },
 "nbformat": 4,
 "nbformat_minor": 5
}
